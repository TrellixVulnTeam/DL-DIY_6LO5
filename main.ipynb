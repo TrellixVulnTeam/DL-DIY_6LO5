{
 "cells": [
  {
   "cell_type": "code",
   "metadata": {
    "cell_id": "d179447f-f86b-4489-bd1e-5fd020643f07",
    "tags": [],
    "deepnote_to_be_reexecuted": false,
    "source_hash": "a200f0b0",
    "execution_start": 1643314998624,
    "execution_millis": 6972,
    "deepnote_cell_type": "code"
   },
   "source": "!pip install statsmodels==0.13.1",
   "outputs": [
    {
     "name": "stdout",
     "text": "Collecting statsmodels==0.13.1\n  Downloading statsmodels-0.13.1-cp37-cp37m-manylinux_2_17_x86_64.manylinux2014_x86_64.whl (9.8 MB)\n\u001b[K     |████████████████████████████████| 9.8 MB 24.9 MB/s \n\u001b[?25hCollecting patsy>=0.5.2\n  Downloading patsy-0.5.2-py2.py3-none-any.whl (233 kB)\n\u001b[K     |████████████████████████████████| 233 kB 97.4 MB/s \n\u001b[?25hRequirement already satisfied: pandas>=0.25 in /shared-libs/python3.7/py/lib/python3.7/site-packages (from statsmodels==0.13.1) (1.2.5)\nRequirement already satisfied: numpy>=1.17 in /shared-libs/python3.7/py/lib/python3.7/site-packages (from statsmodels==0.13.1) (1.19.5)\nRequirement already satisfied: scipy>=1.3 in /shared-libs/python3.7/py/lib/python3.7/site-packages (from statsmodels==0.13.1) (1.7.3)\nRequirement already satisfied: six in /shared-libs/python3.7/py-core/lib/python3.7/site-packages (from patsy>=0.5.2->statsmodels==0.13.1) (1.16.0)\nRequirement already satisfied: pytz>=2017.3 in /shared-libs/python3.7/py/lib/python3.7/site-packages (from pandas>=0.25->statsmodels==0.13.1) (2021.3)\nRequirement already satisfied: python-dateutil>=2.7.3 in /shared-libs/python3.7/py-core/lib/python3.7/site-packages (from pandas>=0.25->statsmodels==0.13.1) (2.8.2)\nInstalling collected packages: patsy, statsmodels\nSuccessfully installed patsy-0.5.2 statsmodels-0.13.1\n\u001b[33mWARNING: You are using pip version 20.1.1; however, version 21.3.1 is available.\nYou should consider upgrading via the '/root/venv/bin/python -m pip install --upgrade pip' command.\u001b[0m\n",
     "output_type": "stream"
    }
   ],
   "execution_count": 2
  },
  {
   "cell_type": "code",
   "metadata": {
    "id": "k8rGhh8rbLhL",
    "executionInfo": {
     "status": "ok",
     "timestamp": 1643234098844,
     "user_tz": -60,
     "elapsed": 9206,
     "user": {
      "displayName": "Илья Шилов",
      "photoUrl": "https://lh3.googleusercontent.com/a/default-user=s64",
      "userId": "02218864198108755188"
     }
    },
    "cell_id": "24cbb873-2251-4328-a311-eb54c6f1b348",
    "deepnote_to_be_reexecuted": false,
    "source_hash": "e5aa5a5d",
    "execution_start": 1643315005510,
    "execution_millis": 3937,
    "deepnote_cell_type": "code"
   },
   "source": "import torch\nimport torch.nn as nn\nimport torch.nn.functional as F\nfrom matplotlib import pyplot as plt\nimport numpy as np\nimport pandas as pd\nimport seaborn as sns\nimport matplotlib.pyplot as plt\n\nfrom sklearn import preprocessing\nfrom statsmodels.tsa.arima.model import ARIMA",
   "outputs": [],
   "execution_count": 3
  },
  {
   "cell_type": "markdown",
   "source": "## Loading data",
   "metadata": {
    "id": "U9gWWU1fig28",
    "cell_id": "00001-d1b78aef-6f07-401e-af46-48a5d7aab597",
    "deepnote_cell_type": "markdown"
   }
  },
  {
   "cell_type": "code",
   "metadata": {
    "colab": {
     "base_uri": "https://localhost:8080/"
    },
    "id": "Of_V0fuOesvP",
    "executionInfo": {
     "status": "ok",
     "timestamp": 1643234099543,
     "user_tz": -60,
     "elapsed": 704,
     "user": {
      "displayName": "Илья Шилов",
      "photoUrl": "https://lh3.googleusercontent.com/a/default-user=s64",
      "userId": "02218864198108755188"
     }
    },
    "outputId": "bd25d8d7-fdb0-4cee-e3a8-a06594317c04",
    "cell_id": "00002-cd805097-a818-4f82-81e7-439bd6bb9e73",
    "deepnote_to_be_reexecuted": false,
    "source_hash": "b623e53d",
    "execution_start": 1643315009450,
    "execution_millis": 1,
    "deepnote_output_heights": [
     136.375
    ],
    "deepnote_cell_type": "code"
   },
   "source": "",
   "outputs": [],
   "execution_count": 3
  },
  {
   "cell_type": "code",
   "metadata": {
    "id": "fCdccWXx5bcQ",
    "executionInfo": {
     "status": "ok",
     "timestamp": 1643234099544,
     "user_tz": -60,
     "elapsed": 6,
     "user": {
      "displayName": "Илья Шилов",
      "photoUrl": "https://lh3.googleusercontent.com/a/default-user=s64",
      "userId": "02218864198108755188"
     }
    },
    "cell_id": "00003-863f5f4b-678a-4338-8029-331f18cceed5",
    "deepnote_to_be_reexecuted": false,
    "source_hash": "7ef3615c",
    "execution_start": 1643315009457,
    "execution_millis": 1,
    "deepnote_cell_type": "code"
   },
   "source": "def csv_preprocessing_local():\n    data_1 = pd.read_csv('ods001.csv', sep = ';')\n    data_2 = pd.read_csv('ods034.csv', sep = ';')\n    data_3 = pd.read_csv('ods035.csv', sep = ';')\n\n    data_1.rename({'DateTime' : 'Datetime'}, axis = 1, inplace=True)\n    data_2.rename({'Fuel code' : 'Fuel'}, axis = 1, inplace=True)\n\n    result_data = pd.merge(data_2, data_3, on = ['Datetime', 'Fuel'])\n    result_data = pd.merge(data_1, result_data, on = 'Datetime')\n    result_data.Datetime = pd.to_datetime(result_data.Datetime)\n    result_data.drop(['Resolution code', 'Resolution code_x', 'Resolution code_y'], axis = 1, inplace = True)\n    result_data['Datetime'] = pd.to_datetime(result_data['Datetime'], utc=True)\n    result_data.set_index('Datetime', inplace=True)\n\n    f = open(\"input_data.csv\", \"w\")\n\n    result_data.to_csv('input_data.csv')",
   "outputs": [],
   "execution_count": 4
  },
  {
   "cell_type": "code",
   "metadata": {
    "id": "k5bKRBOBgnaY",
    "executionInfo": {
     "status": "ok",
     "timestamp": 1643237632531,
     "user_tz": -60,
     "elapsed": 214,
     "user": {
      "displayName": "Илья Шилов",
      "photoUrl": "https://lh3.googleusercontent.com/a/default-user=s64",
      "userId": "02218864198108755188"
     }
    },
    "cell_id": "00004-5cab9e6d-fc18-4fc8-92e4-0ee50c716573",
    "deepnote_to_be_reexecuted": false,
    "source_hash": "9bf7a091",
    "execution_start": 1643315009464,
    "execution_millis": 0,
    "deepnote_cell_type": "code"
   },
   "source": "def data_loading_old():    \n    url_dict = {}\n    for year in range (2015, 2022):\n        url_dict.update({f'url_{year}' : f'https://raw.githubusercontent.com/ishilov/DL-DIY/master/day_ahead_prices_{year}.csv'})\n\n    train_data = pd.DataFrame([])\n\n    for _, url in list(url_dict.items())[:-2]:\n        train_data = pd.concat([train_data, pd.read_csv(url)]) if len(train_data) else pd.read_csv(url)\n\n    test_data = pd.read_csv(url_dict['url_2020'])\n\n    train_data['Datetime'] = pd.to_datetime(train_data['MTU (CET)'].astype(str).apply(lambda x: x[:16]), utc=True)\n    test_data['Datetime'] = pd.to_datetime(test_data['MTU (CET)'].astype(str).apply(lambda x: x[:16]), utc=True)\n\n    train_data.drop(['MTU (CET)'], axis = 1, inplace= True)\n    test_data.drop(['MTU (CET)'], axis = 1, inplace= True)\n    #train_data.set_index('Datetime', inplace= True)\n\n    exogeneous_data = pd.read_csv('https://raw.githubusercontent.com/ishilov/DL-DIY/master/input_data.csv')\n    date = pd.to_datetime('01.01.2020')\n\n    date_2 = pd.to_datetime('01.01.2021')\n    \n    exogeneous_data['Datetime'] = pd.to_datetime(exogeneous_data['Datetime'])\n\n    exogeneous_data.Datetime = exogeneous_data.Datetime.dt.tz_localize(None)\n    train_data.Datetime = train_data.Datetime.dt.tz_localize(None)\n    test_data.Datetime = test_data.Datetime.dt.tz_localize(None)\n\n    exogeneous_train = exogeneous_data[exogeneous_data.Datetime < date]\n    exogeneous_test = exogeneous_data[exogeneous_data.Datetime >= date]\n    exogeneous_test = exogeneous_test[exogeneous_test.Datetime < date_2]\n\n    #exogeneous_data.set_index('Datetime', inplace= True)\n\n    train_data = pd.merge(exogeneous_train, train_data, on = 'Datetime')\n    test_data = pd.merge(exogeneous_test, test_data, on = 'Datetime')\n\n    return train_data, test_data",
   "outputs": [],
   "execution_count": 5
  },
  {
   "cell_type": "code",
   "metadata": {
    "cell_id": "4537a754-6c3b-4ac2-bd2a-50d0b783edb5",
    "tags": [],
    "deepnote_to_be_reexecuted": false,
    "source_hash": "11557772",
    "execution_start": 1643315403895,
    "execution_millis": 1,
    "deepnote_output_heights": [
     21.1875
    ],
    "deepnote_cell_type": "code"
   },
   "source": "def data_loading():\n    train_data_be_prices, test_data_be_prices = pd.DataFrame([]), pd.DataFrame([])\n    train_data_fr_prices, test_data_fr_prices = pd.DataFrame([]), pd.DataFrame([])\n    train_data_be_load, test_data_be_load = pd.DataFrame([]), pd.DataFrame([])\n    train_data_be_generation, test_data_be_generation = pd.DataFrame([]), pd.DataFrame([])\n\n    #first we load all the data from the github\n\n    url_dict_be_prices, url_dict_fr_prices, url_dict_be_load, url_dict_be_generation  = {}, {}, {}, {}\n    for year in range (2015, 2022):\n        url_dict_be_prices.update({f'url_{year}' : f'https://raw.githubusercontent.com/ishilov/DL-DIY/master/day_ahead_prices_{year}.csv'})\n        url_dict_fr_prices.update({f'url_{year}' : f'https://raw.githubusercontent.com/ishilov/DL-DIY/master/france_prices/Day_ahead_Prices_{year}_france.csv'})\n        url_dict_be_load.update({f'url_{year}' : f'https://raw.githubusercontent.com/ishilov/DL-DIY/master/load_data_belgium/Total%20Load_Day%20Ahead_%20Actual_{year}.csv'})\n        url_dict_be_generation.update({f'url_{year}' : f'https://raw.githubusercontent.com/ishilov/DL-DIY/master/actual_generation_belgium/Actual_Generation_per_Production_Type_{year}.csv'})\n\n    #for the training dataset we take 2015-2019 (or 2020) and for the test 2020 (or 2021)\n    #take the belgian prices\n    for _, url in list(url_dict_be_prices.items())[:-2]:\n        train_data_be_prices = pd.concat([train_data_be_prices, pd.read_csv(url)], ignore_index=True) if len(train_data_be_prices) else pd.read_csv(url)\n\n    test_data_be_prices = pd.read_csv(url_dict_be_prices['url_2020'])\n\n    train_data_be_prices['Datetime'] = pd.to_datetime(train_data_be_prices['MTU (CET)'].astype(str).apply(lambda x: x[:16]), utc=True)\n    test_data_be_prices['Datetime'] = pd.to_datetime(test_data_be_prices['MTU (CET)'].astype(str).apply(lambda x: x[:16]), utc=True)\n\n    train_data_be_prices.drop(['MTU (CET)'], axis = 1, inplace= True)\n    test_data_be_prices.drop(['MTU (CET)'], axis = 1, inplace= True)\n\n    train_data_be_prices.rename({'Day-ahead Price [EUR/MWh]' : 'Prices Belgium'}, axis = 1, inplace = True)\n    test_data_be_prices.rename({'Day-ahead Price [EUR/MWh]' : 'Prices Belgium'}, axis = 1, inplace = True)\n\n    #take the france prices\n    for _, url in list(url_dict_fr_prices.items())[:-2]:\n        train_data_fr_prices = pd.concat([train_data_fr_prices, pd.read_csv(url)], ignore_index=True) if len(train_data_fr_prices) else pd.read_csv(url)\n\n    test_data_fr_prices = pd.read_csv(url_dict_fr_prices['url_2020'])\n\n    train_data_fr_prices['Datetime'] = pd.to_datetime(train_data_fr_prices['MTU (CET)'].astype(str).apply(lambda x: x[:16]), utc=True)\n    test_data_fr_prices['Datetime'] = pd.to_datetime(test_data_fr_prices['MTU (CET)'].astype(str).apply(lambda x: x[:16]), utc=True)\n\n    train_data_fr_prices.drop(['MTU (CET)'], axis = 1, inplace= True)\n    test_data_fr_prices.drop(['MTU (CET)'], axis = 1, inplace= True)\n\n    train_data_fr_prices.rename({'Day-ahead Price [EUR/MWh]' : 'Prices France'}, axis = 1, inplace = True)\n    test_data_fr_prices.rename({'Day-ahead Price [EUR/MWh]' : 'Prices France'}, axis = 1, inplace = True)\n\n    #take belgian load\n    for _, url in list(url_dict_be_load.items())[:-2]:\n        train_data_be_load = pd.concat([train_data_be_load, pd.read_csv(url)], ignore_index=True) if len(train_data_be_load) else pd.read_csv(url)\n\n    test_data_be_load = pd.read_csv(url_dict_be_load['url_2020'])\n\n    train_data_be_load['Datetime'] = pd.to_datetime(train_data_be_load['Time (CET)'].astype(str).apply(lambda x: x[:16]), utc=True)\n    test_data_be_load['Datetime'] = pd.to_datetime(test_data_be_load['Time (CET)'].astype(str).apply(lambda x: x[:16]), utc=True)\n\n    train_data_be_load.drop(['Time (CET)'], axis = 1, inplace= True)\n    test_data_be_load.drop(['Time (CET)'], axis = 1, inplace= True)\n\n    #take_belgian_generation\n    for _, url in list(url_dict_be_generation.items())[:-2]:\n        train_data_be_generation = pd.concat([train_data_be_generation, pd.read_csv(url)], ignore_index=True) if len(train_data_be_generation) else pd.read_csv(url)\n\n    test_data_be_generation = pd.read_csv(url_dict_be_generation['url_2020'])  \n\n    train_data_be_generation['Datetime'] = pd.to_datetime(train_data_be_generation['MTU'].astype(str).apply(lambda x: x[:16]), utc=True)\n    test_data_be_generation['Datetime'] = pd.to_datetime(test_data_be_generation['MTU'].astype(str).apply(lambda x: x[:16]), utc=True)\n\n    train_data_be_generation.drop(['MTU'], axis = 1, inplace= True)\n    test_data_be_generation.drop(['MTU'], axis = 1, inplace= True)\n\n    #aggregating the load\n\n    train_data_be_load = train_data_be_load.groupby(train_data_be_load.index // 4).sum()\n    train_data_be_load['Datetime'] = train_data_be_generation.Datetime\n\n    test_data_be_load = test_data_be_load.groupby(test_data_be_load.index // 4).sum()\n    test_data_be_load['Datetime'] = test_data_be_generation.Datetime\n\n    result_train = pd.merge(train_data_fr_prices, train_data_be_prices, on='Datetime')\n    result_train = pd.merge(result_train, train_data_be_generation, on = 'Datetime')\n    result_train = pd.merge(result_train, train_data_be_load, on = 'Datetime')\n\n    result_test = pd.merge(test_data_fr_prices, test_data_be_prices, on='Datetime')\n    result_test = pd.merge(result_test, test_data_be_generation, on = 'Datetime')\n    result_test = pd.merge(result_test, test_data_be_load, on = 'Datetime')\n\n    #last changes \n    result_train.drop(['BZN|FR', 'Area'], axis = 1, inplace = True)\n    result_test.drop(['BZN|FR', 'Area'], axis = 1, inplace = True)\n\n    empty_cols = ['Fossil Brown coal/Lignite  - Actual Aggregated [MW]', 'Fossil Coal-derived gas  - Actual Aggregated [MW]', \n                'Fossil Oil shale  - Actual Aggregated [MW]', 'Fossil Peat  - Actual Aggregated [MW]', 'Geothermal  - Actual Aggregated [MW]', \n                'Hydro Water Reservoir  - Actual Aggregated [MW]', 'Marine  - Actual Aggregated [MW]', 'Other renewable  - Actual Aggregated [MW]']\n\n    result_train.drop(empty_cols, axis = 1, inplace = True)\n    result_test.drop(empty_cols, axis = 1, inplace = True)\n\n    result_train.dropna(axis=0, inplace = True)\n    result_test.dropna(axis=0, inplace = True)\n\n    train_data.replace('n/e', 0, inplace = True)\n    test_data.replace('n/e', 0, inplace = True)\n\n    return result_train, result_test\n\n",
   "outputs": [],
   "execution_count": 28
  },
  {
   "cell_type": "code",
   "metadata": {
    "cell_id": "107e059e-cf42-4d61-ae72-7edcd61a28e6",
    "tags": [],
    "deepnote_to_be_reexecuted": false,
    "source_hash": "125ba67e",
    "execution_start": 1643315404439,
    "execution_millis": 31966,
    "deepnote_output_heights": [
     1
    ],
    "deepnote_cell_type": "code"
   },
   "source": "train_data, test_data = data_loading()",
   "outputs": [],
   "execution_count": 29
  },
  {
   "cell_type": "code",
   "metadata": {
    "cell_id": "f140bea7-ae05-423b-944d-ac2fd53dbfc4",
    "tags": [],
    "deepnote_to_be_reexecuted": false,
    "source_hash": "dc669d3a",
    "execution_start": 1643315042859,
    "execution_millis": 209,
    "deepnote_cell_type": "code"
   },
   "source": "train_data",
   "outputs": [
    {
     "output_type": "execute_result",
     "execution_count": 8,
     "data": {
      "application/vnd.deepnote.dataframe.v3+json": {
       "column_count": 18,
       "row_count": 7272,
       "columns": [
        {
         "name": "Prices France",
         "dtype": "float64",
         "stats": {
          "unique_count": 3921,
          "nan_count": 0,
          "min": "-4.05",
          "max": "147.47",
          "histogram": [
           {
            "bin_start": -4.05,
            "bin_end": 11.102,
            "count": 63
           },
           {
            "bin_start": 11.102,
            "bin_end": 26.254,
            "count": 697
           },
           {
            "bin_start": 26.254,
            "bin_end": 41.406000000000006,
            "count": 2908
           },
           {
            "bin_start": 41.406000000000006,
            "bin_end": 56.55800000000001,
            "count": 2258
           },
           {
            "bin_start": 56.55800000000001,
            "bin_end": 71.71000000000001,
            "count": 991
           },
           {
            "bin_start": 71.71000000000001,
            "bin_end": 86.86200000000001,
            "count": 269
           },
           {
            "bin_start": 86.86200000000001,
            "bin_end": 102.01400000000001,
            "count": 55
           },
           {
            "bin_start": 102.01400000000001,
            "bin_end": 117.16600000000001,
            "count": 23
           },
           {
            "bin_start": 117.16600000000001,
            "bin_end": 132.31799999999998,
            "count": 7
           },
           {
            "bin_start": 132.31799999999998,
            "bin_end": 147.47,
            "count": 1
           }
          ]
         }
        },
        {
         "name": "Datetime",
         "dtype": "datetime64[ns, UTC]",
         "stats": {
          "unique_count": 7272,
          "nan_count": 0,
          "min": "2015-01-02 09:00:00+00:00",
          "max": "2019-12-31 20:00:00+00:00",
          "histogram": [
           {
            "bin_start": 1420189200000000000,
            "bin_end": 1435952520000000000,
            "count": 736
           },
           {
            "bin_start": 1435952520000000000,
            "bin_end": 1451715840000000000,
            "count": 695
           },
           {
            "bin_start": 1451715840000000000,
            "bin_end": 1467479160000000000,
            "count": 689
           },
           {
            "bin_start": 1467479160000000000,
            "bin_end": 1483242480000000000,
            "count": 695
           },
           {
            "bin_start": 1483242480000000000,
            "bin_end": 1499005800000000000,
            "count": 747
           },
           {
            "bin_start": 1499005800000000000,
            "bin_end": 1514769120000000000,
            "count": 716
           },
           {
            "bin_start": 1514769120000000000,
            "bin_end": 1530532440000000000,
            "count": 689
           },
           {
            "bin_start": 1530532440000000000,
            "bin_end": 1546295760000000000,
            "count": 710
           },
           {
            "bin_start": 1546295760000000000,
            "bin_end": 1562059080000000000,
            "count": 801
           },
           {
            "bin_start": 1562059080000000000,
            "bin_end": 1577822400000000000,
            "count": 794
           }
          ]
         }
        },
        {
         "name": "Prices Belgium",
         "dtype": "float64",
         "stats": {
          "unique_count": 3860,
          "nan_count": 0,
          "min": "-200.0",
          "max": "257.55",
          "histogram": [
           {
            "bin_start": -200,
            "bin_end": -154.245,
            "count": 1
           },
           {
            "bin_start": -154.245,
            "bin_end": -108.49,
            "count": 0
           },
           {
            "bin_start": -108.49,
            "bin_end": -62.734999999999985,
            "count": 0
           },
           {
            "bin_start": -62.734999999999985,
            "bin_end": -16.97999999999999,
            "count": 3
           },
           {
            "bin_start": -16.97999999999999,
            "bin_end": 28.775000000000006,
            "count": 868
           },
           {
            "bin_start": 28.775000000000006,
            "bin_end": 74.53000000000003,
            "count": 6014
           },
           {
            "bin_start": 74.53000000000003,
            "bin_end": 120.28500000000003,
            "count": 362
           },
           {
            "bin_start": 120.28500000000003,
            "bin_end": 166.04000000000002,
            "count": 21
           },
           {
            "bin_start": 166.04000000000002,
            "bin_end": 211.79500000000002,
            "count": 1
           },
           {
            "bin_start": 211.79500000000002,
            "bin_end": 257.55,
            "count": 2
           }
          ]
         }
        },
        {
         "name": "Biomass  - Actual Aggregated [MW]",
         "dtype": "float64",
         "stats": {
          "unique_count": 348,
          "nan_count": 0,
          "min": "20.0",
          "max": "395.0",
          "histogram": [
           {
            "bin_start": 20,
            "bin_end": 57.5,
            "count": 90
           },
           {
            "bin_start": 57.5,
            "bin_end": 95,
            "count": 215
           },
           {
            "bin_start": 95,
            "bin_end": 132.5,
            "count": 160
           },
           {
            "bin_start": 132.5,
            "bin_end": 170,
            "count": 660
           },
           {
            "bin_start": 170,
            "bin_end": 207.5,
            "count": 82
           },
           {
            "bin_start": 207.5,
            "bin_end": 245,
            "count": 198
           },
           {
            "bin_start": 245,
            "bin_end": 282.5,
            "count": 1396
           },
           {
            "bin_start": 282.5,
            "bin_end": 320,
            "count": 532
           },
           {
            "bin_start": 320,
            "bin_end": 357.5,
            "count": 2722
           },
           {
            "bin_start": 357.5,
            "bin_end": 395,
            "count": 1217
           }
          ]
         }
        },
        {
         "name": "Fossil Gas  - Actual Aggregated [MW]",
         "dtype": "float64",
         "stats": {
          "unique_count": 2938,
          "nan_count": 0,
          "min": "887.0",
          "max": "5131.0",
          "histogram": [
           {
            "bin_start": 887,
            "bin_end": 1311.4,
            "count": 197
           },
           {
            "bin_start": 1311.4,
            "bin_end": 1735.8,
            "count": 1292
           },
           {
            "bin_start": 1735.8,
            "bin_end": 2160.2,
            "count": 1359
           },
           {
            "bin_start": 2160.2,
            "bin_end": 2584.6,
            "count": 1163
           },
           {
            "bin_start": 2584.6,
            "bin_end": 3009,
            "count": 926
           },
           {
            "bin_start": 3009,
            "bin_end": 3433.3999999999996,
            "count": 858
           },
           {
            "bin_start": 3433.3999999999996,
            "bin_end": 3857.7999999999997,
            "count": 729
           },
           {
            "bin_start": 3857.7999999999997,
            "bin_end": 4282.2,
            "count": 433
           },
           {
            "bin_start": 4282.2,
            "bin_end": 4706.6,
            "count": 249
           },
           {
            "bin_start": 4706.6,
            "bin_end": 5131,
            "count": 66
           }
          ]
         }
        },
        {
         "name": "Fossil Hard coal  - Actual Aggregated [MW]",
         "dtype": "object",
         "stats": {
          "unique_count": 282,
          "nan_count": 0,
          "categories": [
           {
            "name": "0.0",
            "count": 2960
           },
           {
            "name": "0",
            "count": 2060
           },
           {
            "name": "280 others",
            "count": 2252
           }
          ]
         }
        },
        {
         "name": "Fossil Oil  - Actual Aggregated [MW]",
         "dtype": "float64",
         "stats": {
          "unique_count": 51,
          "nan_count": 0,
          "min": "0.0",
          "max": "168.0",
          "histogram": [
           {
            "bin_start": 0,
            "bin_end": 16.8,
            "count": 7224
           },
           {
            "bin_start": 16.8,
            "bin_end": 33.6,
            "count": 13
           },
           {
            "bin_start": 33.6,
            "bin_end": 50.400000000000006,
            "count": 10
           },
           {
            "bin_start": 50.400000000000006,
            "bin_end": 67.2,
            "count": 5
           },
           {
            "bin_start": 67.2,
            "bin_end": 84,
            "count": 7
           },
           {
            "bin_start": 84,
            "bin_end": 100.80000000000001,
            "count": 2
           },
           {
            "bin_start": 100.80000000000001,
            "bin_end": 117.60000000000001,
            "count": 6
           },
           {
            "bin_start": 117.60000000000001,
            "bin_end": 134.4,
            "count": 1
           },
           {
            "bin_start": 134.4,
            "bin_end": 151.20000000000002,
            "count": 1
           },
           {
            "bin_start": 151.20000000000002,
            "bin_end": 168,
            "count": 3
           }
          ]
         }
        },
        {
         "name": "Hydro Pumped Storage  - Actual Aggregated [MW]",
         "dtype": "float64",
         "stats": {
          "unique_count": 236,
          "nan_count": 0,
          "min": "0.0",
          "max": "509.0",
          "histogram": [
           {
            "bin_start": 0,
            "bin_end": 50.9,
            "count": 4756
           },
           {
            "bin_start": 50.9,
            "bin_end": 101.8,
            "count": 1882
           },
           {
            "bin_start": 101.8,
            "bin_end": 152.7,
            "count": 458
           },
           {
            "bin_start": 152.7,
            "bin_end": 203.6,
            "count": 124
           },
           {
            "bin_start": 203.6,
            "bin_end": 254.5,
            "count": 34
           },
           {
            "bin_start": 254.5,
            "bin_end": 305.4,
            "count": 10
           },
           {
            "bin_start": 305.4,
            "bin_end": 356.3,
            "count": 5
           },
           {
            "bin_start": 356.3,
            "bin_end": 407.2,
            "count": 1
           },
           {
            "bin_start": 407.2,
            "bin_end": 458.09999999999997,
            "count": 1
           },
           {
            "bin_start": 458.09999999999997,
            "bin_end": 509,
            "count": 1
           }
          ]
         }
        },
        {
         "name": "Hydro Pumped Storage  - Actual Consumption [MW]",
         "dtype": "float64",
         "stats": {
          "unique_count": 222,
          "nan_count": 0,
          "min": "0.0",
          "max": "370.0",
          "histogram": [
           {
            "bin_start": 0,
            "bin_end": 37,
            "count": 6176
           },
           {
            "bin_start": 37,
            "bin_end": 74,
            "count": 576
           },
           {
            "bin_start": 74,
            "bin_end": 111,
            "count": 267
           },
           {
            "bin_start": 111,
            "bin_end": 148,
            "count": 132
           },
           {
            "bin_start": 148,
            "bin_end": 185,
            "count": 66
           },
           {
            "bin_start": 185,
            "bin_end": 222,
            "count": 28
           },
           {
            "bin_start": 222,
            "bin_end": 259,
            "count": 13
           },
           {
            "bin_start": 259,
            "bin_end": 296,
            "count": 7
           },
           {
            "bin_start": 296,
            "bin_end": 333,
            "count": 5
           },
           {
            "bin_start": 333,
            "bin_end": 370,
            "count": 2
           }
          ]
         }
        },
        {
         "name": "Hydro Run-of-river and poundage  - Actual Aggregated [MW]",
         "dtype": "float64",
         "stats": {
          "unique_count": 47,
          "nan_count": 0,
          "min": "0.0",
          "max": "46.0",
          "histogram": [
           {
            "bin_start": 0,
            "bin_end": 4.6,
            "count": 1469
           },
           {
            "bin_start": 4.6,
            "bin_end": 9.2,
            "count": 1241
           },
           {
            "bin_start": 9.2,
            "bin_end": 13.799999999999999,
            "count": 539
           },
           {
            "bin_start": 13.799999999999999,
            "bin_end": 18.4,
            "count": 545
           },
           {
            "bin_start": 18.4,
            "bin_end": 23,
            "count": 375
           },
           {
            "bin_start": 23,
            "bin_end": 27.599999999999998,
            "count": 599
           },
           {
            "bin_start": 27.599999999999998,
            "bin_end": 32.199999999999996,
            "count": 742
           },
           {
            "bin_start": 32.199999999999996,
            "bin_end": 36.8,
            "count": 639
           },
           {
            "bin_start": 36.8,
            "bin_end": 41.4,
            "count": 790
           },
           {
            "bin_start": 41.4,
            "bin_end": 46,
            "count": 333
           }
          ]
         }
        },
        {
         "name": "Nuclear  - Actual Aggregated [MW]",
         "dtype": "float64",
         "stats": {
          "unique_count": 1979,
          "nan_count": 0,
          "min": "1005.0",
          "max": "5984.0",
          "histogram": [
           {
            "bin_start": 1005,
            "bin_end": 1502.9,
            "count": 266
           },
           {
            "bin_start": 1502.9,
            "bin_end": 2000.8,
            "count": 355
           },
           {
            "bin_start": 2000.8,
            "bin_end": 2498.7,
            "count": 598
           },
           {
            "bin_start": 2498.7,
            "bin_end": 2996.6,
            "count": 427
           },
           {
            "bin_start": 2996.6,
            "bin_end": 3494.5,
            "count": 834
           },
           {
            "bin_start": 3494.5,
            "bin_end": 3992.3999999999996,
            "count": 948
           },
           {
            "bin_start": 3992.3999999999996,
            "bin_end": 4490.299999999999,
            "count": 586
           },
           {
            "bin_start": 4490.299999999999,
            "bin_end": 4988.2,
            "count": 1743
           },
           {
            "bin_start": 4988.2,
            "bin_end": 5486.099999999999,
            "count": 739
           },
           {
            "bin_start": 5486.099999999999,
            "bin_end": 5984,
            "count": 776
           }
          ]
         }
        },
        {
         "name": "Other  - Actual Aggregated [MW]",
         "dtype": "float64",
         "stats": {
          "unique_count": 625,
          "nan_count": 0,
          "min": "235.0",
          "max": "898.0",
          "histogram": [
           {
            "bin_start": 235,
            "bin_end": 301.3,
            "count": 89
           },
           {
            "bin_start": 301.3,
            "bin_end": 367.6,
            "count": 349
           },
           {
            "bin_start": 367.6,
            "bin_end": 433.9,
            "count": 442
           },
           {
            "bin_start": 433.9,
            "bin_end": 500.2,
            "count": 546
           },
           {
            "bin_start": 500.2,
            "bin_end": 566.5,
            "count": 799
           },
           {
            "bin_start": 566.5,
            "bin_end": 632.8,
            "count": 1310
           },
           {
            "bin_start": 632.8,
            "bin_end": 699.0999999999999,
            "count": 1534
           },
           {
            "bin_start": 699.0999999999999,
            "bin_end": 765.4,
            "count": 1314
           },
           {
            "bin_start": 765.4,
            "bin_end": 831.6999999999999,
            "count": 703
           },
           {
            "bin_start": 831.6999999999999,
            "bin_end": 898,
            "count": 186
           }
          ]
         }
        },
        {
         "name": "Solar  - Actual Aggregated [MW]",
         "dtype": "float64",
         "stats": {
          "unique_count": 1618,
          "nan_count": 0,
          "min": "0.0",
          "max": "2708.0",
          "histogram": [
           {
            "bin_start": 0,
            "bin_end": 270.8,
            "count": 4561
           },
           {
            "bin_start": 270.8,
            "bin_end": 541.6,
            "count": 747
           },
           {
            "bin_start": 541.6,
            "bin_end": 812.4000000000001,
            "count": 528
           },
           {
            "bin_start": 812.4000000000001,
            "bin_end": 1083.2,
            "count": 428
           },
           {
            "bin_start": 1083.2,
            "bin_end": 1354,
            "count": 380
           },
           {
            "bin_start": 1354,
            "bin_end": 1624.8000000000002,
            "count": 282
           },
           {
            "bin_start": 1624.8000000000002,
            "bin_end": 1895.6000000000001,
            "count": 175
           },
           {
            "bin_start": 1895.6000000000001,
            "bin_end": 2166.4,
            "count": 129
           },
           {
            "bin_start": 2166.4,
            "bin_end": 2437.2000000000003,
            "count": 35
           },
           {
            "bin_start": 2437.2000000000003,
            "bin_end": 2708,
            "count": 7
           }
          ]
         }
        },
        {
         "name": "Waste  - Actual Aggregated [MW]",
         "dtype": "float64"
        },
        {
         "name": "Wind Offshore  - Actual Aggregated [MW]",
         "dtype": "float64"
        },
        {
         "name": "Wind Onshore  - Actual Aggregated [MW]",
         "dtype": "float64"
        },
        {
         "name": "Day-ahead Total Load Forecast [MW] - CTA|BE",
         "dtype": "float64"
        },
        {
         "name": "Actual Total Load [MW] - CTA|BE",
         "dtype": "float64"
        },
        {
         "name": "_deepnote_index_column",
         "dtype": "int64"
        }
       ],
       "rows": [
        {
         "Prices France": 50.6,
         "Datetime": "2015-05-01T10:00:00.000000",
         "Prices Belgium": 50.6,
         "Biomass  - Actual Aggregated [MW]": 225,
         "Fossil Gas  - Actual Aggregated [MW]": 3612,
         "Fossil Hard coal  - Actual Aggregated [MW]": "433.0",
         "Fossil Oil  - Actual Aggregated [MW]": 0,
         "Hydro Pumped Storage  - Actual Aggregated [MW]": 3,
         "Hydro Pumped Storage  - Actual Consumption [MW]": 0,
         "Hydro Run-of-river and poundage  - Actual Aggregated [MW]": 34,
         "Nuclear  - Actual Aggregated [MW]": 3909,
         "Other  - Actual Aggregated [MW]": 755,
         "Solar  - Actual Aggregated [MW]": 310,
         "Waste  - Actual Aggregated [MW]": 264,
         "Wind Offshore  - Actual Aggregated [MW]": 235,
         "Wind Onshore  - Actual Aggregated [MW]": 289,
         "Day-ahead Total Load Forecast [MW] - CTA|BE": 46081,
         "Actual Total Load [MW] - CTA|BE": 50508,
         "_deepnote_index_column": 106
        },
        {
         "Prices France": 43.1,
         "Datetime": "2015-05-01T15:00:00.000000",
         "Prices Belgium": 43.1,
         "Biomass  - Actual Aggregated [MW]": 280,
         "Fossil Gas  - Actual Aggregated [MW]": 3667,
         "Fossil Hard coal  - Actual Aggregated [MW]": "436.0",
         "Fossil Oil  - Actual Aggregated [MW]": 0,
         "Hydro Pumped Storage  - Actual Aggregated [MW]": 25,
         "Hydro Pumped Storage  - Actual Consumption [MW]": 0,
         "Hydro Run-of-river and poundage  - Actual Aggregated [MW]": 38,
         "Nuclear  - Actual Aggregated [MW]": 3909,
         "Other  - Actual Aggregated [MW]": 723,
         "Solar  - Actual Aggregated [MW]": 259,
         "Waste  - Actual Aggregated [MW]": 270,
         "Wind Offshore  - Actual Aggregated [MW]": 163,
         "Wind Onshore  - Actual Aggregated [MW]": 90,
         "Day-ahead Total Load Forecast [MW] - CTA|BE": 45938,
         "Actual Total Load [MW] - CTA|BE": 49275,
         "_deepnote_index_column": 111
        },
        {
         "Prices France": 49.53,
         "Datetime": "2015-06-01T08:00:00.000000",
         "Prices Belgium": 49.53,
         "Biomass  - Actual Aggregated [MW]": 274,
         "Fossil Gas  - Actual Aggregated [MW]": 3695,
         "Fossil Hard coal  - Actual Aggregated [MW]": "439.0",
         "Fossil Oil  - Actual Aggregated [MW]": 0,
         "Hydro Pumped Storage  - Actual Aggregated [MW]": 94,
         "Hydro Pumped Storage  - Actual Consumption [MW]": 0,
         "Hydro Run-of-river and poundage  - Actual Aggregated [MW]": 35,
         "Nuclear  - Actual Aggregated [MW]": 3905,
         "Other  - Actual Aggregated [MW]": 758,
         "Solar  - Actual Aggregated [MW]": 0,
         "Waste  - Actual Aggregated [MW]": 266,
         "Wind Offshore  - Actual Aggregated [MW]": 90,
         "Wind Onshore  - Actual Aggregated [MW]": 256,
         "Day-ahead Total Load Forecast [MW] - CTA|BE": 45674,
         "Actual Total Load [MW] - CTA|BE": 51865,
         "_deepnote_index_column": 128
        },
        {
         "Prices France": 48.55,
         "Datetime": "2015-06-01T17:00:00.000000",
         "Prices Belgium": 48.55,
         "Biomass  - Actual Aggregated [MW]": 276,
         "Fossil Gas  - Actual Aggregated [MW]": 3560,
         "Fossil Hard coal  - Actual Aggregated [MW]": "437.0",
         "Fossil Oil  - Actual Aggregated [MW]": 0,
         "Hydro Pumped Storage  - Actual Aggregated [MW]": 67,
         "Hydro Pumped Storage  - Actual Consumption [MW]": 0,
         "Hydro Run-of-river and poundage  - Actual Aggregated [MW]": 40,
         "Nuclear  - Actual Aggregated [MW]": 3905,
         "Other  - Actual Aggregated [MW]": 770,
         "Solar  - Actual Aggregated [MW]": 0,
         "Waste  - Actual Aggregated [MW]": 265,
         "Wind Offshore  - Actual Aggregated [MW]": 592,
         "Wind Onshore  - Actual Aggregated [MW]": 300,
         "Day-ahead Total Load Forecast [MW] - CTA|BE": 50534,
         "Actual Total Load [MW] - CTA|BE": 54044,
         "_deepnote_index_column": 137
        },
        {
         "Prices France": 45.73,
         "Datetime": "2015-06-01T23:00:00.000000",
         "Prices Belgium": 45.73,
         "Biomass  - Actual Aggregated [MW]": 279,
         "Fossil Gas  - Actual Aggregated [MW]": 2979,
         "Fossil Hard coal  - Actual Aggregated [MW]": "312.0",
         "Fossil Oil  - Actual Aggregated [MW]": 0,
         "Hydro Pumped Storage  - Actual Aggregated [MW]": 98,
         "Hydro Pumped Storage  - Actual Consumption [MW]": 0,
         "Hydro Run-of-river and poundage  - Actual Aggregated [MW]": 40,
         "Nuclear  - Actual Aggregated [MW]": 3899,
         "Other  - Actual Aggregated [MW]": 719,
         "Solar  - Actual Aggregated [MW]": 0,
         "Waste  - Actual Aggregated [MW]": 262,
         "Wind Offshore  - Actual Aggregated [MW]": 272,
         "Wind Onshore  - Actual Aggregated [MW]": 218,
         "Day-ahead Total Load Forecast [MW] - CTA|BE": 44887,
         "Actual Total Load [MW] - CTA|BE": 47134,
         "_deepnote_index_column": 143
        },
        {
         "Prices France": 40,
         "Datetime": "2015-07-01T00:00:00.000000",
         "Prices Belgium": 40,
         "Biomass  - Actual Aggregated [MW]": 278,
         "Fossil Gas  - Actual Aggregated [MW]": 2649,
         "Fossil Hard coal  - Actual Aggregated [MW]": "241.0",
         "Fossil Oil  - Actual Aggregated [MW]": 0,
         "Hydro Pumped Storage  - Actual Aggregated [MW]": 1,
         "Hydro Pumped Storage  - Actual Consumption [MW]": 7,
         "Hydro Run-of-river and poundage  - Actual Aggregated [MW]": 40,
         "Nuclear  - Actual Aggregated [MW]": 3899,
         "Other  - Actual Aggregated [MW]": 677,
         "Solar  - Actual Aggregated [MW]": 0,
         "Waste  - Actual Aggregated [MW]": 263,
         "Wind Offshore  - Actual Aggregated [MW]": 207,
         "Wind Onshore  - Actual Aggregated [MW]": 147,
         "Day-ahead Total Load Forecast [MW] - CTA|BE": 43006,
         "Actual Total Load [MW] - CTA|BE": 44317,
         "_deepnote_index_column": 144
        },
        {
         "Prices France": 36.69,
         "Datetime": "2015-07-01T01:00:00.000000",
         "Prices Belgium": 36.69,
         "Biomass  - Actual Aggregated [MW]": 279,
         "Fossil Gas  - Actual Aggregated [MW]": 2399,
         "Fossil Hard coal  - Actual Aggregated [MW]": "233.0",
         "Fossil Oil  - Actual Aggregated [MW]": 0,
         "Hydro Pumped Storage  - Actual Aggregated [MW]": 66,
         "Hydro Pumped Storage  - Actual Consumption [MW]": 26,
         "Hydro Run-of-river and poundage  - Actual Aggregated [MW]": 40,
         "Nuclear  - Actual Aggregated [MW]": 3900,
         "Other  - Actual Aggregated [MW]": 675,
         "Solar  - Actual Aggregated [MW]": 0,
         "Waste  - Actual Aggregated [MW]": 262,
         "Wind Offshore  - Actual Aggregated [MW]": 194,
         "Wind Onshore  - Actual Aggregated [MW]": 124,
         "Day-ahead Total Load Forecast [MW] - CTA|BE": 40310,
         "Actual Total Load [MW] - CTA|BE": 42046,
         "_deepnote_index_column": 145
        },
        {
         "Prices France": 50,
         "Datetime": "2015-07-01T10:00:00.000000",
         "Prices Belgium": 50,
         "Biomass  - Actual Aggregated [MW]": 282,
         "Fossil Gas  - Actual Aggregated [MW]": 4132,
         "Fossil Hard coal  - Actual Aggregated [MW]": "232.0",
         "Fossil Oil  - Actual Aggregated [MW]": 0,
         "Hydro Pumped Storage  - Actual Aggregated [MW]": 9,
         "Hydro Pumped Storage  - Actual Consumption [MW]": 1,
         "Hydro Run-of-river and poundage  - Actual Aggregated [MW]": 41,
         "Nuclear  - Actual Aggregated [MW]": 3904,
         "Other  - Actual Aggregated [MW]": 703,
         "Solar  - Actual Aggregated [MW]": 378,
         "Waste  - Actual Aggregated [MW]": 270,
         "Wind Offshore  - Actual Aggregated [MW]": 404,
         "Wind Onshore  - Actual Aggregated [MW]": 251,
         "Day-ahead Total Load Forecast [MW] - CTA|BE": 51673,
         "Actual Total Load [MW] - CTA|BE": 50648,
         "_deepnote_index_column": 154
        },
        {
         "Prices France": 47.14,
         "Datetime": "2015-07-01T16:00:00.000000",
         "Prices Belgium": 47.14,
         "Biomass  - Actual Aggregated [MW]": 277,
         "Fossil Gas  - Actual Aggregated [MW]": 4104,
         "Fossil Hard coal  - Actual Aggregated [MW]": "235.0",
         "Fossil Oil  - Actual Aggregated [MW]": 0,
         "Hydro Pumped Storage  - Actual Aggregated [MW]": 12,
         "Hydro Pumped Storage  - Actual Consumption [MW]": 0,
         "Hydro Run-of-river and poundage  - Actual Aggregated [MW]": 42,
         "Nuclear  - Actual Aggregated [MW]": 3902,
         "Other  - Actual Aggregated [MW]": 737,
         "Solar  - Actual Aggregated [MW]": 41,
         "Waste  - Actual Aggregated [MW]": 271,
         "Wind Offshore  - Actual Aggregated [MW]": 640,
         "Wind Onshore  - Actual Aggregated [MW]": 320,
         "Day-ahead Total Load Forecast [MW] - CTA|BE": 50941,
         "Actual Total Load [MW] - CTA|BE": 50583,
         "_deepnote_index_column": 160
        },
        {
         "Prices France": 45.57,
         "Datetime": "2015-07-01T22:00:00.000000",
         "Prices Belgium": 45.57,
         "Biomass  - Actual Aggregated [MW]": 280,
         "Fossil Gas  - Actual Aggregated [MW]": 2948,
         "Fossil Hard coal  - Actual Aggregated [MW]": "235.0",
         "Fossil Oil  - Actual Aggregated [MW]": 0,
         "Hydro Pumped Storage  - Actual Aggregated [MW]": 19,
         "Hydro Pumped Storage  - Actual Consumption [MW]": 9,
         "Hydro Run-of-river and poundage  - Actual Aggregated [MW]": 42,
         "Nuclear  - Actual Aggregated [MW]": 3902,
         "Other  - Actual Aggregated [MW]": 670,
         "Solar  - Actual Aggregated [MW]": 0,
         "Waste  - Actual Aggregated [MW]": 270,
         "Wind Offshore  - Actual Aggregated [MW]": 667,
         "Wind Onshore  - Actual Aggregated [MW]": 622,
         "Day-ahead Total Load Forecast [MW] - CTA|BE": 46102,
         "Actual Total Load [MW] - CTA|BE": 46605,
         "_deepnote_index_column": 166
        }
       ]
      },
      "text/plain": "       Prices France                  Datetime  Prices Belgium  \\\n106            50.60 2015-05-01 10:00:00+00:00           50.60   \n111            43.10 2015-05-01 15:00:00+00:00           43.10   \n128            49.53 2015-06-01 08:00:00+00:00           49.53   \n137            48.55 2015-06-01 17:00:00+00:00           48.55   \n143            45.73 2015-06-01 23:00:00+00:00           45.73   \n...              ...                       ...             ...   \n43867          36.46 2019-12-30 16:00:00+00:00           36.80   \n43871          40.60 2019-12-30 20:00:00+00:00           40.00   \n43884          42.15 2019-12-31 09:00:00+00:00           43.12   \n43889          38.00 2019-12-31 14:00:00+00:00           38.00   \n43895          42.20 2019-12-31 20:00:00+00:00           42.20   \n\n       Biomass  - Actual Aggregated [MW]  \\\n106                                225.0   \n111                                280.0   \n128                                274.0   \n137                                276.0   \n143                                279.0   \n...                                  ...   \n43867                              359.0   \n43871                              365.0   \n43884                              330.0   \n43889                              360.0   \n43895                              363.0   \n\n       Fossil Gas  - Actual Aggregated [MW]  \\\n106                                  3612.0   \n111                                  3667.0   \n128                                  3695.0   \n137                                  3560.0   \n143                                  2979.0   \n...                                     ...   \n43867                                1652.0   \n43871                                1684.0   \n43884                                2045.0   \n43889                                2049.0   \n43895                                2009.0   \n\n      Fossil Hard coal  - Actual Aggregated [MW]  \\\n106                                        433.0   \n111                                        436.0   \n128                                        439.0   \n137                                        437.0   \n143                                        312.0   \n...                                          ...   \n43867                                        n/e   \n43871                                        n/e   \n43884                                        n/e   \n43889                                        n/e   \n43895                                        n/e   \n\n       Fossil Oil  - Actual Aggregated [MW]  \\\n106                                     0.0   \n111                                     0.0   \n128                                     0.0   \n137                                     0.0   \n143                                     0.0   \n...                                     ...   \n43867                                   0.0   \n43871                                   0.0   \n43884                                   0.0   \n43889                                   0.0   \n43895                                   0.0   \n\n       Hydro Pumped Storage  - Actual Aggregated [MW]  \\\n106                                               3.0   \n111                                              25.0   \n128                                              94.0   \n137                                              67.0   \n143                                              98.0   \n...                                               ...   \n43867                                             3.0   \n43871                                            64.0   \n43884                                            51.0   \n43889                                            13.0   \n43895                                            29.0   \n\n       Hydro Pumped Storage  - Actual Consumption [MW]  \\\n106                                                0.0   \n111                                                0.0   \n128                                                0.0   \n137                                                0.0   \n143                                                0.0   \n...                                                ...   \n43867                                            117.0   \n43871                                              0.0   \n43884                                              0.0   \n43889                                              0.0   \n43895                                              1.0   \n\n       Hydro Run-of-river and poundage  - Actual Aggregated [MW]  \\\n106                                                 34.0           \n111                                                 38.0           \n128                                                 35.0           \n137                                                 40.0           \n143                                                 40.0           \n...                                                  ...           \n43867                                               29.0           \n43871                                               30.0           \n43884                                               27.0           \n43889                                               31.0           \n43895                                               31.0           \n\n       Nuclear  - Actual Aggregated [MW]  Other  - Actual Aggregated [MW]  \\\n106                               3909.0                            755.0   \n111                               3909.0                            723.0   \n128                               3905.0                            758.0   \n137                               3905.0                            770.0   \n143                               3899.0                            719.0   \n...                                  ...                              ...   \n43867                             5071.0                            751.0   \n43871                             5080.0                            706.0   \n43884                             4135.0                            784.0   \n43889                             4125.0                            817.0   \n43895                             4129.0                            697.0   \n\n       Solar  - Actual Aggregated [MW]  Waste  - Actual Aggregated [MW]  \\\n106                              310.0                            264.0   \n111                              259.0                            270.0   \n128                                0.0                            266.0   \n137                                0.0                            265.0   \n143                                0.0                            262.0   \n...                                ...                              ...   \n43867                             41.0                            239.0   \n43871                              0.0                            235.0   \n43884                             33.0                            243.0   \n43889                            271.0                            253.0   \n43895                              0.0                            245.0   \n\n       Wind Offshore  - Actual Aggregated [MW]  \\\n106                                      235.0   \n111                                      163.0   \n128                                       90.0   \n137                                      592.0   \n143                                      272.0   \n...                                        ...   \n43867                                    923.0   \n43871                                    748.0   \n43884                                    442.0   \n43889                                    208.0   \n43895                                    458.0   \n\n       Wind Onshore  - Actual Aggregated [MW]  \\\n106                                     289.0   \n111                                      90.0   \n128                                     256.0   \n137                                     300.0   \n143                                     218.0   \n...                                       ...   \n43867                                   426.0   \n43871                                   872.0   \n43884                                    39.0   \n43889                                   107.0   \n43895                                   436.0   \n\n       Day-ahead Total Load Forecast [MW] - CTA|BE  \\\n106                                        46081.0   \n111                                        45938.0   \n128                                        45674.0   \n137                                        50534.0   \n143                                        44887.0   \n...                                            ...   \n43867                                      39832.0   \n43871                                      39307.0   \n43884                                      40820.0   \n43889                                      40373.0   \n43895                                      39740.0   \n\n       Actual Total Load [MW] - CTA|BE  \n106                            50508.0  \n111                            49275.0  \n128                            51865.0  \n137                            54044.0  \n143                            47134.0  \n...                                ...  \n43867                          38142.0  \n43871                          39055.0  \n43884                          41042.0  \n43889                          41011.0  \n43895                          37474.0  \n\n[7272 rows x 18 columns]",
      "text/html": "<div>\n<style scoped>\n    .dataframe tbody tr th:only-of-type {\n        vertical-align: middle;\n    }\n\n    .dataframe tbody tr th {\n        vertical-align: top;\n    }\n\n    .dataframe thead th {\n        text-align: right;\n    }\n</style>\n<table border=\"1\" class=\"dataframe\">\n  <thead>\n    <tr style=\"text-align: right;\">\n      <th></th>\n      <th>Prices France</th>\n      <th>Datetime</th>\n      <th>Prices Belgium</th>\n      <th>Biomass  - Actual Aggregated [MW]</th>\n      <th>Fossil Gas  - Actual Aggregated [MW]</th>\n      <th>Fossil Hard coal  - Actual Aggregated [MW]</th>\n      <th>Fossil Oil  - Actual Aggregated [MW]</th>\n      <th>Hydro Pumped Storage  - Actual Aggregated [MW]</th>\n      <th>Hydro Pumped Storage  - Actual Consumption [MW]</th>\n      <th>Hydro Run-of-river and poundage  - Actual Aggregated [MW]</th>\n      <th>Nuclear  - Actual Aggregated [MW]</th>\n      <th>Other  - Actual Aggregated [MW]</th>\n      <th>Solar  - Actual Aggregated [MW]</th>\n      <th>Waste  - Actual Aggregated [MW]</th>\n      <th>Wind Offshore  - Actual Aggregated [MW]</th>\n      <th>Wind Onshore  - Actual Aggregated [MW]</th>\n      <th>Day-ahead Total Load Forecast [MW] - CTA|BE</th>\n      <th>Actual Total Load [MW] - CTA|BE</th>\n    </tr>\n  </thead>\n  <tbody>\n    <tr>\n      <th>106</th>\n      <td>50.60</td>\n      <td>2015-05-01 10:00:00+00:00</td>\n      <td>50.60</td>\n      <td>225.0</td>\n      <td>3612.0</td>\n      <td>433.0</td>\n      <td>0.0</td>\n      <td>3.0</td>\n      <td>0.0</td>\n      <td>34.0</td>\n      <td>3909.0</td>\n      <td>755.0</td>\n      <td>310.0</td>\n      <td>264.0</td>\n      <td>235.0</td>\n      <td>289.0</td>\n      <td>46081.0</td>\n      <td>50508.0</td>\n    </tr>\n    <tr>\n      <th>111</th>\n      <td>43.10</td>\n      <td>2015-05-01 15:00:00+00:00</td>\n      <td>43.10</td>\n      <td>280.0</td>\n      <td>3667.0</td>\n      <td>436.0</td>\n      <td>0.0</td>\n      <td>25.0</td>\n      <td>0.0</td>\n      <td>38.0</td>\n      <td>3909.0</td>\n      <td>723.0</td>\n      <td>259.0</td>\n      <td>270.0</td>\n      <td>163.0</td>\n      <td>90.0</td>\n      <td>45938.0</td>\n      <td>49275.0</td>\n    </tr>\n    <tr>\n      <th>128</th>\n      <td>49.53</td>\n      <td>2015-06-01 08:00:00+00:00</td>\n      <td>49.53</td>\n      <td>274.0</td>\n      <td>3695.0</td>\n      <td>439.0</td>\n      <td>0.0</td>\n      <td>94.0</td>\n      <td>0.0</td>\n      <td>35.0</td>\n      <td>3905.0</td>\n      <td>758.0</td>\n      <td>0.0</td>\n      <td>266.0</td>\n      <td>90.0</td>\n      <td>256.0</td>\n      <td>45674.0</td>\n      <td>51865.0</td>\n    </tr>\n    <tr>\n      <th>137</th>\n      <td>48.55</td>\n      <td>2015-06-01 17:00:00+00:00</td>\n      <td>48.55</td>\n      <td>276.0</td>\n      <td>3560.0</td>\n      <td>437.0</td>\n      <td>0.0</td>\n      <td>67.0</td>\n      <td>0.0</td>\n      <td>40.0</td>\n      <td>3905.0</td>\n      <td>770.0</td>\n      <td>0.0</td>\n      <td>265.0</td>\n      <td>592.0</td>\n      <td>300.0</td>\n      <td>50534.0</td>\n      <td>54044.0</td>\n    </tr>\n    <tr>\n      <th>143</th>\n      <td>45.73</td>\n      <td>2015-06-01 23:00:00+00:00</td>\n      <td>45.73</td>\n      <td>279.0</td>\n      <td>2979.0</td>\n      <td>312.0</td>\n      <td>0.0</td>\n      <td>98.0</td>\n      <td>0.0</td>\n      <td>40.0</td>\n      <td>3899.0</td>\n      <td>719.0</td>\n      <td>0.0</td>\n      <td>262.0</td>\n      <td>272.0</td>\n      <td>218.0</td>\n      <td>44887.0</td>\n      <td>47134.0</td>\n    </tr>\n    <tr>\n      <th>...</th>\n      <td>...</td>\n      <td>...</td>\n      <td>...</td>\n      <td>...</td>\n      <td>...</td>\n      <td>...</td>\n      <td>...</td>\n      <td>...</td>\n      <td>...</td>\n      <td>...</td>\n      <td>...</td>\n      <td>...</td>\n      <td>...</td>\n      <td>...</td>\n      <td>...</td>\n      <td>...</td>\n      <td>...</td>\n      <td>...</td>\n    </tr>\n    <tr>\n      <th>43867</th>\n      <td>36.46</td>\n      <td>2019-12-30 16:00:00+00:00</td>\n      <td>36.80</td>\n      <td>359.0</td>\n      <td>1652.0</td>\n      <td>n/e</td>\n      <td>0.0</td>\n      <td>3.0</td>\n      <td>117.0</td>\n      <td>29.0</td>\n      <td>5071.0</td>\n      <td>751.0</td>\n      <td>41.0</td>\n      <td>239.0</td>\n      <td>923.0</td>\n      <td>426.0</td>\n      <td>39832.0</td>\n      <td>38142.0</td>\n    </tr>\n    <tr>\n      <th>43871</th>\n      <td>40.60</td>\n      <td>2019-12-30 20:00:00+00:00</td>\n      <td>40.00</td>\n      <td>365.0</td>\n      <td>1684.0</td>\n      <td>n/e</td>\n      <td>0.0</td>\n      <td>64.0</td>\n      <td>0.0</td>\n      <td>30.0</td>\n      <td>5080.0</td>\n      <td>706.0</td>\n      <td>0.0</td>\n      <td>235.0</td>\n      <td>748.0</td>\n      <td>872.0</td>\n      <td>39307.0</td>\n      <td>39055.0</td>\n    </tr>\n    <tr>\n      <th>43884</th>\n      <td>42.15</td>\n      <td>2019-12-31 09:00:00+00:00</td>\n      <td>43.12</td>\n      <td>330.0</td>\n      <td>2045.0</td>\n      <td>n/e</td>\n      <td>0.0</td>\n      <td>51.0</td>\n      <td>0.0</td>\n      <td>27.0</td>\n      <td>4135.0</td>\n      <td>784.0</td>\n      <td>33.0</td>\n      <td>243.0</td>\n      <td>442.0</td>\n      <td>39.0</td>\n      <td>40820.0</td>\n      <td>41042.0</td>\n    </tr>\n    <tr>\n      <th>43889</th>\n      <td>38.00</td>\n      <td>2019-12-31 14:00:00+00:00</td>\n      <td>38.00</td>\n      <td>360.0</td>\n      <td>2049.0</td>\n      <td>n/e</td>\n      <td>0.0</td>\n      <td>13.0</td>\n      <td>0.0</td>\n      <td>31.0</td>\n      <td>4125.0</td>\n      <td>817.0</td>\n      <td>271.0</td>\n      <td>253.0</td>\n      <td>208.0</td>\n      <td>107.0</td>\n      <td>40373.0</td>\n      <td>41011.0</td>\n    </tr>\n    <tr>\n      <th>43895</th>\n      <td>42.20</td>\n      <td>2019-12-31 20:00:00+00:00</td>\n      <td>42.20</td>\n      <td>363.0</td>\n      <td>2009.0</td>\n      <td>n/e</td>\n      <td>0.0</td>\n      <td>29.0</td>\n      <td>1.0</td>\n      <td>31.0</td>\n      <td>4129.0</td>\n      <td>697.0</td>\n      <td>0.0</td>\n      <td>245.0</td>\n      <td>458.0</td>\n      <td>436.0</td>\n      <td>39740.0</td>\n      <td>37474.0</td>\n    </tr>\n  </tbody>\n</table>\n<p>7272 rows × 18 columns</p>\n</div>"
     },
     "metadata": {}
    }
   ],
   "execution_count": 8
  },
  {
   "cell_type": "code",
   "metadata": {
    "cell_id": "1e2bd536-b3e7-4f72-875b-b2eb871c1483",
    "tags": [],
    "deepnote_to_be_reexecuted": false,
    "source_hash": "a74e07a0",
    "execution_start": 1643315190515,
    "execution_millis": 7,
    "deepnote_output_heights": [
     290
    ],
    "deepnote_cell_type": "code"
   },
   "source": "train_data.columns",
   "outputs": [
    {
     "output_type": "execute_result",
     "execution_count": 21,
     "data": {
      "text/plain": "Index(['Prices France', 'Datetime', 'Prices Belgium',\n       'Biomass  - Actual Aggregated [MW]',\n       'Fossil Gas  - Actual Aggregated [MW]',\n       'Fossil Hard coal  - Actual Aggregated [MW]',\n       'Fossil Oil  - Actual Aggregated [MW]',\n       'Hydro Pumped Storage  - Actual Aggregated [MW]',\n       'Hydro Pumped Storage  - Actual Consumption [MW]',\n       'Hydro Run-of-river and poundage  - Actual Aggregated [MW]',\n       'Nuclear  - Actual Aggregated [MW]', 'Other  - Actual Aggregated [MW]',\n       'Solar  - Actual Aggregated [MW]', 'Waste  - Actual Aggregated [MW]',\n       'Wind Offshore  - Actual Aggregated [MW]',\n       'Wind Onshore  - Actual Aggregated [MW]',\n       'Day-ahead Total Load Forecast [MW] - CTA|BE',\n       'Actual Total Load [MW] - CTA|BE'],\n      dtype='object')"
     },
     "metadata": {}
    }
   ],
   "execution_count": 21
  },
  {
   "cell_type": "code",
   "metadata": {
    "id": "FN4Em8m5ItI1",
    "executionInfo": {
     "status": "ok",
     "timestamp": 1643237940323,
     "user_tz": -60,
     "elapsed": 184,
     "user": {
      "displayName": "Илья Шилов",
      "photoUrl": "https://lh3.googleusercontent.com/a/default-user=s64",
      "userId": "02218864198108755188"
     }
    },
    "cell_id": "00008-586a8d2e-1649-4596-8fd6-f41bdfc4c972",
    "deepnote_to_be_reexecuted": false,
    "source_hash": "531093b1",
    "execution_start": 1643315280299,
    "execution_millis": 1,
    "deepnote_cell_type": "code"
   },
   "source": "def data_normalization(df, add_timestamp = False, test = False):\n    transformer = preprocessing.MaxAbsScaler()\n    cols = ['Prices France', 'Prices Belgium',\n       'Biomass  - Actual Aggregated [MW]',\n       'Fossil Gas  - Actual Aggregated [MW]',\n       'Fossil Hard coal  - Actual Aggregated [MW]',\n       'Fossil Oil  - Actual Aggregated [MW]',\n       'Hydro Pumped Storage  - Actual Aggregated [MW]',\n       'Hydro Pumped Storage  - Actual Consumption [MW]',\n       'Hydro Run-of-river and poundage  - Actual Aggregated [MW]',\n       'Nuclear  - Actual Aggregated [MW]', 'Other  - Actual Aggregated [MW]',\n       'Solar  - Actual Aggregated [MW]', 'Waste  - Actual Aggregated [MW]',\n       'Wind Offshore  - Actual Aggregated [MW]',\n       'Wind Onshore  - Actual Aggregated [MW]',\n       'Day-ahead Total Load Forecast [MW] - CTA|BE',\n       'Actual Total Load [MW] - CTA|BE']\n    transformed_data = transformer.fit_transform(train_data[cols])\n\n    df_normalized = pd.DataFrame(transformed_data)\n    df_normalized.columns = cols\n    df_normalized.dropna(axis = 0, inplace = True)\n\n    if add_timestamp == True:\n        if test == True:\n            df_normalized['Datetime'] = test_data.dropna(axis=0)['Datetime']\n        else:\n            df_normalized['Datetime'] = train_data.dropna(axis=0)['Datetime']\n    #train_data_normalized.set_index('Datetime', inplace = True)\n\n    return df_normalized",
   "outputs": [],
   "execution_count": 25
  },
  {
   "cell_type": "code",
   "metadata": {
    "id": "lBbW_ozIfElU",
    "executionInfo": {
     "status": "ok",
     "timestamp": 1643235982050,
     "user_tz": -60,
     "elapsed": 202,
     "user": {
      "displayName": "Илья Шилов",
      "photoUrl": "https://lh3.googleusercontent.com/a/default-user=s64",
      "userId": "02218864198108755188"
     }
    },
    "cell_id": "00010-410f3b40-2204-4e04-be53-3cb9048a7a0f",
    "deepnote_to_be_reexecuted": false,
    "source_hash": "58884f6f",
    "execution_start": 1643315043067,
    "execution_millis": 4,
    "deepnote_cell_type": "code"
   },
   "source": "def encoding_datetime(df, save_datetime = False):\n    df['year'] = df.Datetime.dt.year\n\n    df['hr_sin'] = np.sin(df.Datetime.dt.hour*(2.*np.pi/24))\n    df['hr_cos'] = np.cos(df.Datetime.dt.hour*(2.*np.pi/24))\n    df['day_sin'] = np.sin((df.Datetime.dt.day-1)*(2.*np.pi/7))\n    df['day_cos'] = np.cos((df.Datetime.dt.day-1)*(2.*np.pi/7))\n    df['mnth_sin'] = np.sin((df.Datetime.dt.month-1)*(2.*np.pi/12))\n    df['mnth_cos'] = np.cos((df.Datetime.dt.month-1)*(2.*np.pi/12))\n\n    if not save_datetime:\n        df.drop(['Datetime'], axis = 1, inplace = True)\n\n    return df",
   "outputs": [],
   "execution_count": 10
  },
  {
   "cell_type": "code",
   "metadata": {
    "id": "nWR-YMLpgpZD",
    "cell_id": "00012-bb1b3ed4-a811-4d0b-ab10-961384cf1d04",
    "deepnote_to_be_reexecuted": false,
    "source_hash": "70edc973",
    "execution_start": 1643315858574,
    "execution_millis": 1,
    "deepnote_cell_type": "code"
   },
   "source": "def target_column_as_list(df):\n    target_list = []\n    features_list = []\n\n    col = 'Prices Belgium'\n\n    for value in df[col]:\n        target_list.append(torch.tensor(value))\n\n    if 'Datetime' in df.columns:\n        df.drop('Datetime', axis =1, inplace = true)\n\n    for index, row in df.loc[:, df.columns != col].iterrows():\n        features_list.append(torch.from_numpy(row.values))\n\n    return target_list, features_list",
   "outputs": [],
   "execution_count": 39
  },
  {
   "cell_type": "code",
   "metadata": {
    "cell_id": "2d00718a-6910-4fa5-a431-b747b82e1ef1",
    "tags": [],
    "deepnote_to_be_reexecuted": false,
    "source_hash": "a74e07a0",
    "execution_start": 1643315043115,
    "execution_millis": 3,
    "deepnote_output_heights": [
     289.8125
    ],
    "deepnote_cell_type": "code"
   },
   "source": "train_data.columns",
   "outputs": [
    {
     "output_type": "execute_result",
     "execution_count": 12,
     "data": {
      "text/plain": "Index(['Prices France', 'Datetime', 'Prices Belgium',\n       'Biomass  - Actual Aggregated [MW]',\n       'Fossil Gas  - Actual Aggregated [MW]',\n       'Fossil Hard coal  - Actual Aggregated [MW]',\n       'Fossil Oil  - Actual Aggregated [MW]',\n       'Hydro Pumped Storage  - Actual Aggregated [MW]',\n       'Hydro Pumped Storage  - Actual Consumption [MW]',\n       'Hydro Run-of-river and poundage  - Actual Aggregated [MW]',\n       'Nuclear  - Actual Aggregated [MW]', 'Other  - Actual Aggregated [MW]',\n       'Solar  - Actual Aggregated [MW]', 'Waste  - Actual Aggregated [MW]',\n       'Wind Offshore  - Actual Aggregated [MW]',\n       'Wind Onshore  - Actual Aggregated [MW]',\n       'Day-ahead Total Load Forecast [MW] - CTA|BE',\n       'Actual Total Load [MW] - CTA|BE'],\n      dtype='object')"
     },
     "metadata": {}
    }
   ],
   "execution_count": 12
  },
  {
   "cell_type": "code",
   "metadata": {
    "cell_id": "9a3d3ccc-6121-4f2b-8d67-5d174c5092c8",
    "tags": [],
    "deepnote_to_be_reexecuted": false,
    "source_hash": "f6058429",
    "execution_start": 1643315043116,
    "execution_millis": 248,
    "deepnote_output_heights": [
     21.1875,
     264
    ],
    "deepnote_cell_type": "code"
   },
   "source": "cols = ['Datetime', 'Prices Belgium']\nplot_price = train_data[cols].drop_duplicates()\nplot_price.plot.scatter('Datetime', 'Prices Belgium')",
   "outputs": [
    {
     "output_type": "execute_result",
     "execution_count": 13,
     "data": {
      "text/plain": "<AxesSubplot:xlabel='Datetime', ylabel='Prices Belgium'>"
     },
     "metadata": {}
    },
    {
     "data": {
      "text/plain": "<Figure size 432x288 with 1 Axes>",
      "image/png": "[encoded data removed]"
     },
     "metadata": {
      "needs_background": "light",
      "image/png": {
       "width": 397,
       "height": 262
      }
     },
     "output_type": "display_data"
    }
   ],
   "execution_count": 13
  },
  {
   "cell_type": "code",
   "metadata": {
    "cell_id": "5cdccc5c-1461-4145-b3f4-947dd374b5f8",
    "tags": [],
    "deepnote_to_be_reexecuted": false,
    "source_hash": "188a0b12",
    "execution_start": 1643315050766,
    "execution_millis": 291,
    "deepnote_output_heights": [
     21.1875,
     264
    ],
    "deepnote_cell_type": "code"
   },
   "source": "cols = ['Datetime', 'Prices Belgium']\nplot_price = test_data[cols].drop_duplicates()\nplot_price.plot.scatter('Datetime', 'Prices Belgium')",
   "outputs": [
    {
     "output_type": "execute_result",
     "execution_count": 14,
     "data": {
      "text/plain": "<AxesSubplot:xlabel='Datetime', ylabel='Prices Belgium'>"
     },
     "metadata": {}
    },
    {
     "data": {
      "text/plain": "<Figure size 432x288 with 1 Axes>",
      "image/png": "[encoded data removed]"
     },
     "metadata": {
      "needs_background": "light",
      "image/png": {
       "width": 397,
       "height": 262
      }
     },
     "output_type": "display_data"
    }
   ],
   "execution_count": 14
  },
  {
   "cell_type": "code",
   "metadata": {
    "cell_id": "dcb9cc48-8274-41f6-a74a-77fe4c79eee2",
    "tags": [],
    "deepnote_to_be_reexecuted": false,
    "source_hash": "cda9aeb1",
    "execution_start": 1643315051830,
    "execution_millis": 1,
    "deepnote_cell_type": "code"
   },
   "source": "def cutting_outbreaks(df):\n    pass",
   "outputs": [],
   "execution_count": 15
  },
  {
   "cell_type": "code",
   "metadata": {
    "cell_id": "01def9b2-c8a7-46dd-a4af-50f6851a2f54",
    "tags": [],
    "deepnote_to_be_reexecuted": false,
    "source_hash": "f48e7390",
    "execution_start": 1643315052693,
    "execution_millis": 0,
    "deepnote_output_heights": [
     21.1875,
     1
    ],
    "deepnote_cell_type": "code"
   },
   "source": "def data_aggregation(df, save_datetime = False, test=False):\n    result = []\n\n    if not test:\n        df['Datetime'] = train_data.dropna(axis=0)['Datetime']\n    else:\n        df['Datetime'] = test_data.dropna(axis=0)['Datetime']\n\n    cols_a = ['Datetime', 'Total Load', 'Total installed power','Day-ahead Price [EUR/MWh]', \n                'hr_sin', 'hr_cos', 'day_sin', 'day_cos', 'mnth_sin', 'mnth_cos']\n    a = df[cols_a].drop_duplicates()\n\n    cols_b = ['Installed Power', 'Day Ahead Generation Schedule', 'Datetime']\n    if not test:\n        b = df[cols_b].groupby(['Datetime']).sum().reset_index()\n    else:\n        b = df[cols_b].groupby(['Datetime']).sum().reset_index()\n\n\n    df_aggregated = pd.merge(a, b, on= 'Datetime')\n\n    if not save_datetime:\n        df_aggregated.drop(['Datetime'], axis = 1, inplace = True)\n\n    return df_aggregated",
   "outputs": [],
   "execution_count": 16
  },
  {
   "cell_type": "code",
   "metadata": {
    "id": "YOLLc52u9gkF",
    "cell_id": "00013-fa488165-d4d5-4a8c-89ee-b9526ef0889e",
    "deepnote_to_be_reexecuted": false,
    "source_hash": "a56b28ca",
    "execution_start": 1643315054031,
    "execution_millis": 1,
    "deepnote_cell_type": "code"
   },
   "source": "def to_list_of_tensors_old(df, train_data, test_data, aggregation = False, test=False):\n    if aggregation == False:\n        result = []\n        for value in train_data_normalized['Day-ahead Price [EUR/MWh]'].unique():\n            list_for_one_price = []\n            for index, row in train_data_normalized.loc[train_data_normalized['Day-ahead Price [EUR/MWh]'] == value].iterrows():\n                list_for_one_price.append(row.values)\n            result.append(torch.from_numpy(np.array(list_for_one_price)))\n\n    if aggregation == True:\n        result = []\n        if not test:\n            df['Datetime'] = train_data.dropna(axis=0)['Datetime']\n        else:\n            df['Datetime'] = test_data.dropna(axis=0)['Datetime']\n\n        cols_a = ['Datetime', 'Total Load', 'Total installed power','Day-ahead Price [EUR/MWh]', \n                    'hr_sin', 'hr_cos', 'day_sin', 'day_cos', 'mnth_sin', 'mnth_cos']\n        a = df[cols_a].drop_duplicates()\n\n        cols_b = ['Installed Power', 'Day Ahead Generation Schedule', 'Datetime']\n        b = df[cols_b].groupby(['Datetime']).sum().reset_index()\n\n        df_aggregated = pd.merge(a, b, on= 'Datetime').drop(['Datetime'], axis = 1)\n\n        for index, row in df_aggregated.iterrows():\n            result.append(torch.from_numpy(row.values))\n\n    return result",
   "outputs": [],
   "execution_count": 17
  },
  {
   "cell_type": "code",
   "metadata": {
    "cell_id": "94271e08-2186-4dad-b0e3-e9c3f9ecd0dc",
    "tags": [],
    "deepnote_to_be_reexecuted": false,
    "source_hash": "af5a0360",
    "execution_start": 1643315619508,
    "execution_millis": 3,
    "deepnote_cell_type": "code"
   },
   "source": "def to_list_of_tensors(df):\n    result = []\n\n    if 'Datetime' in df.columns:\n        df.drop('Datetime', axis = 1, inplace = True)\n\n    for index, row in df.iterrows():\n        result.append(torch.from_numpy(row.values))\n\n    return result",
   "outputs": [],
   "execution_count": 31
  },
  {
   "cell_type": "code",
   "metadata": {
    "id": "ZvVwKBvniaMd",
    "cell_id": "00015-6fc36b55-1d43-4b8d-894e-e77d2ec0fb56",
    "deepnote_to_be_reexecuted": false,
    "source_hash": "8d5d6e05",
    "execution_start": 1643315672252,
    "execution_millis": 3,
    "deepnote_cell_type": "code"
   },
   "source": "def final_function():\n    #first thing is to load all the data from the csv\n    train_data, test_data = data_loading()\n\n    #then we want to have the data to be normalized with datetime ecnoded\n    train_data_normalized = encoding_datetime(data_normalization(train_data, add_timestamp=True))\n    test_data_normalized = encoding_datetime(data_normalization(test_data, add_timestamp=True, test=True))\n\n    #Now we have two normalized datasets with encoded datetime\n    #We want to return aggregated versions of them as lists of tensors\n\n    train_tensor_list = to_list_of_tensors(train_data_normalized)\n    test_tensor_list = to_list_of_tensors(test_data_normalized)\n\n    #we also want to have lists of features and target seprately for both train and test\n    target_train, features_train = target_column_as_list(train_data_normalized)\n    target_test, features_test = target_column_as_list(test_data_normalized)\n\n    #target_train, features_train = target_column_as_list(data_aggregation(train_data_normalized, save_datetime=True))\n    #target_test, features_test = target_column_as_list(data_aggregation(test_data_normalized, save_datetime=True, test=True))\n\n    return {'train_data': train_data,\n            'test_data' : test_data,\n            'train_data_normalized': train_data_normalized,\n            'test_data_normalized' : test_data_normalized,\n            'train_tensor_list' : train_tensor_list,\n            'test_tensor_list' : test_tensor_list,\n            'target_train_tensor_list' : target_train,\n            'features_train_tensor_list' : features_train,\n            'target_test_tensor_list' : target_test,\n            'features_test_tensor_list' : features_test}\n\n",
   "outputs": [],
   "execution_count": 34
  },
  {
   "cell_type": "code",
   "metadata": {
    "cell_id": "688e4016-58c6-43e6-ae21-899a332d1156",
    "tags": [],
    "deepnote_to_be_reexecuted": false,
    "source_hash": "c587a627",
    "execution_start": 1643315863591,
    "execution_millis": 31632,
    "deepnote_output_heights": [
     611
    ],
    "deepnote_cell_type": "code"
   },
   "source": "data_dict = final_function()",
   "outputs": [],
   "execution_count": 40
  },
  {
   "cell_type": "markdown",
   "source": "## Network",
   "metadata": {
    "id": "I8NAgosAddh4",
    "cell_id": "00016-46f04adf-4e1b-4ff8-b56f-66cb6eac7f52",
    "deepnote_cell_type": "markdown"
   }
  },
  {
   "cell_type": "code",
   "metadata": {
    "id": "JJlPeaAlgUSB",
    "executionInfo": {
     "status": "ok",
     "timestamp": 1643230437099,
     "user_tz": -60,
     "elapsed": 7,
     "user": {
      "displayName": "Maxime Janbon",
      "photoUrl": "https://lh3.googleusercontent.com/a/default-user=s64",
      "userId": "09473355502460053881"
     }
    },
    "outputId": "4149c187-71d1-42d3-8ea3-e821a16bc1f9",
    "colab": {
     "base_uri": "https://localhost:8080/"
    },
    "cell_id": "00017-2f6c723c-43d8-434d-9e88-42a80adbc920",
    "deepnote_to_be_reexecuted": false,
    "source_hash": "201410bf",
    "execution_start": 1643315942063,
    "execution_millis": 5,
    "deepnote_cell_type": "code"
   },
   "source": "device = torch.device(\"cuda\" if torch.cuda.is_available() else \"cpu\")\n\nprint('Using gpu: %s ' % torch.cuda.is_available())",
   "outputs": [
    {
     "name": "stdout",
     "text": "Using gpu: False \n",
     "output_type": "stream"
    }
   ],
   "execution_count": 41
  },
  {
   "cell_type": "code",
   "metadata": {
    "id": "-QDy8m1iiWrz",
    "cell_id": "00020-5c1d2e6f-8d98-4c36-9753-681e9f109248",
    "deepnote_to_be_reexecuted": false,
    "source_hash": "7625417d",
    "execution_start": 1643301131577,
    "execution_millis": 18,
    "deepnote_cell_type": "code"
   },
   "source": "n1=239\nn2=162\nn_feature_columns=10\n\nclass DNN(nn.Module):\n  def __init__(self):\n    super(DNN, self).__init__()\n    self.fc1 = nn.Linear(n_feature_columns,n1) #input number of columns in our table\n    self.fc2 = nn.Linear(n1,n2)\n    self.fc3 = nn.Linear(n2,24)\n        # Change output to 48 dimensions if we include France as a neighbouring market\n\n  def forward(self, x):\n    x_1 = F.relu(self.fc1(x))\n    x_2 = F.relu(self.fc2(x_1))\n    return F.relu(self.fc3(x_2))",
   "outputs": [],
   "execution_count": null
  },
  {
   "cell_type": "code",
   "metadata": {
    "cell_id": "60b2f156-71de-4c25-86fb-4ee48abe7aec",
    "tags": [],
    "deepnote_to_be_reexecuted": true,
    "source_hash": "ae5ae941",
    "execution_start": 1643301080872,
    "execution_millis": 23,
    "deepnote_cell_type": "code"
   },
   "source": "class simpleDNN(nn.Module):\n  def __init__(self):\n    super(simpleDNN, self).__init__()\n    self.fc1 = nn.Linear(n_feature_columns,n1) #input number of columns in our table\n    self.fc2 = nn.Linear(n1,n2)\n    self.fc3 = nn.Linear(n2,1)\n        # Change output to 48 dimensions if we include France as a neighbouring market\n\n  def forward(self, x):\n    x_1 = F.relu(self.fc1(x))\n    x_2 = F.relu(self.fc2(x_1))\n    return F.relu(self.fc3(x_2))",
   "outputs": [],
   "execution_count": null
  },
  {
   "cell_type": "code",
   "metadata": {
    "id": "I-yYeeTVmvmv",
    "cell_id": "00021-1c73f5af-c5d1-40f7-83c7-45166320c216",
    "deepnote_to_be_reexecuted": false,
    "source_hash": "2f1711c7",
    "execution_start": 1643301135716,
    "execution_millis": 29,
    "deepnote_cell_type": "code"
   },
   "source": "input_size=9\nhidden_size=73\nfuture_info_features=1\nn_DNN=128\nlength_sequence=200\ntarget_hours=1\n\nclass DNN_LSTM(nn.Module):\n  def __init__(self):\n    super(DNN_LSTM, self).__init__()\n    self.lstm1=nn.LSTM(input_size=input_size, hidden_size=hidden_size) #input_size is the number of features, hidden_size is number of output features\n    self.fc1 = nn.Linear(future_info_features,n_DNN)\n    self.fc2 = nn.Linear(hidden_size*length_sequence+n_DNN,target_hours)\n\n  def forward(self, past_sequence, future_info):\n    x_1 = self.lstm1(torch.unsqueeze(past_sequence,1))\n    #print(x_1[0])\n    x_2 = F.relu(self.fc1(future_info))\n    return F.relu(self.fc2(torch.cat((torch.flatten(x_1[0].squeeze()),x_2))))\n  \n\n",
   "outputs": [],
   "execution_count": null
  },
  {
   "cell_type": "code",
   "metadata": {
    "id": "oUbMKILV2uiZ",
    "cell_id": "00023-0e2c5ec6-e9c8-47a4-b343-69083acc6dd5",
    "deepnote_to_be_reexecuted": false,
    "source_hash": "93f70ef9",
    "execution_start": 1643301143219,
    "execution_millis": 68,
    "deepnote_output_heights": [
     328.359375
    ],
    "deepnote_cell_type": "code"
   },
   "source": "lr=0.0001\nnb_epochs=10\nmodel_sequential = DNN()\nmodel_stochastic = DNN()\nmodel_sequential = model_sequential.to(device)\nmodel_stochastic = model_stochastic.to(device)\noptimizer_sequential = torch.optim.Adam(model_sequential.parameters(),lr=lr)\noptimizer_stochastic = torch.optim.Adam(model_stochastic.parameters(),lr=lr)\nlstm_stochastic = DNN_LSTM()\nlstm_stochastic.to(device)\nlstm_optim_stochastic = torch.optim.Adam(lstm_stochastic.parameters(), lr=lr)\nlstm_stochastic = DNN_LSTM()\nlstm_stochastic.to(device)\nlstm_optim_stochastic = torch.optim.Adam(lstm_stochastic.parameters(), lr=lr)\n\nsimple_model_sequential = simpleDNN()\nsimple_model_sequential.to(device)\nsimple_optim_sequential = torch.optim.Adam(simple_model_sequential.parameters(), lr=lr)\n\nloss_fn = nn.L1Loss(reduction='mean')\n\n",
   "outputs": [],
   "execution_count": null
  },
  {
   "cell_type": "code",
   "metadata": {
    "colab": {
     "base_uri": "https://localhost:8080/"
    },
    "id": "yUoldlxJWgUp",
    "executionInfo": {
     "status": "ok",
     "timestamp": 1643233984931,
     "user_tz": -60,
     "elapsed": 272,
     "user": {
      "displayName": "Maxime Janbon",
      "photoUrl": "https://lh3.googleusercontent.com/a/default-user=s64",
      "userId": "09473355502460053881"
     }
    },
    "outputId": "472ecccb-bf9f-40d0-f054-3ef586fabcd4",
    "cell_id": "00024-6ad8dacf-31c2-4904-879e-7c00f6dc1e29",
    "deepnote_to_be_reexecuted": false,
    "source_hash": "dd2bc2f",
    "execution_start": 1643301607780,
    "execution_millis": 4,
    "deepnote_cell_type": "code"
   },
   "source": "def construct_target(ind,target_list,target_number_hours):\n  target= torch.FloatTensor(1, target_number_hours)\n  for i in range(target_number_hours-1,-1,-1):\n    #target[:,i-1]=tensor_list[ind-(25-i)][..., -1:].squeeze()\n    #target[:,i]=tensor_list[ind+i][..., -1:].squeeze()\n    target[:,target_number_hours-1-i]=target_list[ind+i].squeeze()\n    #target[:,i]=target_list[ind-(24-i)].squeeze()\n  return target.squeeze()\n\n#print(construct_target(47,target))",
   "outputs": [],
   "execution_count": null
  },
  {
   "cell_type": "code",
   "metadata": {
    "cell_id": "c65ac57b-d0e6-4b87-aeb0-18befdbeff81",
    "tags": [],
    "deepnote_cell_type": "code"
   },
   "source": "def c",
   "outputs": [],
   "execution_count": null
  },
  {
   "cell_type": "code",
   "metadata": {
    "id": "QVMiNd5kyUFB",
    "colab": {
     "base_uri": "https://localhost:8080/"
    },
    "executionInfo": {
     "status": "ok",
     "timestamp": 1643233985748,
     "user_tz": -60,
     "elapsed": 5,
     "user": {
      "displayName": "Maxime Janbon",
      "photoUrl": "https://lh3.googleusercontent.com/a/default-user=s64",
      "userId": "09473355502460053881"
     }
    },
    "outputId": "9e60de2e-abdc-4d0f-841f-1daa03e14a9f",
    "cell_id": "00025-77e39051-e739-468f-b32a-580b030ccb93",
    "deepnote_to_be_reexecuted": false,
    "source_hash": "8802595a",
    "execution_start": 1643301108812,
    "execution_millis": 22,
    "deepnote_output_heights": [
     156
    ],
    "deepnote_cell_type": "code"
   },
   "source": "def construct_sequence(ind,length_sequence,past_features_indices_list,tensor_list):\n  sequence=torch.FloatTensor(length_sequence,len(past_features_indices_list))\n  for i in range(ind+1,ind+length_sequence+1):\n    sequence[i-ind-1]=tensor_list[i][past_features_indices_list]\n  return sequence\n#print(construct_sequence(50,48,[0,1,2,3],data_dict['features_train_tensor_list']))",
   "outputs": [],
   "execution_count": null
  },
  {
   "cell_type": "code",
   "metadata": {
    "id": "0Qe1BOZw4JSN",
    "cell_id": "00026-3aa8929b-bdd3-47b8-8d44-9696fd7d8658",
    "deepnote_to_be_reexecuted": false,
    "source_hash": "36fb2fc6",
    "execution_start": 1643295449206,
    "execution_millis": 30,
    "deepnote_cell_type": "code"
   },
   "source": "stochastic_loss_list=[]\nrng = np.random.default_rng()\ndef train_model_stochastic(model,loss_fn,training_input, training_target,epochs,optimizer):\n  model.train(True)\n  for epoch in range(epochs):\n      for i in range(len(training_input)):\n          ind=rng.integers(24, high=len(training_input)-24, size=None, dtype=np.int64, endpoint=False)\n          optimizer.zero_grad()\n          output=model(training_input[ind].float().to(device))\n          target=construct_target(ind,training_target,24)\n          loss = loss_fn(output, target.to(device))\n          if i%100==0:\n            stochastic_loss_list.append(loss)\n          loss.backward()\n          optimizer.step()",
   "outputs": [],
   "execution_count": null
  },
  {
   "cell_type": "code",
   "metadata": {
    "id": "EBrebb9jFMho",
    "cell_id": "00027-d2ab0fd0-abb8-41f3-8003-7b26dba9c34e",
    "deepnote_to_be_reexecuted": false,
    "source_hash": "a9b87130",
    "execution_start": 1643300027846,
    "execution_millis": 1,
    "deepnote_cell_type": "code"
   },
   "source": "sequential_loss_list=[]\ndef train_model_sequential(model,loss_fn,training_input,training_target,epochs,optimizer):\n  model.train(True)\n  for epoch in range(epochs) :\n    for ind in range(len(training_input)-24,24,-1):\n      optimizer.zero_grad()\n      output=model(training_input[ind].float().to(device))\n      #print(output)\n      #print(output.size())\n      #construct the target\n      target=construct_target(ind,training_target,24)\n      loss = loss_fn(output, target.to(device))\n      \n      \n\n      if ind%100==0:\n        sequential_loss_list.append(loss)\n      loss.backward()\n      optimizer.step()\n      ",
   "outputs": [],
   "execution_count": null
  },
  {
   "cell_type": "code",
   "metadata": {
    "cell_id": "bd926bf8-51ae-4f15-9a39-0c3bc36339a8",
    "tags": [],
    "deepnote_to_be_reexecuted": false,
    "source_hash": "e15eaad2",
    "execution_start": 1643303243201,
    "execution_millis": 1,
    "deepnote_cell_type": "code"
   },
   "source": "simple_sequential_loss_list=[]\ndef train_simple_model_sequential(model,loss_fn,training_input,training_target,epochs,optimizer):\n  model.train(True)\n  for epoch in range(epochs) :\n    for ind in range(len(training_input)-24,24,-1):\n      \n      output=model(training_input[ind].float().to(device))\n      #print(output)\n      #print(output.size())\n      #construct the target\n      target=construct_target(ind,training_target,1)\n      loss = loss_fn(output, target.to(device))\n      optimizer.zero_grad()\n      \n\n      if ind%100==0:\n        simple_sequential_loss_list.append(loss)\n      loss.backward()\n      optimizer.step()",
   "outputs": [],
   "execution_count": null
  },
  {
   "cell_type": "code",
   "metadata": {
    "id": "JYn52wc7LzFZ",
    "cell_id": "00028-71f3916e-23c7-46ed-b5a5-93f4f06c5c65",
    "deepnote_to_be_reexecuted": false,
    "source_hash": "664296c",
    "execution_start": 1643295454639,
    "execution_millis": 159,
    "deepnote_cell_type": "code"
   },
   "source": "\npast_features_indices= [0,2,3,4,5,6,7,8,9]\nfuture_indices= [1]\nlstm_loss_list=[]\ntarget_hours=1\nrng = np.random.default_rng()\n\ndef train_lstm_stochastic(model,loss_fn,training_input,training_target,epochs,optimizer,length_sequence,past_features_indices,future_indices):\n  model.train(True)\n  for epoch in range(epochs):\n      for i in range(len(training_input)):\n          ind=rng.integers(24, high=len(training_input)-length_sequence-24, size=None, dtype=np.int64, endpoint=False)\n          optimizer.zero_grad()\n          output=model(construct_sequence(ind,length_sequence,past_features_indices,training_input).float().to(device),training_input[ind][future_indices].float().to(device))\n          target=construct_target(ind,training_target,target_hours)\n          loss = loss_fn(output, target.to(device))\n          if i%100==0:\n            lstm_loss_list.append(loss)\n          loss.backward()\n          optimizer.step()\n",
   "outputs": [],
   "execution_count": null
  },
  {
   "cell_type": "code",
   "metadata": {
    "id": "k0rDCZeEFo4d",
    "cell_id": "00029-bd473a58-e9e0-45cd-85f1-2718aded02b9",
    "deepnote_to_be_reexecuted": false,
    "source_hash": "f29c4de2",
    "execution_start": 1643300032942,
    "execution_millis": 33185,
    "deepnote_output_heights": [
     606.328125
    ],
    "deepnote_cell_type": "code"
   },
   "source": "train_model_sequential(model_sequential,loss_fn,data_dict['features_train_tensor_list'],data_dict['target_train_tensor_list'],nb_epochs,simple_optim_sequential)",
   "outputs": [],
   "execution_count": null
  },
  {
   "cell_type": "code",
   "metadata": {
    "cell_id": "9abe1c45-f6c3-4832-9704-050e561e281f",
    "tags": [],
    "deepnote_to_be_reexecuted": false,
    "source_hash": "ab5e1333",
    "execution_start": 1643303253339,
    "execution_millis": 8,
    "deepnote_output_heights": [
     122
    ],
    "deepnote_cell_type": "code"
   },
   "source": "train_simple_model_sequential(simple_model_sequential,loss_fn,data_dict['features_train_tensor_list'],data_dict['target_train_tensor_list'],nb_epochs,optimizer_sequential)",
   "outputs": [
    {
     "output_type": "error",
     "ename": "NameError",
     "evalue": "name 'simple_model_sequential' is not defined",
     "traceback": [
      "\u001b[0;31m---------------------------------------------------------------------------\u001b[0m",
      "\u001b[0;31mNameError\u001b[0m                                 Traceback (most recent call last)",
      "\u001b[0;32m<ipython-input-3-a6241fce0268>\u001b[0m in \u001b[0;36m<module>\u001b[0;34m\u001b[0m\n\u001b[0;32m----> 1\u001b[0;31m \u001b[0mtrain_simple_model_sequential\u001b[0m\u001b[0;34m(\u001b[0m\u001b[0msimple_model_sequential\u001b[0m\u001b[0;34m,\u001b[0m\u001b[0mloss_fn\u001b[0m\u001b[0;34m,\u001b[0m\u001b[0mdata_dict\u001b[0m\u001b[0;34m[\u001b[0m\u001b[0;34m'features_train_tensor_list'\u001b[0m\u001b[0;34m]\u001b[0m\u001b[0;34m,\u001b[0m\u001b[0mdata_dict\u001b[0m\u001b[0;34m[\u001b[0m\u001b[0;34m'target_train_tensor_list'\u001b[0m\u001b[0;34m]\u001b[0m\u001b[0;34m,\u001b[0m\u001b[0mnb_epochs\u001b[0m\u001b[0;34m,\u001b[0m\u001b[0moptimizer_sequential\u001b[0m\u001b[0;34m)\u001b[0m\u001b[0;34m\u001b[0m\u001b[0;34m\u001b[0m\u001b[0m\n\u001b[0m",
      "\u001b[0;31mNameError\u001b[0m: name 'simple_model_sequential' is not defined"
     ]
    }
   ],
   "execution_count": null
  },
  {
   "cell_type": "code",
   "metadata": {
    "id": "XptwPqFq0LSF",
    "cell_id": "00030-a55bc26c-6c2c-4c16-a297-e88b5c26ea4e",
    "deepnote_to_be_reexecuted": false,
    "source_hash": "239c4b98",
    "execution_start": 1643293145240,
    "execution_millis": 54788,
    "deepnote_output_heights": [
     251.5625
    ],
    "deepnote_cell_type": "code"
   },
   "source": "train_model_stochastic(model_stochastic,loss_fn,data_dict['features_train_tensor_list'], data_dict['target_train_tensor_list'], nb_epochs,optimizer_stochastic)",
   "outputs": [],
   "execution_count": null
  },
  {
   "cell_type": "code",
   "metadata": {
    "colab": {
     "base_uri": "https://localhost:8080/",
     "height": 606
    },
    "id": "XJNbqUwCWEPd",
    "executionInfo": {
     "status": "error",
     "timestamp": 1643233998833,
     "user_tz": -60,
     "elapsed": 217,
     "user": {
      "displayName": "Maxime Janbon",
      "photoUrl": "https://lh3.googleusercontent.com/a/default-user=s64",
      "userId": "09473355502460053881"
     }
    },
    "outputId": "c0ea1b7c-552b-474b-f820-8e2a3ad41b5a",
    "cell_id": "00031-5d9751c1-5432-4161-be79-8a03bf901789",
    "deepnote_to_be_reexecuted": false,
    "source_hash": "5f41c299",
    "execution_start": 1643295457603,
    "execution_millis": 2460843,
    "deepnote_output_heights": [
     520.34375,
     506
    ],
    "deepnote_cell_type": "code"
   },
   "source": "train_lstm_stochastic(lstm_stochastic,loss_fn,data_dict['features_train_tensor_list'],data_dict['target_train_tensor_list'],nb_epochs,lstm_optim_stochastic,length_sequence,past_features_indices,future_indices)",
   "outputs": [],
   "execution_count": null
  },
  {
   "cell_type": "code",
   "metadata": {
    "id": "sNVNPpP10NyM",
    "colab": {
     "base_uri": "https://localhost:8080/",
     "height": 303
    },
    "executionInfo": {
     "status": "ok",
     "timestamp": 1643216119688,
     "user_tz": -60,
     "elapsed": 574,
     "user": {
      "displayName": "Maxime Janbon",
      "photoUrl": "https://lh3.googleusercontent.com/a/default-user=s64",
      "userId": "09473355502460053881"
     }
    },
    "outputId": "99f120ca-51c4-479d-8ddf-0671b4c9cf04",
    "cell_id": "00032-59c2ed46-dac7-4575-a973-14be54b4878d",
    "deepnote_to_be_reexecuted": false,
    "source_hash": "fdb6e490",
    "execution_start": 1643301803512,
    "execution_millis": 409,
    "deepnote_output_heights": [
     null,
     252
    ],
    "deepnote_cell_type": "code"
   },
   "source": "plt.plot(range(len(sequential_loss_list)), sequential_loss_list, color='orange', label='Loss with sequential batches')\nplt.plot(range(len(simple_sequential_loss_list)), simple_sequential_loss_list, color='purple', label='Loss with simple sequential batches')\nprint(stochastic_loss_list)\nprint(lstm_loss_list)\n#plt.plot(range(len(stochastic_loss_list)), stochastic_loss_list, color='green', label='Loss with random batches')\n#plt.plot(range(len(lstm_loss_list)), lstm_loss_list, color='red', label='Loss with lstm stochastic batches')\n\nplt.legend()\nplt.show()",
   "outputs": [
    {
     "name": "stdout",
     "text": "[]\n[tensor(0.1763, grad_fn=<L1LossBackward0>), tensor(0.1736, grad_fn=<L1LossBackward0>), tensor(0.1444, grad_fn=<L1LossBackward0>), tensor(0.1441, grad_fn=<L1LossBackward0>), tensor(0.1584, grad_fn=<L1LossBackward0>), tensor(0.1544, grad_fn=<L1LossBackward0>), tensor(0.1796, grad_fn=<L1LossBackward0>), tensor(0.1722, grad_fn=<L1LossBackward0>), tensor(0.1346, grad_fn=<L1LossBackward0>), tensor(0.1034, grad_fn=<L1LossBackward0>), tensor(0.1106, grad_fn=<L1LossBackward0>), tensor(0.0960, grad_fn=<L1LossBackward0>), tensor(0.1234, grad_fn=<L1LossBackward0>), tensor(0.1517, grad_fn=<L1LossBackward0>), tensor(0.1505, grad_fn=<L1LossBackward0>), tensor(0.1622, grad_fn=<L1LossBackward0>), tensor(0.1114, grad_fn=<L1LossBackward0>), tensor(0.1247, grad_fn=<L1LossBackward0>), tensor(0.2277, grad_fn=<L1LossBackward0>), tensor(0.1198, grad_fn=<L1LossBackward0>), tensor(0.1330, grad_fn=<L1LossBackward0>), tensor(0.1834, grad_fn=<L1LossBackward0>), tensor(0.1115, grad_fn=<L1LossBackward0>), tensor(0.1482, grad_fn=<L1LossBackward0>), tensor(0.1073, grad_fn=<L1LossBackward0>), tensor(0.2091, grad_fn=<L1LossBackward0>), tensor(0.1035, grad_fn=<L1LossBackward0>), tensor(0.2227, grad_fn=<L1LossBackward0>), tensor(0.1081, grad_fn=<L1LossBackward0>), tensor(0.1081, grad_fn=<L1LossBackward0>), tensor(0.0957, grad_fn=<L1LossBackward0>), tensor(0.1297, grad_fn=<L1LossBackward0>), tensor(0.1124, grad_fn=<L1LossBackward0>), tensor(0.1315, grad_fn=<L1LossBackward0>), tensor(0.1269, grad_fn=<L1LossBackward0>), tensor(0.0784, grad_fn=<L1LossBackward0>), tensor(0.1044, grad_fn=<L1LossBackward0>), tensor(0.0943, grad_fn=<L1LossBackward0>), tensor(0.1179, grad_fn=<L1LossBackward0>), tensor(0.1512, grad_fn=<L1LossBackward0>), tensor(0.0934, grad_fn=<L1LossBackward0>), tensor(0.0975, grad_fn=<L1LossBackward0>), tensor(0.0948, grad_fn=<L1LossBackward0>), tensor(0.2006, grad_fn=<L1LossBackward0>), tensor(0.1100, grad_fn=<L1LossBackward0>), tensor(0.1060, grad_fn=<L1LossBackward0>), tensor(0.1009, grad_fn=<L1LossBackward0>), tensor(0.1238, grad_fn=<L1LossBackward0>), tensor(0.0918, grad_fn=<L1LossBackward0>), tensor(0.1711, grad_fn=<L1LossBackward0>), tensor(0.1640, grad_fn=<L1LossBackward0>), tensor(0.1148, grad_fn=<L1LossBackward0>), tensor(0.0980, grad_fn=<L1LossBackward0>), tensor(0.1424, grad_fn=<L1LossBackward0>), tensor(0.0843, grad_fn=<L1LossBackward0>), tensor(0.0997, grad_fn=<L1LossBackward0>), tensor(0.0917, grad_fn=<L1LossBackward0>), tensor(0.0887, grad_fn=<L1LossBackward0>), tensor(0.1146, grad_fn=<L1LossBackward0>), tensor(0.1851, grad_fn=<L1LossBackward0>), tensor(0.1392, grad_fn=<L1LossBackward0>), tensor(0.1543, grad_fn=<L1LossBackward0>), tensor(0.1048, grad_fn=<L1LossBackward0>), tensor(0.1910, grad_fn=<L1LossBackward0>), tensor(0.0975, grad_fn=<L1LossBackward0>), tensor(0.0863, grad_fn=<L1LossBackward0>), tensor(0.0941, grad_fn=<L1LossBackward0>), tensor(0.0809, grad_fn=<L1LossBackward0>), tensor(0.1324, grad_fn=<L1LossBackward0>), tensor(0.1031, grad_fn=<L1LossBackward0>), tensor(0.0884, grad_fn=<L1LossBackward0>), tensor(0.1187, grad_fn=<L1LossBackward0>), tensor(0.0797, grad_fn=<L1LossBackward0>), tensor(0.0999, grad_fn=<L1LossBackward0>), tensor(0.0921, grad_fn=<L1LossBackward0>), tensor(0.0774, grad_fn=<L1LossBackward0>), tensor(0.1025, grad_fn=<L1LossBackward0>), tensor(0.1316, grad_fn=<L1LossBackward0>), tensor(0.2092, grad_fn=<L1LossBackward0>), tensor(0.1832, grad_fn=<L1LossBackward0>), tensor(0.1690, grad_fn=<L1LossBackward0>), tensor(0.0667, grad_fn=<L1LossBackward0>), tensor(0.1050, grad_fn=<L1LossBackward0>), tensor(0.1417, grad_fn=<L1LossBackward0>), tensor(0.1328, grad_fn=<L1LossBackward0>), tensor(0.0812, grad_fn=<L1LossBackward0>), tensor(0.1544, grad_fn=<L1LossBackward0>), tensor(0.1293, grad_fn=<L1LossBackward0>), tensor(0.1042, grad_fn=<L1LossBackward0>), tensor(0.0948, grad_fn=<L1LossBackward0>), tensor(0.1166, grad_fn=<L1LossBackward0>), tensor(0.0894, grad_fn=<L1LossBackward0>), tensor(0.1353, grad_fn=<L1LossBackward0>), tensor(0.0848, grad_fn=<L1LossBackward0>), tensor(0.0887, grad_fn=<L1LossBackward0>), tensor(0.0956, grad_fn=<L1LossBackward0>), tensor(0.1323, grad_fn=<L1LossBackward0>), tensor(0.1008, grad_fn=<L1LossBackward0>), tensor(0.0815, grad_fn=<L1LossBackward0>), tensor(0.1066, grad_fn=<L1LossBackward0>), tensor(0.1861, grad_fn=<L1LossBackward0>), tensor(0.1027, grad_fn=<L1LossBackward0>), tensor(0.0918, grad_fn=<L1LossBackward0>), tensor(0.1905, grad_fn=<L1LossBackward0>), tensor(0.1779, grad_fn=<L1LossBackward0>), tensor(0.1005, grad_fn=<L1LossBackward0>), tensor(0.1067, grad_fn=<L1LossBackward0>), tensor(0.0959, grad_fn=<L1LossBackward0>), tensor(0.1028, grad_fn=<L1LossBackward0>), tensor(0.0803, grad_fn=<L1LossBackward0>), tensor(0.0943, grad_fn=<L1LossBackward0>), tensor(0.1616, grad_fn=<L1LossBackward0>), tensor(0.1225, grad_fn=<L1LossBackward0>), tensor(0.1327, grad_fn=<L1LossBackward0>), tensor(0.1169, grad_fn=<L1LossBackward0>), tensor(0.0906, grad_fn=<L1LossBackward0>), tensor(0.0875, grad_fn=<L1LossBackward0>), tensor(0.1265, grad_fn=<L1LossBackward0>), tensor(0.1563, grad_fn=<L1LossBackward0>), tensor(0.1934, grad_fn=<L1LossBackward0>), tensor(0.0807, grad_fn=<L1LossBackward0>), tensor(0.1625, grad_fn=<L1LossBackward0>), tensor(0.0816, grad_fn=<L1LossBackward0>), tensor(0.0841, grad_fn=<L1LossBackward0>), tensor(0.1060, grad_fn=<L1LossBackward0>), tensor(0.1003, grad_fn=<L1LossBackward0>), tensor(0.1266, grad_fn=<L1LossBackward0>), tensor(0.0968, grad_fn=<L1LossBackward0>), tensor(0.0895, grad_fn=<L1LossBackward0>), tensor(0.1927, grad_fn=<L1LossBackward0>), tensor(0.1020, grad_fn=<L1LossBackward0>), tensor(0.0963, grad_fn=<L1LossBackward0>), tensor(0.1235, grad_fn=<L1LossBackward0>), tensor(0.1020, grad_fn=<L1LossBackward0>), tensor(0.1148, grad_fn=<L1LossBackward0>), tensor(0.0979, grad_fn=<L1LossBackward0>), tensor(0.1417, grad_fn=<L1LossBackward0>), tensor(0.0899, grad_fn=<L1LossBackward0>), tensor(0.0916, grad_fn=<L1LossBackward0>), tensor(0.0953, grad_fn=<L1LossBackward0>), tensor(0.1337, grad_fn=<L1LossBackward0>), tensor(0.1323, grad_fn=<L1LossBackward0>), tensor(0.1952, grad_fn=<L1LossBackward0>), tensor(0.0938, grad_fn=<L1LossBackward0>), tensor(0.1961, grad_fn=<L1LossBackward0>), tensor(0.1247, grad_fn=<L1LossBackward0>), tensor(0.0813, grad_fn=<L1LossBackward0>), tensor(0.1510, grad_fn=<L1LossBackward0>), tensor(0.0881, grad_fn=<L1LossBackward0>), tensor(0.0852, grad_fn=<L1LossBackward0>), tensor(0.0815, grad_fn=<L1LossBackward0>), tensor(0.0848, grad_fn=<L1LossBackward0>), tensor(0.0687, grad_fn=<L1LossBackward0>), tensor(0.1335, grad_fn=<L1LossBackward0>), tensor(0.1829, grad_fn=<L1LossBackward0>), tensor(0.0970, grad_fn=<L1LossBackward0>), tensor(0.1286, grad_fn=<L1LossBackward0>), tensor(0.1483, grad_fn=<L1LossBackward0>), tensor(0.1073, grad_fn=<L1LossBackward0>), tensor(0.0853, grad_fn=<L1LossBackward0>), tensor(0.1013, grad_fn=<L1LossBackward0>), tensor(0.0794, grad_fn=<L1LossBackward0>), tensor(0.1298, grad_fn=<L1LossBackward0>), tensor(0.1608, grad_fn=<L1LossBackward0>), tensor(0.0971, grad_fn=<L1LossBackward0>), tensor(0.0852, grad_fn=<L1LossBackward0>), tensor(0.1929, grad_fn=<L1LossBackward0>), tensor(0.1636, grad_fn=<L1LossBackward0>), tensor(0.1802, grad_fn=<L1LossBackward0>), tensor(0.0820, grad_fn=<L1LossBackward0>), tensor(0.1541, grad_fn=<L1LossBackward0>), tensor(0.1318, grad_fn=<L1LossBackward0>), tensor(0.1196, grad_fn=<L1LossBackward0>), tensor(0.1962, grad_fn=<L1LossBackward0>), tensor(0.1009, grad_fn=<L1LossBackward0>), tensor(0.1222, grad_fn=<L1LossBackward0>), tensor(0.1050, grad_fn=<L1LossBackward0>), tensor(0.0961, grad_fn=<L1LossBackward0>), tensor(0.1138, grad_fn=<L1LossBackward0>), tensor(0.0806, grad_fn=<L1LossBackward0>), tensor(0.0879, grad_fn=<L1LossBackward0>), tensor(0.1574, grad_fn=<L1LossBackward0>), tensor(0.1019, grad_fn=<L1LossBackward0>), tensor(0.1711, grad_fn=<L1LossBackward0>), tensor(0.0757, grad_fn=<L1LossBackward0>), tensor(0.0929, grad_fn=<L1LossBackward0>), tensor(0.1009, grad_fn=<L1LossBackward0>), tensor(0.1001, grad_fn=<L1LossBackward0>), tensor(0.0953, grad_fn=<L1LossBackward0>)]\n",
     "output_type": "stream"
    },
    {
     "data": {
      "text/plain": "<Figure size 432x288 with 1 Axes>",
      "image/png": "[encoded data removed]"
     },
     "metadata": {
      "needs_background": "light",
      "image/png": {
       "width": 377,
       "height": 250
      }
     },
     "output_type": "display_data"
    }
   ],
   "execution_count": null
  },
  {
   "cell_type": "markdown",
   "source": "## Arima Model",
   "metadata": {
    "cell_id": "37b0770c-8f74-4a5a-bea9-6ed99d795598",
    "tags": [],
    "is_collapsed": false,
    "deepnote_cell_type": "text-cell-h2"
   }
  },
  {
   "cell_type": "markdown",
   "source": "",
   "metadata": {
    "cell_id": "c431390e-9f04-442e-bd40-b336b8446b61",
    "tags": [],
    "is_collapsed": false,
    "deepnote_cell_type": "text-cell-p"
   }
  },
  {
   "cell_type": "code",
   "metadata": {
    "cell_id": "fc4ae9e1-7f45-452f-bfd7-a617866ec27f",
    "tags": [],
    "deepnote_to_be_reexecuted": true,
    "source_hash": "5c9fcb87",
    "deepnote_cell_type": "code"
   },
   "source": "mod = ARIMA(endog, order=(4, 1, 2))\nres = mod.fit()\nprint(res.summary())",
   "outputs": [],
   "execution_count": null
  },
  {
   "cell_type": "markdown",
   "source": "<a style='text-decoration:none;line-height:16px;display:flex;color:#5B5B62;padding:10px;justify-content:end;' href='https://deepnote.com?utm_source=created-in-deepnote-cell&projectId=ca6f955c-b181-41cc-a47f-43205351cbaf' target=\"_blank\">\n<img alt='Created in deepnote.com' style='display:inline;max-height:16px;margin:0px;margin-right:7.5px;' src='data:image/svg+xml;base64,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' > </img>\nCreated in <span style='font-weight:600;margin-left:4px;'>Deepnote</span></a>",
   "metadata": {
    "tags": [],
    "created_in_deepnote_cell": true,
    "deepnote_cell_type": "markdown"
   }
  }
 ],
 "nbformat": 4,
 "nbformat_minor": 0,
 "metadata": {
  "colab": {
   "name": "test.ipynb",
   "provenance": [],
   "collapsed_sections": []
  },
  "kernelspec": {
   "name": "python3",
   "display_name": "Python 3"
  },
  "language_info": {
   "name": "python"
  },
  "deepnote_notebook_id": "45506785-a296-4c56-88e7-184623a0d938",
  "deepnote": {},
  "deepnote_execution_queue": []
 }
}