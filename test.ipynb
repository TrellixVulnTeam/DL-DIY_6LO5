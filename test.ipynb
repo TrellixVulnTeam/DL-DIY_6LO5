{
  "nbformat": 4,
  "nbformat_minor": 0,
  "metadata": {
    "colab": {
      "name": "test.ipynb",
      "provenance": [],
      "authorship_tag": "ABX9TyO5IamMviwD2xAIqVpGDHHX",
      "include_colab_link": true
    },
    "kernelspec": {
      "name": "python3",
      "display_name": "Python 3"
    },
    "language_info": {
      "name": "python"
    }
  },
  "cells": [
    {
      "cell_type": "markdown",
      "metadata": {
        "id": "view-in-github",
        "colab_type": "text"
      },
      "source": [
        "<a href=\"https://colab.research.google.com/github/ishilov/DL-DIY/blob/master/test.ipynb\" target=\"_parent\"><img src=\"https://colab.research.google.com/assets/colab-badge.svg\" alt=\"Open In Colab\"/></a>"
      ]
    },
    {
      "cell_type": "code",
      "execution_count": 1,
      "metadata": {
        "id": "k8rGhh8rbLhL",
        "colab": {
          "base_uri": "https://localhost:8080/"
        },
        "outputId": "60dfdc1a-8260-4792-d005-fdff6be3dcbe"
      },
      "outputs": [
        {
          "output_type": "stream",
          "name": "stdout",
          "text": [
            "Hi, Maxime\n"
          ]
        }
      ],
      "source": [
        "print('Hi, Maxime')"
      ]
    },
    {
      "cell_type": "code",
      "source": [
        ""
      ],
      "metadata": {
        "id": "nJhDaBaabe-d"
      },
      "execution_count": null,
      "outputs": []
    }
  ]
}