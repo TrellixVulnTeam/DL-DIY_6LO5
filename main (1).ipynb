{
 "cells": [
  {
   "cell_type": "code",
   "metadata": {
    "cell_id": "d179447f-f86b-4489-bd1e-5fd020643f07",
    "tags": [],
    "deepnote_to_be_reexecuted": false,
    "source_hash": "a200f0b0",
    "execution_start": 1643332153448,
    "execution_millis": 3424,
    "deepnote_cell_type": "code"
   },
   "source": "!pip install statsmodels==0.13.1",
   "execution_count": 236,
   "outputs": [
    {
     "name": "stdout",
     "text": "Requirement already satisfied: statsmodels==0.13.1 in /root/venv/lib/python3.7/site-packages (0.13.1)\nRequirement already satisfied: patsy>=0.5.2 in /root/venv/lib/python3.7/site-packages (from statsmodels==0.13.1) (0.5.2)\nRequirement already satisfied: scipy>=1.3 in /shared-libs/python3.7/py/lib/python3.7/site-packages (from statsmodels==0.13.1) (1.7.3)\nRequirement already satisfied: numpy>=1.17 in /shared-libs/python3.7/py/lib/python3.7/site-packages (from statsmodels==0.13.1) (1.19.5)\nRequirement already satisfied: pandas>=0.25 in /shared-libs/python3.7/py/lib/python3.7/site-packages (from statsmodels==0.13.1) (1.2.5)\nRequirement already satisfied: six in /shared-libs/python3.7/py-core/lib/python3.7/site-packages (from patsy>=0.5.2->statsmodels==0.13.1) (1.16.0)\nRequirement already satisfied: python-dateutil>=2.7.3 in /shared-libs/python3.7/py-core/lib/python3.7/site-packages (from pandas>=0.25->statsmodels==0.13.1) (2.8.2)\nRequirement already satisfied: pytz>=2017.3 in /shared-libs/python3.7/py/lib/python3.7/site-packages (from pandas>=0.25->statsmodels==0.13.1) (2021.3)\n\u001b[33mWARNING: You are using pip version 20.1.1; however, version 21.3.1 is available.\nYou should consider upgrading via the '/root/venv/bin/python -m pip install --upgrade pip' command.\u001b[0m\n",
     "output_type": "stream"
    }
   ]
  },
  {
   "cell_type": "code",
   "metadata": {
    "id": "k8rGhh8rbLhL",
    "executionInfo": {
     "status": "ok",
     "timestamp": 1643234098844,
     "user_tz": -60,
     "elapsed": 9206,
     "user": {
      "displayName": "Илья Шилов",
      "photoUrl": "https://lh3.googleusercontent.com/a/default-user=s64",
      "userId": "02218864198108755188"
     }
    },
    "cell_id": "24cbb873-2251-4328-a311-eb54c6f1b348",
    "deepnote_to_be_reexecuted": false,
    "source_hash": "2b432e56",
    "execution_start": 1643332156875,
    "execution_millis": 2,
    "deepnote_cell_type": "code"
   },
   "source": "import torch\nimport torch.nn as nn\nimport torch.nn.functional as F\nfrom matplotlib import pyplot as plt\nimport numpy as np\nimport pandas as pd\nimport seaborn as sns\nimport matplotlib.pyplot as plt\nfrom torch.autograd import Variable \n\nfrom sklearn import preprocessing\nfrom statsmodels.tsa.arima.model import ARIMA",
   "execution_count": 237,
   "outputs": []
  },
  {
   "cell_type": "markdown",
   "source": "## Loading data",
   "metadata": {
    "id": "U9gWWU1fig28",
    "cell_id": "00001-d1b78aef-6f07-401e-af46-48a5d7aab597",
    "deepnote_cell_type": "markdown"
   }
  },
  {
   "cell_type": "code",
   "metadata": {
    "colab": {
     "base_uri": "https://localhost:8080/"
    },
    "id": "Of_V0fuOesvP",
    "executionInfo": {
     "status": "ok",
     "timestamp": 1643234099543,
     "user_tz": -60,
     "elapsed": 704,
     "user": {
      "displayName": "Илья Шилов",
      "photoUrl": "https://lh3.googleusercontent.com/a/default-user=s64",
      "userId": "02218864198108755188"
     }
    },
    "outputId": "bd25d8d7-fdb0-4cee-e3a8-a06594317c04",
    "cell_id": "00002-cd805097-a818-4f82-81e7-439bd6bb9e73",
    "deepnote_to_be_reexecuted": false,
    "source_hash": "b623e53d",
    "execution_start": 1643332156881,
    "execution_millis": 1,
    "deepnote_output_heights": [
     136.375
    ],
    "deepnote_cell_type": "code"
   },
   "source": "",
   "execution_count": 237,
   "outputs": []
  },
  {
   "cell_type": "code",
   "metadata": {
    "id": "fCdccWXx5bcQ",
    "executionInfo": {
     "status": "ok",
     "timestamp": 1643234099544,
     "user_tz": -60,
     "elapsed": 6,
     "user": {
      "displayName": "Илья Шилов",
      "photoUrl": "https://lh3.googleusercontent.com/a/default-user=s64",
      "userId": "02218864198108755188"
     }
    },
    "cell_id": "00003-863f5f4b-678a-4338-8029-331f18cceed5",
    "deepnote_to_be_reexecuted": false,
    "source_hash": "7ef3615c",
    "execution_start": 1643332156886,
    "execution_millis": 16,
    "deepnote_cell_type": "code"
   },
   "source": "def csv_preprocessing_local():\n    data_1 = pd.read_csv('ods001.csv', sep = ';')\n    data_2 = pd.read_csv('ods034.csv', sep = ';')\n    data_3 = pd.read_csv('ods035.csv', sep = ';')\n\n    data_1.rename({'DateTime' : 'Datetime'}, axis = 1, inplace=True)\n    data_2.rename({'Fuel code' : 'Fuel'}, axis = 1, inplace=True)\n\n    result_data = pd.merge(data_2, data_3, on = ['Datetime', 'Fuel'])\n    result_data = pd.merge(data_1, result_data, on = 'Datetime')\n    result_data.Datetime = pd.to_datetime(result_data.Datetime)\n    result_data.drop(['Resolution code', 'Resolution code_x', 'Resolution code_y'], axis = 1, inplace = True)\n    result_data['Datetime'] = pd.to_datetime(result_data['Datetime'], utc=True)\n    result_data.set_index('Datetime', inplace=True)\n\n    f = open(\"input_data.csv\", \"w\")\n\n    result_data.to_csv('input_data.csv')",
   "execution_count": 238,
   "outputs": []
  },
  {
   "cell_type": "code",
   "metadata": {
    "id": "k5bKRBOBgnaY",
    "executionInfo": {
     "status": "ok",
     "timestamp": 1643237632531,
     "user_tz": -60,
     "elapsed": 214,
     "user": {
      "displayName": "Илья Шилов",
      "photoUrl": "https://lh3.googleusercontent.com/a/default-user=s64",
      "userId": "02218864198108755188"
     }
    },
    "cell_id": "00004-5cab9e6d-fc18-4fc8-92e4-0ee50c716573",
    "deepnote_to_be_reexecuted": false,
    "source_hash": "9bf7a091",
    "execution_start": 1643332156903,
    "execution_millis": 7,
    "deepnote_cell_type": "code"
   },
   "source": "def data_loading_old():    \n    url_dict = {}\n    for year in range (2015, 2022):\n        url_dict.update({f'url_{year}' : f'https://raw.githubusercontent.com/ishilov/DL-DIY/master/day_ahead_prices_{year}.csv'})\n\n    train_data = pd.DataFrame([])\n\n    for _, url in list(url_dict.items())[:-2]:\n        train_data = pd.concat([train_data, pd.read_csv(url)]) if len(train_data) else pd.read_csv(url)\n\n    test_data = pd.read_csv(url_dict['url_2020'])\n\n    train_data['Datetime'] = pd.to_datetime(train_data['MTU (CET)'].astype(str).apply(lambda x: x[:16]), utc=True)\n    test_data['Datetime'] = pd.to_datetime(test_data['MTU (CET)'].astype(str).apply(lambda x: x[:16]), utc=True)\n\n    train_data.drop(['MTU (CET)'], axis = 1, inplace= True)\n    test_data.drop(['MTU (CET)'], axis = 1, inplace= True)\n    #train_data.set_index('Datetime', inplace= True)\n\n    exogeneous_data = pd.read_csv('https://raw.githubusercontent.com/ishilov/DL-DIY/master/input_data.csv')\n    date = pd.to_datetime('01.01.2020')\n\n    date_2 = pd.to_datetime('01.01.2021')\n    \n    exogeneous_data['Datetime'] = pd.to_datetime(exogeneous_data['Datetime'])\n\n    exogeneous_data.Datetime = exogeneous_data.Datetime.dt.tz_localize(None)\n    train_data.Datetime = train_data.Datetime.dt.tz_localize(None)\n    test_data.Datetime = test_data.Datetime.dt.tz_localize(None)\n\n    exogeneous_train = exogeneous_data[exogeneous_data.Datetime < date]\n    exogeneous_test = exogeneous_data[exogeneous_data.Datetime >= date]\n    exogeneous_test = exogeneous_test[exogeneous_test.Datetime < date_2]\n\n    #exogeneous_data.set_index('Datetime', inplace= True)\n\n    train_data = pd.merge(exogeneous_train, train_data, on = 'Datetime')\n    test_data = pd.merge(exogeneous_test, test_data, on = 'Datetime')\n\n    return train_data, test_data",
   "execution_count": 239,
   "outputs": []
  },
  {
   "cell_type": "code",
   "metadata": {
    "cell_id": "4537a754-6c3b-4ac2-bd2a-50d0b783edb5",
    "tags": [],
    "deepnote_to_be_reexecuted": false,
    "source_hash": "33328bde",
    "execution_start": 1643332156928,
    "execution_millis": 3,
    "deepnote_output_heights": [
     21.1875
    ],
    "deepnote_cell_type": "code"
   },
   "source": "def data_loading():\n    train_data_be_prices, test_data_be_prices = pd.DataFrame([]), pd.DataFrame([])\n    train_data_fr_prices, test_data_fr_prices = pd.DataFrame([]), pd.DataFrame([])\n    train_data_be_load, test_data_be_load = pd.DataFrame([]), pd.DataFrame([])\n    train_data_be_generation, test_data_be_generation = pd.DataFrame([]), pd.DataFrame([])\n\n    #first we load all the data from the github\n\n    url_dict_be_prices, url_dict_fr_prices, url_dict_be_load, url_dict_be_generation  = {}, {}, {}, {}\n    for year in range (2015, 2022):\n        url_dict_be_prices.update({f'url_{year}' : f'https://raw.githubusercontent.com/ishilov/DL-DIY/master/day_ahead_prices_{year}.csv'})\n        url_dict_fr_prices.update({f'url_{year}' : f'https://raw.githubusercontent.com/ishilov/DL-DIY/master/france_prices/Day_ahead_Prices_{year}_france.csv'})\n        url_dict_be_load.update({f'url_{year}' : f'https://raw.githubusercontent.com/ishilov/DL-DIY/master/load_data_belgium/Total%20Load_Day%20Ahead_%20Actual_{year}.csv'})\n        url_dict_be_generation.update({f'url_{year}' : f'https://raw.githubusercontent.com/ishilov/DL-DIY/master/actual_generation_belgium/Actual_Generation_per_Production_Type_{year}.csv'})\n\n    #for the training dataset we take 2015-2019 (or 2020) and for the test 2020 (or 2021)\n    #take the belgian prices\n    for _, url in list(url_dict_be_prices.items())[:-2]:\n        train_data_be_prices = pd.concat([train_data_be_prices, pd.read_csv(url)], ignore_index=True) if len(train_data_be_prices) else pd.read_csv(url)\n\n    test_data_be_prices = pd.read_csv(url_dict_be_prices['url_2020'])\n\n    train_data_be_prices['Datetime'] = pd.to_datetime(train_data_be_prices['MTU (CET)'].astype(str).apply(lambda x: x[:16]), utc=True)\n    test_data_be_prices['Datetime'] = pd.to_datetime(test_data_be_prices['MTU (CET)'].astype(str).apply(lambda x: x[:16]), utc=True)\n\n    train_data_be_prices.drop(['MTU (CET)'], axis = 1, inplace= True)\n    test_data_be_prices.drop(['MTU (CET)'], axis = 1, inplace= True)\n\n    train_data_be_prices.rename({'Day-ahead Price [EUR/MWh]' : 'Prices Belgium'}, axis = 1, inplace = True)\n    test_data_be_prices.rename({'Day-ahead Price [EUR/MWh]' : 'Prices Belgium'}, axis = 1, inplace = True)\n\n    #take the france prices\n    for _, url in list(url_dict_fr_prices.items())[:-2]:\n        train_data_fr_prices = pd.concat([train_data_fr_prices, pd.read_csv(url)], ignore_index=True) if len(train_data_fr_prices) else pd.read_csv(url)\n\n    test_data_fr_prices = pd.read_csv(url_dict_fr_prices['url_2020'])\n\n    train_data_fr_prices['Datetime'] = pd.to_datetime(train_data_fr_prices['MTU (CET)'].astype(str).apply(lambda x: x[:16]), utc=True)\n    test_data_fr_prices['Datetime'] = pd.to_datetime(test_data_fr_prices['MTU (CET)'].astype(str).apply(lambda x: x[:16]), utc=True)\n\n    train_data_fr_prices.drop(['MTU (CET)'], axis = 1, inplace= True)\n    test_data_fr_prices.drop(['MTU (CET)'], axis = 1, inplace= True)\n\n    train_data_fr_prices.rename({'Day-ahead Price [EUR/MWh]' : 'Prices France'}, axis = 1, inplace = True)\n    test_data_fr_prices.rename({'Day-ahead Price [EUR/MWh]' : 'Prices France'}, axis = 1, inplace = True)\n\n    #take belgian load\n    for _, url in list(url_dict_be_load.items())[:-2]:\n        train_data_be_load = pd.concat([train_data_be_load, pd.read_csv(url)], ignore_index=True) if len(train_data_be_load) else pd.read_csv(url)\n\n    test_data_be_load = pd.read_csv(url_dict_be_load['url_2020'])\n\n    train_data_be_load['Datetime'] = pd.to_datetime(train_data_be_load['Time (CET)'].astype(str).apply(lambda x: x[:16]), utc=True)\n    test_data_be_load['Datetime'] = pd.to_datetime(test_data_be_load['Time (CET)'].astype(str).apply(lambda x: x[:16]), utc=True)\n\n    train_data_be_load.drop(['Time (CET)'], axis = 1, inplace= True)\n    test_data_be_load.drop(['Time (CET)'], axis = 1, inplace= True)\n\n    #take_belgian_generation\n    for _, url in list(url_dict_be_generation.items())[:-2]:\n        train_data_be_generation = pd.concat([train_data_be_generation, pd.read_csv(url)], ignore_index=True) if len(train_data_be_generation) else pd.read_csv(url)\n\n    test_data_be_generation = pd.read_csv(url_dict_be_generation['url_2020'])  \n\n    train_data_be_generation['Datetime'] = pd.to_datetime(train_data_be_generation['MTU'].astype(str).apply(lambda x: x[:16]), utc=True)\n    test_data_be_generation['Datetime'] = pd.to_datetime(test_data_be_generation['MTU'].astype(str).apply(lambda x: x[:16]), utc=True)\n\n    train_data_be_generation.drop(['MTU'], axis = 1, inplace= True)\n    test_data_be_generation.drop(['MTU'], axis = 1, inplace= True)\n\n    #aggregating the load\n\n    train_data_be_load = train_data_be_load.groupby(train_data_be_load.index // 4).sum().reset_index()\n    train_data_be_load['Datetime'] = train_data_be_generation.Datetime\n\n    test_data_be_load = test_data_be_load.groupby(test_data_be_load.index // 4).sum().reset_index()\n    test_data_be_load['Datetime'] = test_data_be_generation.Datetime\n\n    result_train = pd.merge(train_data_fr_prices, train_data_be_prices, on='Datetime')\n    result_train = pd.merge(result_train, train_data_be_generation, on = 'Datetime')\n    result_train = pd.merge(result_train, train_data_be_load, on = 'Datetime')\n\n    result_test = pd.merge(test_data_fr_prices, test_data_be_prices, on='Datetime')\n    result_test = pd.merge(result_test, test_data_be_generation, on = 'Datetime')\n    result_test = pd.merge(result_test, test_data_be_load, on = 'Datetime')\n\n    #last changes \n    result_train.drop(['BZN|FR', 'Area'], axis = 1, inplace = True)\n    result_test.drop(['BZN|FR', 'Area'], axis = 1, inplace = True)\n\n    empty_cols = ['Fossil Brown coal/Lignite  - Actual Aggregated [MW]', 'Fossil Coal-derived gas  - Actual Aggregated [MW]', \n                'Fossil Oil shale  - Actual Aggregated [MW]', 'Fossil Peat  - Actual Aggregated [MW]', 'Geothermal  - Actual Aggregated [MW]', \n                'Hydro Water Reservoir  - Actual Aggregated [MW]', 'Marine  - Actual Aggregated [MW]', 'Other renewable  - Actual Aggregated [MW]']\n\n    result_train.drop(empty_cols, axis = 1, inplace = True)\n    result_test.drop(empty_cols, axis = 1, inplace = True)\n\n    #result_train.dropna(axis=0, inplace = True)\n    #result_test.dropna(axis=0, inplace = True)\n\n    cols = ['Biomass  - Actual Aggregated [MW]',\n       'Fossil Gas  - Actual Aggregated [MW]',\n       'Fossil Hard coal  - Actual Aggregated [MW]',\n       'Fossil Oil  - Actual Aggregated [MW]',\n       'Hydro Pumped Storage  - Actual Aggregated [MW]',\n       'Hydro Pumped Storage  - Actual Consumption [MW]',\n       'Hydro Run-of-river and poundage  - Actual Aggregated [MW]',\n       'Nuclear  - Actual Aggregated [MW]', 'Other  - Actual Aggregated [MW]',\n       'Solar  - Actual Aggregated [MW]', 'Waste  - Actual Aggregated [MW]',\n       'Wind Offshore  - Actual Aggregated [MW]',\n       'Wind Onshore  - Actual Aggregated [MW]',\n       'Day-ahead Total Load Forecast [MW] - CTA|BE',\n       'Actual Total Load [MW] - CTA|BE']\n\n    result_train.fillna(method='bfill', axis = 0, inplace = True)\n    result_test.fillna(method='bfill', axis = 0, inplace = True)\n\n    #result_train.dropna(axis=0, inplace = True)\n    #result_test.dropna(axis=0, inplace = True)\n\n    result_train.replace('n/e', 0, inplace = True)\n    result_test.replace('n/e', 0, inplace = True)\n\n    return result_train, result_test",
   "execution_count": 240,
   "outputs": []
  },
  {
   "cell_type": "code",
   "metadata": {
    "cell_id": "107e059e-cf42-4d61-ae72-7edcd61a28e6",
    "tags": [],
    "deepnote_to_be_reexecuted": false,
    "source_hash": "125ba67e",
    "execution_start": 1643332156932,
    "execution_millis": 30351,
    "deepnote_output_heights": [
     611
    ],
    "deepnote_cell_type": "code"
   },
   "source": "train_data, test_data = data_loading()",
   "execution_count": 241,
   "outputs": []
  },
  {
   "cell_type": "code",
   "metadata": {
    "cell_id": "f140bea7-ae05-423b-944d-ac2fd53dbfc4",
    "tags": [],
    "deepnote_to_be_reexecuted": false,
    "source_hash": "87f55b20",
    "execution_start": 1643332187287,
    "execution_millis": 163,
    "deepnote_table_state": {
     "pageSize": 10,
     "pageIndex": 14,
     "filters": [],
     "sortBy": []
    },
    "deepnote_table_loading": false,
    "deepnote_cell_type": "code"
   },
   "source": "test_data",
   "execution_count": 242,
   "outputs": [
    {
     "output_type": "execute_result",
     "execution_count": 242,
     "data": {
      "application/vnd.deepnote.dataframe.v3+json": {
       "column_count": 19,
       "row_count": 8799,
       "columns": [
        {
         "name": "Prices France",
         "dtype": "float64",
         "stats": {
          "unique_count": 4256,
          "nan_count": 0,
          "min": "-75.82",
          "max": "200.04",
          "histogram": [
           {
            "bin_start": -75.82,
            "bin_end": -48.233999999999995,
            "count": 2
           },
           {
            "bin_start": -48.233999999999995,
            "bin_end": -20.64799999999999,
            "count": 17
           },
           {
            "bin_start": -20.64799999999999,
            "bin_end": 6.938000000000017,
            "count": 358
           },
           {
            "bin_start": 6.938000000000017,
            "bin_end": 34.524000000000015,
            "count": 4536
           },
           {
            "bin_start": 34.524000000000015,
            "bin_end": 62.110000000000014,
            "count": 3634
           },
           {
            "bin_start": 62.110000000000014,
            "bin_end": 89.69600000000003,
            "count": 212
           },
           {
            "bin_start": 89.69600000000003,
            "bin_end": 117.28200000000001,
            "count": 34
           },
           {
            "bin_start": 117.28200000000001,
            "bin_end": 144.86800000000002,
            "count": 3
           },
           {
            "bin_start": 144.86800000000002,
            "bin_end": 172.45400000000004,
            "count": 1
           },
           {
            "bin_start": 172.45400000000004,
            "bin_end": 200.04,
            "count": 2
           }
          ]
         }
        },
        {
         "name": "Datetime",
         "dtype": "datetime64[ns, UTC]",
         "stats": {
          "unique_count": 8784,
          "nan_count": 0,
          "min": "2020-01-01 00:00:00+00:00",
          "max": "2020-12-31 23:00:00+00:00",
          "histogram": [
           {
            "bin_start": 1577836800000000000,
            "bin_end": 1580998680000000000,
            "count": 879
           },
           {
            "bin_start": 1580998680000000000,
            "bin_end": 1584160560000000000,
            "count": 878
           },
           {
            "bin_start": 1584160560000000000,
            "bin_end": 1587322440000000000,
            "count": 878
           },
           {
            "bin_start": 1587322440000000000,
            "bin_end": 1590484320000000000,
            "count": 879
           },
           {
            "bin_start": 1590484320000000000,
            "bin_end": 1593646200000000000,
            "count": 878
           },
           {
            "bin_start": 1593646200000000000,
            "bin_end": 1596808080000000000,
            "count": 878
           },
           {
            "bin_start": 1596808080000000000,
            "bin_end": 1599969960000000000,
            "count": 879
           },
           {
            "bin_start": 1599969960000000000,
            "bin_end": 1603131840000000000,
            "count": 878
           },
           {
            "bin_start": 1603131840000000000,
            "bin_end": 1606293720000000000,
            "count": 893
           },
           {
            "bin_start": 1606293720000000000,
            "bin_end": 1609455600000000000,
            "count": 879
           }
          ]
         }
        },
        {
         "name": "Prices Belgium",
         "dtype": "float64",
         "stats": {
          "unique_count": 4226,
          "nan_count": 0,
          "min": "-115.31",
          "max": "200.04",
          "histogram": [
           {
            "bin_start": -115.31,
            "bin_end": -83.775,
            "count": 7
           },
           {
            "bin_start": -83.775,
            "bin_end": -52.239999999999995,
            "count": 5
           },
           {
            "bin_start": -52.239999999999995,
            "bin_end": -20.704999999999984,
            "count": 29
           },
           {
            "bin_start": -20.704999999999984,
            "bin_end": 10.830000000000013,
            "count": 550
           },
           {
            "bin_start": 10.830000000000013,
            "bin_end": 42.36500000000001,
            "count": 6216
           },
           {
            "bin_start": 42.36500000000001,
            "bin_end": 73.90000000000003,
            "count": 1890
           },
           {
            "bin_start": 73.90000000000003,
            "bin_end": 105.43500000000003,
            "count": 91
           },
           {
            "bin_start": 105.43500000000003,
            "bin_end": 136.97000000000003,
            "count": 8
           },
           {
            "bin_start": 136.97000000000003,
            "bin_end": 168.50500000000005,
            "count": 1
           },
           {
            "bin_start": 168.50500000000005,
            "bin_end": 200.04,
            "count": 2
           }
          ]
         }
        },
        {
         "name": "Biomass  - Actual Aggregated [MW]",
         "dtype": "float64",
         "stats": {
          "unique_count": 334,
          "nan_count": 0,
          "min": "31.0",
          "max": "370.0",
          "histogram": [
           {
            "bin_start": 31,
            "bin_end": 64.9,
            "count": 403
           },
           {
            "bin_start": 64.9,
            "bin_end": 98.8,
            "count": 331
           },
           {
            "bin_start": 98.8,
            "bin_end": 132.7,
            "count": 321
           },
           {
            "bin_start": 132.7,
            "bin_end": 166.6,
            "count": 617
           },
           {
            "bin_start": 166.6,
            "bin_end": 200.5,
            "count": 115
           },
           {
            "bin_start": 200.5,
            "bin_end": 234.39999999999998,
            "count": 191
           },
           {
            "bin_start": 234.39999999999998,
            "bin_end": 268.29999999999995,
            "count": 298
           },
           {
            "bin_start": 268.29999999999995,
            "bin_end": 302.2,
            "count": 2403
           },
           {
            "bin_start": 302.2,
            "bin_end": 336.09999999999997,
            "count": 2553
           },
           {
            "bin_start": 336.09999999999997,
            "bin_end": 370,
            "count": 1567
           }
          ]
         }
        },
        {
         "name": "Fossil Gas  - Actual Aggregated [MW]",
         "dtype": "float64",
         "stats": {
          "unique_count": 3378,
          "nan_count": 0,
          "min": "851.0",
          "max": "5207.0",
          "histogram": [
           {
            "bin_start": 851,
            "bin_end": 1286.6,
            "count": 766
           },
           {
            "bin_start": 1286.6,
            "bin_end": 1722.2,
            "count": 1467
           },
           {
            "bin_start": 1722.2,
            "bin_end": 2157.8,
            "count": 889
           },
           {
            "bin_start": 2157.8,
            "bin_end": 2593.4,
            "count": 887
           },
           {
            "bin_start": 2593.4,
            "bin_end": 3029,
            "count": 1114
           },
           {
            "bin_start": 3029,
            "bin_end": 3464.6000000000004,
            "count": 1376
           },
           {
            "bin_start": 3464.6000000000004,
            "bin_end": 3900.2000000000003,
            "count": 994
           },
           {
            "bin_start": 3900.2000000000003,
            "bin_end": 4335.8,
            "count": 716
           },
           {
            "bin_start": 4335.8,
            "bin_end": 4771.4,
            "count": 480
           },
           {
            "bin_start": 4771.4,
            "bin_end": 5207,
            "count": 110
           }
          ]
         }
        },
        {
         "name": "Fossil Hard coal  - Actual Aggregated [MW]",
         "dtype": "int64",
         "stats": {
          "unique_count": 1,
          "nan_count": 0,
          "min": "0",
          "max": "0",
          "histogram": [
           {
            "bin_start": -0.5,
            "bin_end": -0.4,
            "count": 0
           },
           {
            "bin_start": -0.4,
            "bin_end": -0.3,
            "count": 0
           },
           {
            "bin_start": -0.3,
            "bin_end": -0.19999999999999996,
            "count": 0
           },
           {
            "bin_start": -0.19999999999999996,
            "bin_end": -0.09999999999999998,
            "count": 0
           },
           {
            "bin_start": -0.09999999999999998,
            "bin_end": 0,
            "count": 0
           },
           {
            "bin_start": 0,
            "bin_end": 0.10000000000000009,
            "count": 8799
           },
           {
            "bin_start": 0.10000000000000009,
            "bin_end": 0.20000000000000007,
            "count": 0
           },
           {
            "bin_start": 0.20000000000000007,
            "bin_end": 0.30000000000000004,
            "count": 0
           },
           {
            "bin_start": 0.30000000000000004,
            "bin_end": 0.4,
            "count": 0
           },
           {
            "bin_start": 0.4,
            "bin_end": 0.5,
            "count": 0
           }
          ]
         }
        },
        {
         "name": "Fossil Oil  - Actual Aggregated [MW]",
         "dtype": "float64",
         "stats": {
          "unique_count": 28,
          "nan_count": 0,
          "min": "0.0",
          "max": "127.0",
          "histogram": [
           {
            "bin_start": 0,
            "bin_end": 12.7,
            "count": 8775
           },
           {
            "bin_start": 12.7,
            "bin_end": 25.4,
            "count": 9
           },
           {
            "bin_start": 25.4,
            "bin_end": 38.099999999999994,
            "count": 4
           },
           {
            "bin_start": 38.099999999999994,
            "bin_end": 50.8,
            "count": 0
           },
           {
            "bin_start": 50.8,
            "bin_end": 63.5,
            "count": 2
           },
           {
            "bin_start": 63.5,
            "bin_end": 76.19999999999999,
            "count": 6
           },
           {
            "bin_start": 76.19999999999999,
            "bin_end": 88.89999999999999,
            "count": 1
           },
           {
            "bin_start": 88.89999999999999,
            "bin_end": 101.6,
            "count": 1
           },
           {
            "bin_start": 101.6,
            "bin_end": 114.3,
            "count": 0
           },
           {
            "bin_start": 114.3,
            "bin_end": 127,
            "count": 1
           }
          ]
         }
        },
        {
         "name": "Hydro Pumped Storage  - Actual Aggregated [MW]",
         "dtype": "float64",
         "stats": {
          "unique_count": 847,
          "nan_count": 2,
          "min": "0.0",
          "max": "1120.0",
          "histogram": [
           {
            "bin_start": 0,
            "bin_end": 112,
            "count": 4987
           },
           {
            "bin_start": 112,
            "bin_end": 224,
            "count": 1520
           },
           {
            "bin_start": 224,
            "bin_end": 336,
            "count": 811
           },
           {
            "bin_start": 336,
            "bin_end": 448,
            "count": 498
           },
           {
            "bin_start": 448,
            "bin_end": 560,
            "count": 353
           },
           {
            "bin_start": 560,
            "bin_end": 672,
            "count": 252
           },
           {
            "bin_start": 672,
            "bin_end": 784,
            "count": 179
           },
           {
            "bin_start": 784,
            "bin_end": 896,
            "count": 124
           },
           {
            "bin_start": 896,
            "bin_end": 1008,
            "count": 59
           },
           {
            "bin_start": 1008,
            "bin_end": 1120,
            "count": 14
           }
          ]
         }
        },
        {
         "name": "Hydro Pumped Storage  - Actual Consumption [MW]",
         "dtype": "float64",
         "stats": {
          "unique_count": 987,
          "nan_count": 0,
          "min": "0.0",
          "max": "1206.0",
          "histogram": [
           {
            "bin_start": 0,
            "bin_end": 120.6,
            "count": 5782
           },
           {
            "bin_start": 120.6,
            "bin_end": 241.2,
            "count": 889
           },
           {
            "bin_start": 241.2,
            "bin_end": 361.79999999999995,
            "count": 473
           },
           {
            "bin_start": 361.79999999999995,
            "bin_end": 482.4,
            "count": 340
           },
           {
            "bin_start": 482.4,
            "bin_end": 603,
            "count": 316
           },
           {
            "bin_start": 603,
            "bin_end": 723.5999999999999,
            "count": 332
           },
           {
            "bin_start": 723.5999999999999,
            "bin_end": 844.1999999999999,
            "count": 264
           },
           {
            "bin_start": 844.1999999999999,
            "bin_end": 964.8,
            "count": 221
           },
           {
            "bin_start": 964.8,
            "bin_end": 1085.3999999999999,
            "count": 159
           },
           {
            "bin_start": 1085.3999999999999,
            "bin_end": 1206,
            "count": 23
           }
          ]
         }
        },
        {
         "name": "Hydro Run-of-river and poundage  - Actual Aggregated [MW]",
         "dtype": "float64",
         "stats": {
          "unique_count": 48,
          "nan_count": 0,
          "min": "0.0",
          "max": "47.0",
          "histogram": [
           {
            "bin_start": 0,
            "bin_end": 4.7,
            "count": 2034
           },
           {
            "bin_start": 4.7,
            "bin_end": 9.4,
            "count": 1280
           },
           {
            "bin_start": 9.4,
            "bin_end": 14.100000000000001,
            "count": 1160
           },
           {
            "bin_start": 14.100000000000001,
            "bin_end": 18.8,
            "count": 731
           },
           {
            "bin_start": 18.8,
            "bin_end": 23.5,
            "count": 786
           },
           {
            "bin_start": 23.5,
            "bin_end": 28.200000000000003,
            "count": 617
           },
           {
            "bin_start": 28.200000000000003,
            "bin_end": 32.9,
            "count": 608
           },
           {
            "bin_start": 32.9,
            "bin_end": 37.6,
            "count": 906
           },
           {
            "bin_start": 37.6,
            "bin_end": 42.300000000000004,
            "count": 446
           },
           {
            "bin_start": 42.300000000000004,
            "bin_end": 47,
            "count": 231
           }
          ]
         }
        },
        {
         "name": "Nuclear  - Actual Aggregated [MW]",
         "dtype": "float64",
         "stats": {
          "unique_count": 1180,
          "nan_count": 0,
          "min": "1823.0",
          "max": "5005.0",
          "histogram": [
           {
            "bin_start": 1823,
            "bin_end": 2141.2,
            "count": 37
           },
           {
            "bin_start": 2141.2,
            "bin_end": 2459.4,
            "count": 197
           },
           {
            "bin_start": 2459.4,
            "bin_end": 2777.6,
            "count": 581
           },
           {
            "bin_start": 2777.6,
            "bin_end": 3095.8,
            "count": 1586
           },
           {
            "bin_start": 3095.8,
            "bin_end": 3414,
            "count": 63
           },
           {
            "bin_start": 3414,
            "bin_end": 3732.2,
            "count": 244
           },
           {
            "bin_start": 3732.2,
            "bin_end": 4050.4,
            "count": 1900
           },
           {
            "bin_start": 4050.4,
            "bin_end": 4368.6,
            "count": 3689
           },
           {
            "bin_start": 4368.6,
            "bin_end": 4686.799999999999,
            "count": 113
           },
           {
            "bin_start": 4686.799999999999,
            "bin_end": 5005,
            "count": 389
           }
          ]
         }
        },
        {
         "name": "Other  - Actual Aggregated [MW]",
         "dtype": "float64"
        },
        {
         "name": "Solar  - Actual Aggregated [MW]",
         "dtype": "float64"
        },
        {
         "name": "Waste  - Actual Aggregated [MW]",
         "dtype": "float64"
        },
        {
         "name": "Wind Offshore  - Actual Aggregated [MW]",
         "dtype": "float64"
        },
        {
         "name": "Wind Onshore  - Actual Aggregated [MW]",
         "dtype": "float64"
        },
        {
         "name": "index",
         "dtype": "int64"
        },
        {
         "name": "Day-ahead Total Load Forecast [MW] - CTA|BE",
         "dtype": "float64"
        },
        {
         "name": "Actual Total Load [MW] - CTA|BE",
         "dtype": "float64"
        },
        {
         "name": "_deepnote_index_column",
         "dtype": "int64"
        }
       ],
       "rows": [
        {
         "Prices France": 47.03,
         "Datetime": "2020-06-01T20:00:00.000000",
         "Prices Belgium": 40,
         "Biomass  - Actual Aggregated [MW]": 362,
         "Fossil Gas  - Actual Aggregated [MW]": 3930,
         "Fossil Hard coal  - Actual Aggregated [MW]": 0,
         "Fossil Oil  - Actual Aggregated [MW]": 0,
         "Hydro Pumped Storage  - Actual Aggregated [MW]": 52,
         "Hydro Pumped Storage  - Actual Consumption [MW]": 0,
         "Hydro Run-of-river and poundage  - Actual Aggregated [MW]": 34,
         "Nuclear  - Actual Aggregated [MW]": 4129,
         "Other  - Actual Aggregated [MW]": 644,
         "Solar  - Actual Aggregated [MW]": 0,
         "Waste  - Actual Aggregated [MW]": 245,
         "Wind Offshore  - Actual Aggregated [MW]": 1263,
         "Wind Onshore  - Actual Aggregated [MW]": 966,
         "index": 140,
         "Day-ahead Total Load Forecast [MW] - CTA|BE": 42820,
         "Actual Total Load [MW] - CTA|BE": 44567,
         "_deepnote_index_column": 140
        },
        {
         "Prices France": 40.41,
         "Datetime": "2020-06-01T21:00:00.000000",
         "Prices Belgium": 33.89,
         "Biomass  - Actual Aggregated [MW]": 363,
         "Fossil Gas  - Actual Aggregated [MW]": 3067,
         "Fossil Hard coal  - Actual Aggregated [MW]": 0,
         "Fossil Oil  - Actual Aggregated [MW]": 0,
         "Hydro Pumped Storage  - Actual Aggregated [MW]": 57,
         "Hydro Pumped Storage  - Actual Consumption [MW]": 1,
         "Hydro Run-of-river and poundage  - Actual Aggregated [MW]": 34,
         "Nuclear  - Actual Aggregated [MW]": 4130,
         "Other  - Actual Aggregated [MW]": 649,
         "Solar  - Actual Aggregated [MW]": 0,
         "Waste  - Actual Aggregated [MW]": 247,
         "Wind Offshore  - Actual Aggregated [MW]": 1337,
         "Wind Onshore  - Actual Aggregated [MW]": 839,
         "index": 141,
         "Day-ahead Total Load Forecast [MW] - CTA|BE": 40747,
         "Actual Total Load [MW] - CTA|BE": 42202,
         "_deepnote_index_column": 141
        },
        {
         "Prices France": 38.26,
         "Datetime": "2020-06-01T22:00:00.000000",
         "Prices Belgium": 33.58,
         "Biomass  - Actual Aggregated [MW]": 365,
         "Fossil Gas  - Actual Aggregated [MW]": 2628,
         "Fossil Hard coal  - Actual Aggregated [MW]": 0,
         "Fossil Oil  - Actual Aggregated [MW]": 0,
         "Hydro Pumped Storage  - Actual Aggregated [MW]": 57,
         "Hydro Pumped Storage  - Actual Consumption [MW]": 7,
         "Hydro Run-of-river and poundage  - Actual Aggregated [MW]": 34,
         "Nuclear  - Actual Aggregated [MW]": 4133,
         "Other  - Actual Aggregated [MW]": 672,
         "Solar  - Actual Aggregated [MW]": 0,
         "Waste  - Actual Aggregated [MW]": 241,
         "Wind Offshore  - Actual Aggregated [MW]": 1381,
         "Wind Onshore  - Actual Aggregated [MW]": 780,
         "index": 142,
         "Day-ahead Total Load Forecast [MW] - CTA|BE": 41176,
         "Actual Total Load [MW] - CTA|BE": 42437,
         "_deepnote_index_column": 142
        },
        {
         "Prices France": 35.91,
         "Datetime": "2020-06-01T23:00:00.000000",
         "Prices Belgium": 30.35,
         "Biomass  - Actual Aggregated [MW]": 367,
         "Fossil Gas  - Actual Aggregated [MW]": 2767,
         "Fossil Hard coal  - Actual Aggregated [MW]": 0,
         "Fossil Oil  - Actual Aggregated [MW]": 0,
         "Hydro Pumped Storage  - Actual Aggregated [MW]": 61,
         "Hydro Pumped Storage  - Actual Consumption [MW]": 7,
         "Hydro Run-of-river and poundage  - Actual Aggregated [MW]": 34,
         "Nuclear  - Actual Aggregated [MW]": 4133,
         "Other  - Actual Aggregated [MW]": 700,
         "Solar  - Actual Aggregated [MW]": 0,
         "Waste  - Actual Aggregated [MW]": 245,
         "Wind Offshore  - Actual Aggregated [MW]": 1111,
         "Wind Onshore  - Actual Aggregated [MW]": 606,
         "index": 143,
         "Day-ahead Total Load Forecast [MW] - CTA|BE": 40712,
         "Actual Total Load [MW] - CTA|BE": 42080,
         "_deepnote_index_column": 143
        },
        {
         "Prices France": 32.1,
         "Datetime": "2020-07-01T00:00:00.000000",
         "Prices Belgium": 30,
         "Biomass  - Actual Aggregated [MW]": 366,
         "Fossil Gas  - Actual Aggregated [MW]": 2644,
         "Fossil Hard coal  - Actual Aggregated [MW]": 0,
         "Fossil Oil  - Actual Aggregated [MW]": 0,
         "Hydro Pumped Storage  - Actual Aggregated [MW]": 20,
         "Hydro Pumped Storage  - Actual Consumption [MW]": 7,
         "Hydro Run-of-river and poundage  - Actual Aggregated [MW]": 34,
         "Nuclear  - Actual Aggregated [MW]": 4132,
         "Other  - Actual Aggregated [MW]": 722,
         "Solar  - Actual Aggregated [MW]": 0,
         "Waste  - Actual Aggregated [MW]": 250,
         "Wind Offshore  - Actual Aggregated [MW]": 878,
         "Wind Onshore  - Actual Aggregated [MW]": 569,
         "index": 144,
         "Day-ahead Total Load Forecast [MW] - CTA|BE": 38484,
         "Actual Total Load [MW] - CTA|BE": 39368,
         "_deepnote_index_column": 144
        },
        {
         "Prices France": 31.07,
         "Datetime": "2020-07-01T01:00:00.000000",
         "Prices Belgium": 31.1,
         "Biomass  - Actual Aggregated [MW]": 367,
         "Fossil Gas  - Actual Aggregated [MW]": 2546,
         "Fossil Hard coal  - Actual Aggregated [MW]": 0,
         "Fossil Oil  - Actual Aggregated [MW]": 0,
         "Hydro Pumped Storage  - Actual Aggregated [MW]": 46,
         "Hydro Pumped Storage  - Actual Consumption [MW]": 855,
         "Hydro Run-of-river and poundage  - Actual Aggregated [MW]": 34,
         "Nuclear  - Actual Aggregated [MW]": 4130,
         "Other  - Actual Aggregated [MW]": 704,
         "Solar  - Actual Aggregated [MW]": 0,
         "Waste  - Actual Aggregated [MW]": 246,
         "Wind Offshore  - Actual Aggregated [MW]": 876,
         "Wind Onshore  - Actual Aggregated [MW]": 608,
         "index": 145,
         "Day-ahead Total Load Forecast [MW] - CTA|BE": 37598,
         "Actual Total Load [MW] - CTA|BE": 37902,
         "_deepnote_index_column": 145
        },
        {
         "Prices France": 29.99,
         "Datetime": "2020-07-01T02:00:00.000000",
         "Prices Belgium": 29.9,
         "Biomass  - Actual Aggregated [MW]": 370,
         "Fossil Gas  - Actual Aggregated [MW]": 2612,
         "Fossil Hard coal  - Actual Aggregated [MW]": 0,
         "Fossil Oil  - Actual Aggregated [MW]": 0,
         "Hydro Pumped Storage  - Actual Aggregated [MW]": 46,
         "Hydro Pumped Storage  - Actual Consumption [MW]": 502,
         "Hydro Run-of-river and poundage  - Actual Aggregated [MW]": 34,
         "Nuclear  - Actual Aggregated [MW]": 4129,
         "Other  - Actual Aggregated [MW]": 711,
         "Solar  - Actual Aggregated [MW]": 0,
         "Waste  - Actual Aggregated [MW]": 247,
         "Wind Offshore  - Actual Aggregated [MW]": 619,
         "Wind Onshore  - Actual Aggregated [MW]": 488,
         "index": 146,
         "Day-ahead Total Load Forecast [MW] - CTA|BE": 36282,
         "Actual Total Load [MW] - CTA|BE": 36735,
         "_deepnote_index_column": 146
        },
        {
         "Prices France": 29.05,
         "Datetime": "2020-07-01T03:00:00.000000",
         "Prices Belgium": 29.02,
         "Biomass  - Actual Aggregated [MW]": 366,
         "Fossil Gas  - Actual Aggregated [MW]": 2664,
         "Fossil Hard coal  - Actual Aggregated [MW]": 0,
         "Fossil Oil  - Actual Aggregated [MW]": 0,
         "Hydro Pumped Storage  - Actual Aggregated [MW]": 46,
         "Hydro Pumped Storage  - Actual Consumption [MW]": 577,
         "Hydro Run-of-river and poundage  - Actual Aggregated [MW]": 34,
         "Nuclear  - Actual Aggregated [MW]": 4128,
         "Other  - Actual Aggregated [MW]": 700,
         "Solar  - Actual Aggregated [MW]": 0,
         "Waste  - Actual Aggregated [MW]": 247,
         "Wind Offshore  - Actual Aggregated [MW]": 543,
         "Wind Onshore  - Actual Aggregated [MW]": 382,
         "index": 147,
         "Day-ahead Total Load Forecast [MW] - CTA|BE": 35437,
         "Actual Total Load [MW] - CTA|BE": 35511,
         "_deepnote_index_column": 147
        },
        {
         "Prices France": 29.65,
         "Datetime": "2020-07-01T04:00:00.000000",
         "Prices Belgium": 29.65,
         "Biomass  - Actual Aggregated [MW]": 366,
         "Fossil Gas  - Actual Aggregated [MW]": 2699,
         "Fossil Hard coal  - Actual Aggregated [MW]": 0,
         "Fossil Oil  - Actual Aggregated [MW]": 0,
         "Hydro Pumped Storage  - Actual Aggregated [MW]": 46,
         "Hydro Pumped Storage  - Actual Consumption [MW]": 653,
         "Hydro Run-of-river and poundage  - Actual Aggregated [MW]": 33,
         "Nuclear  - Actual Aggregated [MW]": 4129,
         "Other  - Actual Aggregated [MW]": 657,
         "Solar  - Actual Aggregated [MW]": 0,
         "Waste  - Actual Aggregated [MW]": 253,
         "Wind Offshore  - Actual Aggregated [MW]": 404,
         "Wind Onshore  - Actual Aggregated [MW]": 334,
         "index": 148,
         "Day-ahead Total Load Forecast [MW] - CTA|BE": 35801,
         "Actual Total Load [MW] - CTA|BE": 35869,
         "_deepnote_index_column": 148
        },
        {
         "Prices France": 31.79,
         "Datetime": "2020-07-01T05:00:00.000000",
         "Prices Belgium": 31.79,
         "Biomass  - Actual Aggregated [MW]": 365,
         "Fossil Gas  - Actual Aggregated [MW]": 2788,
         "Fossil Hard coal  - Actual Aggregated [MW]": 0,
         "Fossil Oil  - Actual Aggregated [MW]": 0,
         "Hydro Pumped Storage  - Actual Aggregated [MW]": 46,
         "Hydro Pumped Storage  - Actual Consumption [MW]": 200,
         "Hydro Run-of-river and poundage  - Actual Aggregated [MW]": 33,
         "Nuclear  - Actual Aggregated [MW]": 4129,
         "Other  - Actual Aggregated [MW]": 663,
         "Solar  - Actual Aggregated [MW]": 0,
         "Waste  - Actual Aggregated [MW]": 249,
         "Wind Offshore  - Actual Aggregated [MW]": 369,
         "Wind Onshore  - Actual Aggregated [MW]": 329,
         "index": 149,
         "Day-ahead Total Load Forecast [MW] - CTA|BE": 37633,
         "Actual Total Load [MW] - CTA|BE": 37802,
         "_deepnote_index_column": 149
        }
       ]
      },
      "text/plain": "      Prices France                  Datetime  Prices Belgium  \\\n0             41.88 2020-01-01 00:00:00+00:00           41.88   \n1             38.60 2020-01-01 01:00:00+00:00           38.60   \n2             36.55 2020-01-01 02:00:00+00:00           36.55   \n3             32.32 2020-01-01 03:00:00+00:00           32.32   \n4             30.85 2020-01-01 04:00:00+00:00           30.85   \n...             ...                       ...             ...   \n8794          60.54 2020-12-31 19:00:00+00:00           61.51   \n8795          56.75 2020-12-31 20:00:00+00:00           56.79   \n8796          52.44 2020-12-31 21:00:00+00:00           52.44   \n8797          51.86 2020-12-31 22:00:00+00:00           51.86   \n8798          52.26 2020-12-31 23:00:00+00:00           52.26   \n\n      Biomass  - Actual Aggregated [MW]  Fossil Gas  - Actual Aggregated [MW]  \\\n0                                 358.0                                1749.0   \n1                                 359.0                                1694.0   \n2                                 357.0                                1629.0   \n3                                 352.0                                1678.0   \n4                                 353.0                                1705.0   \n...                                 ...                                   ...   \n8794                              297.0                                2487.0   \n8795                              298.0                                2380.0   \n8796                              302.0                                2451.0   \n8797                              299.0                                2357.0   \n8798                              292.0                                2467.0   \n\n      Fossil Hard coal  - Actual Aggregated [MW]  \\\n0                                              0   \n1                                              0   \n2                                              0   \n3                                              0   \n4                                              0   \n...                                          ...   \n8794                                           0   \n8795                                           0   \n8796                                           0   \n8797                                           0   \n8798                                           0   \n\n      Fossil Oil  - Actual Aggregated [MW]  \\\n0                                      0.0   \n1                                      0.0   \n2                                      0.0   \n3                                      0.0   \n4                                      0.0   \n...                                    ...   \n8794                                   0.0   \n8795                                   0.0   \n8796                                   0.0   \n8797                                   0.0   \n8798                                   0.0   \n\n      Hydro Pumped Storage  - Actual Aggregated [MW]  \\\n0                                               49.0   \n1                                               49.0   \n2                                               49.0   \n3                                               49.0   \n4                                               49.0   \n...                                              ...   \n8794                                           779.0   \n8795                                           508.0   \n8796                                           182.0   \n8797                                             NaN   \n8798                                             NaN   \n\n      Hydro Pumped Storage  - Actual Consumption [MW]  \\\n0                                               103.0   \n1                                               168.0   \n2                                                21.0   \n3                                                10.0   \n4                                                12.0   \n...                                               ...   \n8794                                            108.0   \n8795                                            108.0   \n8796                                            108.0   \n8797                                            108.0   \n8798                                              5.0   \n\n      Hydro Run-of-river and poundage  - Actual Aggregated [MW]  \\\n0                                                  31.0           \n1                                                  31.0           \n2                                                  32.0           \n3                                                  32.0           \n4                                                  32.0           \n...                                                 ...           \n8794                                               39.0           \n8795                                               39.0           \n8796                                               39.0           \n8797                                               39.0           \n8798                                               39.0           \n\n      Nuclear  - Actual Aggregated [MW]  Other  - Actual Aggregated [MW]  \\\n0                                4130.0                            678.0   \n1                                4128.0                            608.0   \n2                                4128.0                            609.0   \n3                                4128.0                            626.0   \n4                                4130.0                            630.0   \n...                                 ...                              ...   \n8794                             4990.0                            788.0   \n8795                             4989.0                            809.0   \n8796                             4988.0                            809.0   \n8797                             4989.0                            732.0   \n8798                             4993.0                            761.0   \n\n      Solar  - Actual Aggregated [MW]  Waste  - Actual Aggregated [MW]  \\\n0                                 0.0                            241.0   \n1                                 0.0                            243.0   \n2                                 0.0                            242.0   \n3                                 0.0                            241.0   \n4                                 0.0                            243.0   \n...                               ...                              ...   \n8794                              0.0                            237.0   \n8795                              0.0                            236.0   \n8796                              0.0                            232.0   \n8797                              0.0                            233.0   \n8798                              0.0                            229.0   \n\n      Wind Offshore  - Actual Aggregated [MW]  \\\n0                                       407.0   \n1                                       448.0   \n2                                       356.0   \n3                                       271.0   \n4                                       180.0   \n...                                       ...   \n8794                                    145.0   \n8795                                    183.0   \n8796                                    203.0   \n8797                                    234.0   \n8798                                    217.0   \n\n      Wind Onshore  - Actual Aggregated [MW]  index  \\\n0                                      361.0      0   \n1                                      296.0      1   \n2                                      197.0      2   \n3                                      191.0      3   \n4                                      168.0      4   \n...                                      ...    ...   \n8794                                    34.0   8780   \n8795                                    32.0   8781   \n8796                                    32.0   8782   \n8797                                    26.0   8783   \n8798                                    20.0   8784   \n\n      Day-ahead Total Load Forecast [MW] - CTA|BE  \\\n0                                         36430.0   \n1                                         34176.0   \n2                                         32743.0   \n3                                         31587.0   \n4                                         30882.0   \n...                                           ...   \n8794                                      41715.0   \n8795                                      39513.0   \n8796                                      37901.0   \n8797                                      38571.0   \n8798                                      38356.0   \n\n      Actual Total Load [MW] - CTA|BE  \n0                             36276.0  \n1                             34802.0  \n2                             33281.0  \n3                             32003.0  \n4                             31182.0  \n...                               ...  \n8794                          40976.0  \n8795                          39178.0  \n8796                          37545.0  \n8797                          38328.0  \n8798                          38734.0  \n\n[8799 rows x 19 columns]",
      "text/html": "<div>\n<style scoped>\n    .dataframe tbody tr th:only-of-type {\n        vertical-align: middle;\n    }\n\n    .dataframe tbody tr th {\n        vertical-align: top;\n    }\n\n    .dataframe thead th {\n        text-align: right;\n    }\n</style>\n<table border=\"1\" class=\"dataframe\">\n  <thead>\n    <tr style=\"text-align: right;\">\n      <th></th>\n      <th>Prices France</th>\n      <th>Datetime</th>\n      <th>Prices Belgium</th>\n      <th>Biomass  - Actual Aggregated [MW]</th>\n      <th>Fossil Gas  - Actual Aggregated [MW]</th>\n      <th>Fossil Hard coal  - Actual Aggregated [MW]</th>\n      <th>Fossil Oil  - Actual Aggregated [MW]</th>\n      <th>Hydro Pumped Storage  - Actual Aggregated [MW]</th>\n      <th>Hydro Pumped Storage  - Actual Consumption [MW]</th>\n      <th>Hydro Run-of-river and poundage  - Actual Aggregated [MW]</th>\n      <th>Nuclear  - Actual Aggregated [MW]</th>\n      <th>Other  - Actual Aggregated [MW]</th>\n      <th>Solar  - Actual Aggregated [MW]</th>\n      <th>Waste  - Actual Aggregated [MW]</th>\n      <th>Wind Offshore  - Actual Aggregated [MW]</th>\n      <th>Wind Onshore  - Actual Aggregated [MW]</th>\n      <th>index</th>\n      <th>Day-ahead Total Load Forecast [MW] - CTA|BE</th>\n      <th>Actual Total Load [MW] - CTA|BE</th>\n    </tr>\n  </thead>\n  <tbody>\n    <tr>\n      <th>0</th>\n      <td>41.88</td>\n      <td>2020-01-01 00:00:00+00:00</td>\n      <td>41.88</td>\n      <td>358.0</td>\n      <td>1749.0</td>\n      <td>0</td>\n      <td>0.0</td>\n      <td>49.0</td>\n      <td>103.0</td>\n      <td>31.0</td>\n      <td>4130.0</td>\n      <td>678.0</td>\n      <td>0.0</td>\n      <td>241.0</td>\n      <td>407.0</td>\n      <td>361.0</td>\n      <td>0</td>\n      <td>36430.0</td>\n      <td>36276.0</td>\n    </tr>\n    <tr>\n      <th>1</th>\n      <td>38.60</td>\n      <td>2020-01-01 01:00:00+00:00</td>\n      <td>38.60</td>\n      <td>359.0</td>\n      <td>1694.0</td>\n      <td>0</td>\n      <td>0.0</td>\n      <td>49.0</td>\n      <td>168.0</td>\n      <td>31.0</td>\n      <td>4128.0</td>\n      <td>608.0</td>\n      <td>0.0</td>\n      <td>243.0</td>\n      <td>448.0</td>\n      <td>296.0</td>\n      <td>1</td>\n      <td>34176.0</td>\n      <td>34802.0</td>\n    </tr>\n    <tr>\n      <th>2</th>\n      <td>36.55</td>\n      <td>2020-01-01 02:00:00+00:00</td>\n      <td>36.55</td>\n      <td>357.0</td>\n      <td>1629.0</td>\n      <td>0</td>\n      <td>0.0</td>\n      <td>49.0</td>\n      <td>21.0</td>\n      <td>32.0</td>\n      <td>4128.0</td>\n      <td>609.0</td>\n      <td>0.0</td>\n      <td>242.0</td>\n      <td>356.0</td>\n      <td>197.0</td>\n      <td>2</td>\n      <td>32743.0</td>\n      <td>33281.0</td>\n    </tr>\n    <tr>\n      <th>3</th>\n      <td>32.32</td>\n      <td>2020-01-01 03:00:00+00:00</td>\n      <td>32.32</td>\n      <td>352.0</td>\n      <td>1678.0</td>\n      <td>0</td>\n      <td>0.0</td>\n      <td>49.0</td>\n      <td>10.0</td>\n      <td>32.0</td>\n      <td>4128.0</td>\n      <td>626.0</td>\n      <td>0.0</td>\n      <td>241.0</td>\n      <td>271.0</td>\n      <td>191.0</td>\n      <td>3</td>\n      <td>31587.0</td>\n      <td>32003.0</td>\n    </tr>\n    <tr>\n      <th>4</th>\n      <td>30.85</td>\n      <td>2020-01-01 04:00:00+00:00</td>\n      <td>30.85</td>\n      <td>353.0</td>\n      <td>1705.0</td>\n      <td>0</td>\n      <td>0.0</td>\n      <td>49.0</td>\n      <td>12.0</td>\n      <td>32.0</td>\n      <td>4130.0</td>\n      <td>630.0</td>\n      <td>0.0</td>\n      <td>243.0</td>\n      <td>180.0</td>\n      <td>168.0</td>\n      <td>4</td>\n      <td>30882.0</td>\n      <td>31182.0</td>\n    </tr>\n    <tr>\n      <th>...</th>\n      <td>...</td>\n      <td>...</td>\n      <td>...</td>\n      <td>...</td>\n      <td>...</td>\n      <td>...</td>\n      <td>...</td>\n      <td>...</td>\n      <td>...</td>\n      <td>...</td>\n      <td>...</td>\n      <td>...</td>\n      <td>...</td>\n      <td>...</td>\n      <td>...</td>\n      <td>...</td>\n      <td>...</td>\n      <td>...</td>\n      <td>...</td>\n    </tr>\n    <tr>\n      <th>8794</th>\n      <td>60.54</td>\n      <td>2020-12-31 19:00:00+00:00</td>\n      <td>61.51</td>\n      <td>297.0</td>\n      <td>2487.0</td>\n      <td>0</td>\n      <td>0.0</td>\n      <td>779.0</td>\n      <td>108.0</td>\n      <td>39.0</td>\n      <td>4990.0</td>\n      <td>788.0</td>\n      <td>0.0</td>\n      <td>237.0</td>\n      <td>145.0</td>\n      <td>34.0</td>\n      <td>8780</td>\n      <td>41715.0</td>\n      <td>40976.0</td>\n    </tr>\n    <tr>\n      <th>8795</th>\n      <td>56.75</td>\n      <td>2020-12-31 20:00:00+00:00</td>\n      <td>56.79</td>\n      <td>298.0</td>\n      <td>2380.0</td>\n      <td>0</td>\n      <td>0.0</td>\n      <td>508.0</td>\n      <td>108.0</td>\n      <td>39.0</td>\n      <td>4989.0</td>\n      <td>809.0</td>\n      <td>0.0</td>\n      <td>236.0</td>\n      <td>183.0</td>\n      <td>32.0</td>\n      <td>8781</td>\n      <td>39513.0</td>\n      <td>39178.0</td>\n    </tr>\n    <tr>\n      <th>8796</th>\n      <td>52.44</td>\n      <td>2020-12-31 21:00:00+00:00</td>\n      <td>52.44</td>\n      <td>302.0</td>\n      <td>2451.0</td>\n      <td>0</td>\n      <td>0.0</td>\n      <td>182.0</td>\n      <td>108.0</td>\n      <td>39.0</td>\n      <td>4988.0</td>\n      <td>809.0</td>\n      <td>0.0</td>\n      <td>232.0</td>\n      <td>203.0</td>\n      <td>32.0</td>\n      <td>8782</td>\n      <td>37901.0</td>\n      <td>37545.0</td>\n    </tr>\n    <tr>\n      <th>8797</th>\n      <td>51.86</td>\n      <td>2020-12-31 22:00:00+00:00</td>\n      <td>51.86</td>\n      <td>299.0</td>\n      <td>2357.0</td>\n      <td>0</td>\n      <td>0.0</td>\n      <td>NaN</td>\n      <td>108.0</td>\n      <td>39.0</td>\n      <td>4989.0</td>\n      <td>732.0</td>\n      <td>0.0</td>\n      <td>233.0</td>\n      <td>234.0</td>\n      <td>26.0</td>\n      <td>8783</td>\n      <td>38571.0</td>\n      <td>38328.0</td>\n    </tr>\n    <tr>\n      <th>8798</th>\n      <td>52.26</td>\n      <td>2020-12-31 23:00:00+00:00</td>\n      <td>52.26</td>\n      <td>292.0</td>\n      <td>2467.0</td>\n      <td>0</td>\n      <td>0.0</td>\n      <td>NaN</td>\n      <td>5.0</td>\n      <td>39.0</td>\n      <td>4993.0</td>\n      <td>761.0</td>\n      <td>0.0</td>\n      <td>229.0</td>\n      <td>217.0</td>\n      <td>20.0</td>\n      <td>8784</td>\n      <td>38356.0</td>\n      <td>38734.0</td>\n    </tr>\n  </tbody>\n</table>\n<p>8799 rows × 19 columns</p>\n</div>"
     },
     "metadata": {}
    }
   ]
  },
  {
   "cell_type": "code",
   "metadata": {
    "cell_id": "1e2bd536-b3e7-4f72-875b-b2eb871c1483",
    "tags": [],
    "deepnote_to_be_reexecuted": false,
    "source_hash": "a74e07a0",
    "execution_start": 1643332187450,
    "execution_millis": 6,
    "deepnote_output_heights": [
     290
    ],
    "deepnote_cell_type": "code"
   },
   "source": "train_data.columns",
   "execution_count": 243,
   "outputs": [
    {
     "output_type": "execute_result",
     "execution_count": 243,
     "data": {
      "text/plain": "Index(['Prices France', 'Datetime', 'Prices Belgium',\n       'Biomass  - Actual Aggregated [MW]',\n       'Fossil Gas  - Actual Aggregated [MW]',\n       'Fossil Hard coal  - Actual Aggregated [MW]',\n       'Fossil Oil  - Actual Aggregated [MW]',\n       'Hydro Pumped Storage  - Actual Aggregated [MW]',\n       'Hydro Pumped Storage  - Actual Consumption [MW]',\n       'Hydro Run-of-river and poundage  - Actual Aggregated [MW]',\n       'Nuclear  - Actual Aggregated [MW]', 'Other  - Actual Aggregated [MW]',\n       'Solar  - Actual Aggregated [MW]', 'Waste  - Actual Aggregated [MW]',\n       'Wind Offshore  - Actual Aggregated [MW]',\n       'Wind Onshore  - Actual Aggregated [MW]', 'index',\n       'Day-ahead Total Load Forecast [MW] - CTA|BE',\n       'Actual Total Load [MW] - CTA|BE'],\n      dtype='object')"
     },
     "metadata": {}
    }
   ]
  },
  {
   "cell_type": "code",
   "metadata": {
    "id": "FN4Em8m5ItI1",
    "executionInfo": {
     "status": "ok",
     "timestamp": 1643237940323,
     "user_tz": -60,
     "elapsed": 184,
     "user": {
      "displayName": "Илья Шилов",
      "photoUrl": "https://lh3.googleusercontent.com/a/default-user=s64",
      "userId": "02218864198108755188"
     }
    },
    "cell_id": "00008-586a8d2e-1649-4596-8fd6-f41bdfc4c972",
    "deepnote_to_be_reexecuted": false,
    "source_hash": "cec6a3dd",
    "execution_start": 1643332187456,
    "execution_millis": 3,
    "deepnote_cell_type": "code"
   },
   "source": "def data_normalization(df, add_timestamp = False, test = False):\n    transformer = preprocessing.MaxAbsScaler()\n    cols = ['Prices France', 'Prices Belgium',\n       'Biomass  - Actual Aggregated [MW]',\n       'Fossil Gas  - Actual Aggregated [MW]',\n       'Fossil Hard coal  - Actual Aggregated [MW]',\n       'Fossil Oil  - Actual Aggregated [MW]',\n       'Hydro Pumped Storage  - Actual Aggregated [MW]',\n       'Hydro Pumped Storage  - Actual Consumption [MW]',\n       'Hydro Run-of-river and poundage  - Actual Aggregated [MW]',\n       'Nuclear  - Actual Aggregated [MW]', 'Other  - Actual Aggregated [MW]',\n       'Solar  - Actual Aggregated [MW]', 'Waste  - Actual Aggregated [MW]',\n       'Wind Offshore  - Actual Aggregated [MW]',\n       'Wind Onshore  - Actual Aggregated [MW]',\n       'Day-ahead Total Load Forecast [MW] - CTA|BE',\n       'Actual Total Load [MW] - CTA|BE']\n    transformed_data = transformer.fit_transform(train_data[cols])\n\n    df_normalized = pd.DataFrame(transformed_data)\n    df_normalized.columns = cols\n    df_normalized.dropna(axis = 0, inplace = True)\n\n    df_normalized.reset_index(inplace = True)\n\n    df_normalized['Datetime'] = df['Datetime']\n\n    #train_data_normalized.set_index('Datetime', inplace = True)\n\n    return df_normalized",
   "execution_count": 244,
   "outputs": []
  },
  {
   "cell_type": "code",
   "metadata": {
    "id": "lBbW_ozIfElU",
    "executionInfo": {
     "status": "ok",
     "timestamp": 1643235982050,
     "user_tz": -60,
     "elapsed": 202,
     "user": {
      "displayName": "Илья Шилов",
      "photoUrl": "https://lh3.googleusercontent.com/a/default-user=s64",
      "userId": "02218864198108755188"
     }
    },
    "cell_id": "00010-410f3b40-2204-4e04-be53-3cb9048a7a0f",
    "deepnote_to_be_reexecuted": false,
    "source_hash": "58884f6f",
    "execution_start": 1643332187461,
    "execution_millis": 3,
    "deepnote_cell_type": "code"
   },
   "source": "def encoding_datetime(df, save_datetime = False):\n    df['year'] = df.Datetime.dt.year\n\n    df['hr_sin'] = np.sin(df.Datetime.dt.hour*(2.*np.pi/24))\n    df['hr_cos'] = np.cos(df.Datetime.dt.hour*(2.*np.pi/24))\n    df['day_sin'] = np.sin((df.Datetime.dt.day-1)*(2.*np.pi/7))\n    df['day_cos'] = np.cos((df.Datetime.dt.day-1)*(2.*np.pi/7))\n    df['mnth_sin'] = np.sin((df.Datetime.dt.month-1)*(2.*np.pi/12))\n    df['mnth_cos'] = np.cos((df.Datetime.dt.month-1)*(2.*np.pi/12))\n\n    if not save_datetime:\n        df.drop(['Datetime'], axis = 1, inplace = True)\n\n    return df",
   "execution_count": 245,
   "outputs": []
  },
  {
   "cell_type": "code",
   "metadata": {
    "id": "nWR-YMLpgpZD",
    "cell_id": "00012-bb1b3ed4-a811-4d0b-ab10-961384cf1d04",
    "deepnote_to_be_reexecuted": false,
    "source_hash": "70edc973",
    "execution_start": 1643332187466,
    "execution_millis": 3,
    "deepnote_cell_type": "code"
   },
   "source": "def target_column_as_list(df):\n    target_list = []\n    features_list = []\n\n    col = 'Prices Belgium'\n\n    for value in df[col]:\n        target_list.append(torch.tensor(value))\n\n    if 'Datetime' in df.columns:\n        df.drop('Datetime', axis =1, inplace = true)\n\n    for index, row in df.loc[:, df.columns != col].iterrows():\n        features_list.append(torch.from_numpy(row.values))\n\n    return target_list, features_list",
   "execution_count": 246,
   "outputs": []
  },
  {
   "cell_type": "code",
   "metadata": {
    "cell_id": "2d00718a-6910-4fa5-a431-b747b82e1ef1",
    "tags": [],
    "deepnote_to_be_reexecuted": false,
    "source_hash": "53dbf381",
    "execution_start": 1643332187471,
    "execution_millis": 5,
    "deepnote_output_heights": [
     290
    ],
    "deepnote_cell_type": "code"
   },
   "source": "test_data.columns",
   "execution_count": 247,
   "outputs": [
    {
     "output_type": "execute_result",
     "execution_count": 247,
     "data": {
      "text/plain": "Index(['Prices France', 'Datetime', 'Prices Belgium',\n       'Biomass  - Actual Aggregated [MW]',\n       'Fossil Gas  - Actual Aggregated [MW]',\n       'Fossil Hard coal  - Actual Aggregated [MW]',\n       'Fossil Oil  - Actual Aggregated [MW]',\n       'Hydro Pumped Storage  - Actual Aggregated [MW]',\n       'Hydro Pumped Storage  - Actual Consumption [MW]',\n       'Hydro Run-of-river and poundage  - Actual Aggregated [MW]',\n       'Nuclear  - Actual Aggregated [MW]', 'Other  - Actual Aggregated [MW]',\n       'Solar  - Actual Aggregated [MW]', 'Waste  - Actual Aggregated [MW]',\n       'Wind Offshore  - Actual Aggregated [MW]',\n       'Wind Onshore  - Actual Aggregated [MW]', 'index',\n       'Day-ahead Total Load Forecast [MW] - CTA|BE',\n       'Actual Total Load [MW] - CTA|BE'],\n      dtype='object')"
     },
     "metadata": {}
    }
   ]
  },
  {
   "cell_type": "code",
   "metadata": {
    "cell_id": "9a3d3ccc-6121-4f2b-8d67-5d174c5092c8",
    "tags": [],
    "deepnote_to_be_reexecuted": false,
    "source_hash": "f6058429",
    "execution_start": 1643332187520,
    "execution_millis": 619,
    "deepnote_output_heights": [
     21,
     264
    ],
    "deepnote_cell_type": "code"
   },
   "source": "cols = ['Datetime', 'Prices Belgium']\nplot_price = train_data[cols].drop_duplicates()\nplot_price.plot.scatter('Datetime', 'Prices Belgium')",
   "execution_count": 248,
   "outputs": [
    {
     "output_type": "execute_result",
     "execution_count": 248,
     "data": {
      "text/plain": "<AxesSubplot:xlabel='Datetime', ylabel='Prices Belgium'>"
     },
     "metadata": {}
    },
    {
     "data": {
      "text/plain": "<Figure size 432x288 with 1 Axes>",
      "image/png": "[encoded data removed]"
     },
     "metadata": {
      "needs_background": "light",
      "image/png": {
       "width": 397,
       "height": 262
      }
     },
     "output_type": "display_data"
    }
   ]
  },
  {
   "cell_type": "code",
   "metadata": {
    "cell_id": "5cdccc5c-1461-4145-b3f4-947dd374b5f8",
    "tags": [],
    "deepnote_to_be_reexecuted": false,
    "source_hash": "4a1a4690",
    "execution_start": 1643332187880,
    "execution_millis": 267,
    "deepnote_output_heights": [
     21,
     262
    ],
    "deepnote_cell_type": "code"
   },
   "source": "cols = ['Datetime', 'Prices Belgium']\nplot_price = test_data[cols].drop_duplicates()\nplot_price.plot('Datetime', 'Prices Belgium')",
   "execution_count": 249,
   "outputs": [
    {
     "output_type": "execute_result",
     "execution_count": 249,
     "data": {
      "text/plain": "<AxesSubplot:xlabel='Datetime'>"
     },
     "metadata": {}
    },
    {
     "data": {
      "text/plain": "<Figure size 432x288 with 1 Axes>",
      "image/png": "[encoded data removed]"
     },
     "metadata": {
      "needs_background": "light",
      "image/png": {
       "width": 383,
       "height": 260
      }
     },
     "output_type": "display_data"
    }
   ]
  },
  {
   "cell_type": "code",
   "metadata": {
    "cell_id": "dcb9cc48-8274-41f6-a74a-77fe4c79eee2",
    "tags": [],
    "deepnote_to_be_reexecuted": false,
    "source_hash": "cda9aeb1",
    "execution_start": 1643332188078,
    "execution_millis": 2,
    "deepnote_cell_type": "code"
   },
   "source": "def cutting_outbreaks(df):\n    pass",
   "execution_count": 250,
   "outputs": []
  },
  {
   "cell_type": "code",
   "metadata": {
    "cell_id": "01def9b2-c8a7-46dd-a4af-50f6851a2f54",
    "tags": [],
    "deepnote_to_be_reexecuted": false,
    "source_hash": "f48e7390",
    "execution_start": 1643332188084,
    "execution_millis": 1,
    "deepnote_output_heights": [
     21.1875,
     1
    ],
    "deepnote_cell_type": "code"
   },
   "source": "def data_aggregation(df, save_datetime = False, test=False):\n    result = []\n\n    if not test:\n        df['Datetime'] = train_data.dropna(axis=0)['Datetime']\n    else:\n        df['Datetime'] = test_data.dropna(axis=0)['Datetime']\n\n    cols_a = ['Datetime', 'Total Load', 'Total installed power','Day-ahead Price [EUR/MWh]', \n                'hr_sin', 'hr_cos', 'day_sin', 'day_cos', 'mnth_sin', 'mnth_cos']\n    a = df[cols_a].drop_duplicates()\n\n    cols_b = ['Installed Power', 'Day Ahead Generation Schedule', 'Datetime']\n    if not test:\n        b = df[cols_b].groupby(['Datetime']).sum().reset_index()\n    else:\n        b = df[cols_b].groupby(['Datetime']).sum().reset_index()\n\n\n    df_aggregated = pd.merge(a, b, on= 'Datetime')\n\n    if not save_datetime:\n        df_aggregated.drop(['Datetime'], axis = 1, inplace = True)\n\n    return df_aggregated",
   "execution_count": 251,
   "outputs": []
  },
  {
   "cell_type": "code",
   "metadata": {
    "id": "YOLLc52u9gkF",
    "cell_id": "00013-fa488165-d4d5-4a8c-89ee-b9526ef0889e",
    "deepnote_to_be_reexecuted": false,
    "source_hash": "c112ff23",
    "execution_start": 1643332188102,
    "execution_millis": 0,
    "deepnote_cell_type": "code"
   },
   "source": "def to_list_of_tensors_old(df, train_data, test_data, aggregation = False, test=False):\n    if aggregation == False:\n        result = []\n        for value in train_data_normalized['Day-ahead Price [EUR/MWh]'].unique():\n            list_for_one_price = []\n            for index, row in train_data_normalized.loc[train_data_normalized['Day-ahead Price [EUR/MWh]'] == value].iterrows():\n                list_for_one_price.append(row.values)\n            result.append(torch.from_numpy(np.array(list_for_one_price)))\n\n    if aggregation == True:\n        result = []\n        if not test:\n            df['Datetime'] = train_data.dropna(axis=0)['Datetime']\n        else:\n            df['Datetime'] = test_data.dropna(axis=0)['Datetime']\n\n        cols_a = ['Datetime', 'Total Load', 'Total installed power','Day-ahead Price [EUR/MWh]', \n                    'hr_sin', 'hr_cos', 'day_sin', 'day_cos', 'mnth_sin', 'mnth_cos']\n        a = df[cols_a].drop_duplicates()\n\n        cols_b = ['Installed Power', 'Day Ahead Generation Schedule', 'Datetime']\n        b = df[cols_b].groupby(['Datetime']).sum().reset_index()\n\n        df_aggregated = pd.merge(a, b, on= 'Datetime').drop(['Datetime'], axis = 1)\n\n        for index, row in df_aggregated.iterrows():\n            result.append(torch.from_numpy(row.values))\n\n    return result",
   "execution_count": 252,
   "outputs": []
  },
  {
   "cell_type": "code",
   "metadata": {
    "cell_id": "94271e08-2186-4dad-b0e3-e9c3f9ecd0dc",
    "tags": [],
    "deepnote_to_be_reexecuted": false,
    "source_hash": "af5a0360",
    "execution_start": 1643332188103,
    "execution_millis": 1,
    "deepnote_cell_type": "code"
   },
   "source": "def to_list_of_tensors(df):\n    result = []\n\n    if 'Datetime' in df.columns:\n        df.drop('Datetime', axis = 1, inplace = True)\n\n    for index, row in df.iterrows():\n        result.append(torch.from_numpy(row.values))\n\n    return result",
   "execution_count": 253,
   "outputs": []
  },
  {
   "cell_type": "code",
   "metadata": {
    "id": "ZvVwKBvniaMd",
    "cell_id": "00015-6fc36b55-1d43-4b8d-894e-e77d2ec0fb56",
    "deepnote_to_be_reexecuted": false,
    "source_hash": "8d5d6e05",
    "execution_start": 1643332188105,
    "execution_millis": 0,
    "deepnote_cell_type": "code"
   },
   "source": "def final_function():\n    #first thing is to load all the data from the csv\n    train_data, test_data = data_loading()\n\n    #then we want to have the data to be normalized with datetime ecnoded\n    train_data_normalized = encoding_datetime(data_normalization(train_data, add_timestamp=True))\n    test_data_normalized = encoding_datetime(data_normalization(test_data, add_timestamp=True, test=True))\n\n    #Now we have two normalized datasets with encoded datetime\n    #We want to return aggregated versions of them as lists of tensors\n\n    train_tensor_list = to_list_of_tensors(train_data_normalized)\n    test_tensor_list = to_list_of_tensors(test_data_normalized)\n\n    #we also want to have lists of features and target seprately for both train and test\n    target_train, features_train = target_column_as_list(train_data_normalized)\n    target_test, features_test = target_column_as_list(test_data_normalized)\n\n    #target_train, features_train = target_column_as_list(data_aggregation(train_data_normalized, save_datetime=True))\n    #target_test, features_test = target_column_as_list(data_aggregation(test_data_normalized, save_datetime=True, test=True))\n\n    return {'train_data': train_data,\n            'test_data' : test_data,\n            'train_data_normalized': train_data_normalized,\n            'test_data_normalized' : test_data_normalized,\n            'train_tensor_list' : train_tensor_list,\n            'test_tensor_list' : test_tensor_list,\n            'target_train_tensor_list' : target_train,\n            'features_train_tensor_list' : features_train,\n            'target_test_tensor_list' : target_test,\n            'features_test_tensor_list' : features_test}\n\n",
   "execution_count": 254,
   "outputs": []
  },
  {
   "cell_type": "code",
   "metadata": {
    "cell_id": "688e4016-58c6-43e6-ae21-899a332d1156",
    "tags": [],
    "deepnote_to_be_reexecuted": false,
    "source_hash": "c587a627",
    "execution_start": 1643332188106,
    "execution_millis": 39530,
    "deepnote_output_heights": [
     611
    ],
    "deepnote_cell_type": "code"
   },
   "source": "data_dict = final_function()",
   "execution_count": 255,
   "outputs": []
  },
  {
   "cell_type": "markdown",
   "source": "## Network",
   "metadata": {
    "id": "I8NAgosAddh4",
    "cell_id": "00016-46f04adf-4e1b-4ff8-b56f-66cb6eac7f52",
    "deepnote_cell_type": "markdown"
   }
  },
  {
   "cell_type": "code",
   "source": "feature_cols = ['Biomass  - Actual Aggregated [MW]',\n       'Fossil Gas  - Actual Aggregated [MW]',\n       'Fossil Hard coal  - Actual Aggregated [MW]',\n       'Fossil Oil  - Actual Aggregated [MW]',\n       'Hydro Pumped Storage  - Actual Aggregated [MW]',\n       'Hydro Pumped Storage  - Actual Consumption [MW]',\n       'Hydro Run-of-river and poundage  - Actual Aggregated [MW]',\n       'Nuclear  - Actual Aggregated [MW]', 'Other  - Actual Aggregated [MW]',\n       'Solar  - Actual Aggregated [MW]', 'Waste  - Actual Aggregated [MW]',\n       'Wind Offshore  - Actual Aggregated [MW]',\n       'Wind Onshore  - Actual Aggregated [MW]',\n       'Day-ahead Total Load Forecast [MW] - CTA|BE',\n       'Actual Total Load [MW] - CTA|BE']\n\nX_train = data_dict['train_data_normalized'][feature_cols]\ny_train = data_dict['train_data_normalized']['Prices Belgium']\n\nX_test = data_dict['test_data_normalized'][feature_cols]\ny_test = data_dict['test_data_normalized']['Prices Belgium']",
   "metadata": {
    "cell_id": "da7d14c6-e2c7-4553-bb17-241fc2972e2d",
    "tags": [],
    "deepnote_to_be_reexecuted": false,
    "source_hash": "dd7a3852",
    "execution_start": 1643332227647,
    "execution_millis": 2,
    "deepnote_output_heights": [
     251.4375
    ],
    "deepnote_table_state": {
     "pageSize": 10,
     "pageIndex": 0,
     "filters": [],
     "sortBy": []
    },
    "deepnote_table_loading": false,
    "deepnote_cell_type": "code"
   },
   "outputs": [],
   "execution_count": 256
  },
  {
   "cell_type": "code",
   "source": "print(\"Training Shape\", X_train.shape, y_train.shape)\nprint(\"Testing Shape\", X_test.shape, y_test.shape) ",
   "metadata": {
    "cell_id": "5362d87d-fb55-4161-b622-a3ded09cc25c",
    "tags": [],
    "deepnote_to_be_reexecuted": false,
    "source_hash": "f151166e",
    "execution_start": 1643332227652,
    "execution_millis": 5,
    "deepnote_cell_type": "code"
   },
   "outputs": [
    {
     "name": "stdout",
     "text": "Training Shape (43897, 15) (43897,)\nTesting Shape (43897, 15) (43897,)\n",
     "output_type": "stream"
    }
   ],
   "execution_count": 257
  },
  {
   "cell_type": "code",
   "source": "y_train.to_numpy()",
   "metadata": {
    "cell_id": "f8b75826-6ee2-4faf-81d5-5c8e5ae721f5",
    "tags": [],
    "deepnote_to_be_reexecuted": false,
    "source_hash": "3a9b3386",
    "execution_start": 1643332227659,
    "execution_millis": 5,
    "deepnote_output_heights": [
     40
    ],
    "deepnote_cell_type": "code"
   },
   "outputs": [
    {
     "output_type": "execute_result",
     "execution_count": 258,
     "data": {
      "text/plain": "array([0.05252723, 0.05252723, 0.05252723, ..., 0.06609005, 0.06063044,\n       0.05709606])"
     },
     "metadata": {}
    }
   ],
   "execution_count": 258
  },
  {
   "cell_type": "code",
   "source": "X_train_tensors = Variable(torch.Tensor(X_train.to_numpy()))\nX_test_tensors = Variable(torch.Tensor(X_test.to_numpy()))\n\ny_train_tensors = Variable(torch.Tensor(y_train.to_numpy()))\ny_train_tensors = y_train_tensors.unsqueeze(1)\ny_test_tensors = Variable(torch.Tensor(y_test.to_numpy())) \ny_test_tensors = y_test_tensors.unsqueeze(1)",
   "metadata": {
    "cell_id": "6ab5d13d-79b1-474e-b878-76fd0edaf47e",
    "tags": [],
    "deepnote_to_be_reexecuted": false,
    "source_hash": "b8cb9bd0",
    "execution_start": 1643332227691,
    "execution_millis": 1,
    "deepnote_output_heights": [
     193.875
    ],
    "deepnote_cell_type": "code"
   },
   "outputs": [],
   "execution_count": 259
  },
  {
   "cell_type": "code",
   "source": "X_train_tensors_final = torch.reshape(X_train_tensors,   (X_train_tensors.shape[0], 1, X_train_tensors.shape[1]))\n\nX_test_tensors_final = torch.reshape(X_test_tensors,  (X_test_tensors.shape[0], 1, X_test_tensors.shape[1])) ",
   "metadata": {
    "cell_id": "b69882a5-3537-45c5-8489-710329703334",
    "tags": [],
    "deepnote_to_be_reexecuted": false,
    "source_hash": "540cb014",
    "execution_start": 1643332227692,
    "execution_millis": 0,
    "deepnote_cell_type": "code"
   },
   "outputs": [],
   "execution_count": 260
  },
  {
   "cell_type": "code",
   "source": "print(\"Training Shape\", X_train_tensors_final.shape, y_train_tensors.shape)\nprint(\"Testing Shape\", X_test_tensors_final.shape, y_test_tensors.shape) ",
   "metadata": {
    "cell_id": "2e63417f-296f-4e0c-aa2c-27fb2b41da80",
    "tags": [],
    "deepnote_to_be_reexecuted": false,
    "source_hash": "84b2115c",
    "execution_start": 1643332227693,
    "execution_millis": 7,
    "deepnote_cell_type": "code"
   },
   "outputs": [
    {
     "name": "stdout",
     "text": "Training Shape torch.Size([43897, 1, 15]) torch.Size([43897, 1])\nTesting Shape torch.Size([43897, 1, 15]) torch.Size([43897, 1])\n",
     "output_type": "stream"
    }
   ],
   "execution_count": 261
  },
  {
   "cell_type": "code",
   "source": "class LSTM1(nn.Module):\n    def __init__(self, num_classes, input_size, hidden_size, num_layers, seq_length):\n        super(LSTM1, self).__init__()\n        self.num_classes = num_classes #number of classes\n        self.num_layers = num_layers #number of layers\n        self.input_size = input_size #input size\n        self.hidden_size = hidden_size #hidden state\n        self.seq_length = seq_length #sequence length\n\n        self.lstm = nn.LSTM(input_size=input_size, hidden_size=hidden_size,\n                          num_layers=num_layers, batch_first=True) #lstm\n        self.fc_1 =  nn.Linear(hidden_size, 128) #fully connected 1\n        self.fc = nn.Linear(128, num_classes) #fully connected last layer\n\n        self.relu = nn.ReLU()\n    \n    def forward(self,x):\n        h_0 = Variable(torch.rand(self.num_layers, x.size(0), self.hidden_size)) #hidden state\n        c_0 = Variable(torch.rand(self.num_layers, x.size(0), self.hidden_size)) #internal state\n        # Propagate input through LSTM\n        output, (hn, cn) = self.lstm(x, (h_0, c_0)) #lstm with input, hidden, and internal state\n        hn = hn.view(-1, self.hidden_size) #reshaping the data for the next layer\n        out = self.relu(hn)\n        out = self.fc_1(out) \n        out = self.relu(out) \n        out = self.fc(out) \n        return out",
   "metadata": {
    "cell_id": "b0ee67a6-9bcf-4f22-b027-661bdb43e9e0",
    "tags": [],
    "deepnote_to_be_reexecuted": false,
    "source_hash": "3f86559a",
    "execution_start": 1643332227703,
    "execution_millis": 0,
    "deepnote_output_heights": [
     26
    ],
    "deepnote_cell_type": "code"
   },
   "outputs": [],
   "execution_count": 262
  },
  {
   "cell_type": "code",
   "source": "num_epochs = 3000 #1000 epochs\nlearning_rate = 0.001 #0.001 lr\n\ninput_size = len(feature_cols) #number of features\nhidden_size = 2 #number of features in hidden state\nnum_layers = 1 #number of stacked lstm layers\n\nnum_classes = 1 #number of output classes \n\nmodel = LSTM1(num_classes, input_size, hidden_size, num_layers, X_train_tensors_final.shape[1])\ncriterion = torch.nn.MSELoss()    # mean-squared error for regression\noptimizer = torch.optim.Adam(model.parameters(), lr=learning_rate) ",
   "metadata": {
    "cell_id": "0852bed5-acde-4841-82eb-d0a4c532c0dd",
    "tags": [],
    "deepnote_to_be_reexecuted": false,
    "source_hash": "5ee3b3a0",
    "execution_start": 1643332227704,
    "execution_millis": 8,
    "deepnote_cell_type": "code"
   },
   "outputs": [],
   "execution_count": 263
  },
  {
   "cell_type": "code",
   "source": "for epoch in range(num_epochs):\n  outputs = model.forward(X_train_tensors_final) #forward pass\n  optimizer.zero_grad() #caluclate the gradient, manually setting to 0\n \n  # obtain the loss function\n  loss = criterion(outputs, y_train_tensors)\n \n  loss.backward() #calculates the loss of the loss function\n \n  optimizer.step() #improve from loss, i.e backprop\n  if epoch % 100 == 0:\n    print(\"Epoch: %d, loss: %1.5f\" % (epoch, loss.item())) ",
   "metadata": {
    "cell_id": "e352a445-ff16-406c-a415-e0b2dd6ecb6f",
    "tags": [],
    "deepnote_to_be_reexecuted": false,
    "source_hash": "a110cfa2",
    "execution_start": 1643332227712,
    "execution_millis": 138352,
    "deepnote_cell_type": "code"
   },
   "outputs": [
    {
     "name": "stdout",
     "text": "Epoch: 0, loss: 0.00117\nEpoch: 100, loss: 0.00094\nEpoch: 200, loss: 0.00083\nEpoch: 300, loss: 0.00068\nEpoch: 400, loss: 0.00055\nEpoch: 500, loss: 0.00051\nEpoch: 600, loss: 0.00049\nEpoch: 700, loss: 0.00047\nEpoch: 800, loss: 0.00046\nEpoch: 900, loss: 0.00045\nEpoch: 1000, loss: 0.00044\nEpoch: 1100, loss: 0.00044\nEpoch: 1200, loss: 0.00044\nEpoch: 1300, loss: 0.00043\nEpoch: 1400, loss: 0.00042\nEpoch: 1500, loss: 0.00042\nEpoch: 1600, loss: 0.00042\nEpoch: 1700, loss: 0.00042\nEpoch: 1800, loss: 0.00041\nEpoch: 1900, loss: 0.00041\nEpoch: 2000, loss: 0.00041\nEpoch: 2100, loss: 0.00041\nEpoch: 2200, loss: 0.00041\nEpoch: 2300, loss: 0.00040\nEpoch: 2400, loss: 0.00040\nEpoch: 2500, loss: 0.00040\nEpoch: 2600, loss: 0.00040\nEpoch: 2700, loss: 0.00040\nEpoch: 2800, loss: 0.00039\nEpoch: 2900, loss: 0.00039\n",
     "output_type": "stream"
    }
   ],
   "execution_count": 264
  },
  {
   "cell_type": "code",
   "source": "transformer = preprocessing.MaxAbsScaler()\ndf = pd.concat([data_dict['train_data'], data_dict['test_data']], ignore_index=True)\ndf_X = transformer.fit(df[feature_cols])\ndf_X = transformer.transform(df[feature_cols])\ndf_y = transformer.fit(df['Prices Belgium'].to_numpy().reshape(-1,1))\ndf_y = transformer.transform(df['Prices Belgium'].to_numpy().reshape(-1,1))",
   "metadata": {
    "cell_id": "9d63a722-fdae-448f-a112-30add0200295",
    "tags": [],
    "deepnote_to_be_reexecuted": false,
    "source_hash": "5414caf",
    "execution_start": 1643332366068,
    "execution_millis": 125,
    "deepnote_table_state": {
     "pageSize": 10,
     "pageIndex": 0,
     "filters": [],
     "sortBy": []
    },
    "deepnote_table_loading": false,
    "deepnote_cell_type": "code"
   },
   "outputs": [],
   "execution_count": 265
  },
  {
   "cell_type": "code",
   "source": "df_X = Variable(torch.Tensor(df_X)) #converting to Tensors\ndf_y = Variable(torch.Tensor(df_y))\n\ndf_X = torch.reshape(df_X, (df_X.shape[0], 1, df_X.shape[1])) ",
   "metadata": {
    "cell_id": "9053900d-deaf-4eb1-90ae-1b2b2e53d89e",
    "tags": [],
    "deepnote_to_be_reexecuted": false,
    "source_hash": "4605d23c",
    "execution_start": 1643332366201,
    "execution_millis": 1,
    "deepnote_cell_type": "code"
   },
   "outputs": [],
   "execution_count": 266
  },
  {
   "cell_type": "code",
   "source": "train_predict = model(df_X)#forward pass\ndata_predict = train_predict.data.numpy() #numpy conversion\ndataY_plot = df_y.data.numpy()\n\ndata_predict = transformer.inverse_transform(data_predict) #reverse transformation\ndataY_plot = transformer.inverse_transform(dataY_plot)\nplt.figure(figsize=(10,6)) #plotting\nplt.axvline(x=len(X_train), c='r', linestyle='--') #size of the training set\n\nplt.plot(dataY_plot, label='Actual Data') #actual plot\nplt.plot(data_predict, label='Predicted Data') #predicted plot\nplt.title('Time-Series Prediction')\nplt.legend()\nplt.show() ",
   "metadata": {
    "cell_id": "1f3058bb-e4cd-4fa7-9681-fbcc3170d254",
    "tags": [],
    "deepnote_to_be_reexecuted": false,
    "source_hash": "563470b2",
    "execution_start": 1643332366202,
    "execution_millis": 274,
    "deepnote_output_heights": [
     375
    ],
    "deepnote_cell_type": "code"
   },
   "outputs": [
    {
     "data": {
      "text/plain": "<Figure size 720x432 with 1 Axes>",
      "image/png": "[encoded data removed]"
     },
     "metadata": {
      "needs_background": "light",
      "image/png": {
       "width": 606,
       "height": 373
      }
     },
     "output_type": "display_data"
    }
   ],
   "execution_count": 267
  },
  {
   "cell_type": "code",
   "source": "transformer = preprocessing.MaxAbsScaler()\n#df = pd.concat([data_dict['train_data'], data_dict['test_data']], ignore_index=True)\ndf = X_test\ndf_X = transformer.fit(df[feature_cols])\ndf_X = transformer.transform(df[feature_cols])\ndf_y = transformer.fit(y_test.to_numpy().reshape(-1,1))\ndf_y = transformer.transform(y_test.to_numpy().reshape(-1,1))",
   "metadata": {
    "cell_id": "9b1a6877-90b2-46d8-aa3c-c896b3d4721d",
    "tags": [],
    "deepnote_to_be_reexecuted": false,
    "source_hash": "7539f4fd",
    "execution_start": 1643332366480,
    "execution_millis": 8,
    "deepnote_output_heights": [
     1
    ],
    "deepnote_cell_type": "code"
   },
   "outputs": [],
   "execution_count": 268
  },
  {
   "cell_type": "code",
   "source": "df_X = Variable(torch.Tensor(df_X)) #converting to Tensors\ndf_y = Variable(torch.Tensor(df_y))\n\ndf_X = torch.reshape(df_X, (df_X.shape[0], 1, df_X.shape[1])) ",
   "metadata": {
    "cell_id": "41b055f7-ac64-42e4-a894-b180602a7bf5",
    "tags": [],
    "deepnote_to_be_reexecuted": false,
    "source_hash": "4605d23c",
    "execution_start": 1643332366493,
    "execution_millis": 6,
    "deepnote_cell_type": "code"
   },
   "outputs": [],
   "execution_count": 269
  },
  {
   "cell_type": "code",
   "source": "train_predict = model(df_X)#forward pass\ndata_predict = train_predict.data.numpy() #numpy conversion\ndataY_plot = df_y.data.numpy()\n\ndata_predict = transformer.inverse_transform(data_predict) #reverse transformation\ndataY_plot = transformer.inverse_transform(dataY_plot)\nplt.figure(figsize=(10,6)) #plotting\n#plt.axvline(x=len(X_train), c='r', linestyle='--') #size of the training set\n\nplt.plot(dataY_plot, label='Actual Data') #actual plot\nplt.plot(data_predict, label='Predicted Data') #predicted plot\nplt.title('Time-Series Prediction')\nplt.legend()\nplt.show() ",
   "metadata": {
    "cell_id": "d7df84f7-fa59-48af-963e-b560ef2bee87",
    "tags": [],
    "deepnote_to_be_reexecuted": false,
    "source_hash": "13a5e7a",
    "execution_start": 1643332366499,
    "execution_millis": 245,
    "deepnote_output_heights": [
     375
    ],
    "deepnote_cell_type": "code"
   },
   "outputs": [
    {
     "data": {
      "text/plain": "<Figure size 720x432 with 1 Axes>",
      "image/png": "[encoded data removed]"
     },
     "metadata": {
      "needs_background": "light",
      "image/png": {
       "width": 610,
       "height": 373
      }
     },
     "output_type": "display_data"
    }
   ],
   "execution_count": 270
  },
  {
   "cell_type": "markdown",
   "source": "## Arima Model",
   "metadata": {
    "cell_id": "37b0770c-8f74-4a5a-bea9-6ed99d795598",
    "tags": [],
    "is_collapsed": false,
    "deepnote_cell_type": "text-cell-h2"
   }
  },
  {
   "cell_type": "markdown",
   "source": "",
   "metadata": {
    "cell_id": "c431390e-9f04-442e-bd40-b336b8446b61",
    "tags": [],
    "is_collapsed": false,
    "deepnote_cell_type": "text-cell-p"
   }
  },
  {
   "cell_type": "code",
   "source": "model = ARIMA(data_dict['train_data_normalized']['Prices Belgium'].to_numpy(), \n            data_dict['train_data_normalized'][feature_cols].to_numpy(), order = (1,1,2))\n\nmodel_fit = model.fit()\nprint(model_fit.summary())",
   "metadata": {
    "cell_id": "b4c72da3-07fd-44d8-9c33-5a3c2b05090e",
    "tags": [],
    "deepnote_to_be_reexecuted": false,
    "source_hash": "3530311c",
    "execution_start": 1643332366742,
    "execution_millis": 246218,
    "deepnote_output_heights": [
     607
    ],
    "deepnote_cell_type": "code"
   },
   "outputs": [
    {
     "name": "stderr",
     "text": "/root/venv/lib/python3.7/site-packages/statsmodels/base/model.py:606: ConvergenceWarning: Maximum Likelihood optimization failed to converge. Check mle_retvals\n  ConvergenceWarning)\n                               SARIMAX Results                                \n==============================================================================\nDep. Variable:                      y   No. Observations:                43897\nModel:                 ARIMA(1, 1, 2)   Log Likelihood              124304.719\nDate:                Fri, 28 Jan 2022   AIC                        -248571.438\nTime:                        01:16:51   BIC                        -248406.336\nSample:                             0   HQIC                       -248519.405\n                              - 43897                                         \nCovariance Type:                  opg                                         \n==============================================================================\n                 coef    std err          z      P>|z|      [0.025      0.975]\n------------------------------------------------------------------------------\nx1             0.0031      0.002      1.271      0.204      -0.002       0.008\nx2             0.0165      0.003      6.048      0.000       0.011       0.022\nx3            -0.0015      0.003     -0.479      0.632      -0.008       0.005\nx4             0.0391      0.001     75.340      0.000       0.038       0.040\nx5             0.0172      0.000     37.740      0.000       0.016       0.018\nx6            -0.0048      0.001     -6.827      0.000      -0.006      -0.003\nx7            -0.0009      0.002     -0.414      0.679      -0.005       0.003\nx8             0.0307      0.007      4.265      0.000       0.017       0.045\nx9            -0.0002      0.002     -0.097      0.923      -0.004       0.004\nx10           -0.0213      0.001    -17.608      0.000      -0.024      -0.019\nx11            0.0311      0.004      8.323      0.000       0.024       0.038\nx12           -0.0030      0.002     -1.918      0.055      -0.006     6.6e-05\nx13           -0.0075      0.002     -3.614      0.000      -0.012      -0.003\nx14            0.0963      0.008     12.354      0.000       0.081       0.112\nx15            0.0594      0.008      7.296      0.000       0.043       0.075\nar.L1          0.4522      0.002    200.608      0.000       0.448       0.457\nma.L1         -0.7986      0.002   -359.165      0.000      -0.803      -0.794\nma.L2         -0.0294      0.001    -23.148      0.000      -0.032      -0.027\nsigma2         0.0002   1.38e-07   1470.429      0.000       0.000       0.000\n===================================================================================\nLjung-Box (L1) (Q):                   7.92   Jarque-Bera (JB):        1228413556.50\nProb(Q):                              0.00   Prob(JB):                         0.00\nHeteroskedasticity (H):               1.29   Skew:                            11.70\nProb(H) (two-sided):                  0.00   Kurtosis:                       822.20\n===================================================================================\n\nWarnings:\n[1] Covariance matrix calculated using the outer product of gradients (complex-step).\n",
     "output_type": "stream"
    }
   ],
   "execution_count": 271
  },
  {
   "cell_type": "code",
   "metadata": {
    "cell_id": "fc4ae9e1-7f45-452f-bfd7-a617866ec27f",
    "tags": [],
    "deepnote_to_be_reexecuted": false,
    "source_hash": "129f6d85",
    "execution_start": 1643332612963,
    "execution_millis": 288,
    "deepnote_output_heights": [
     250
    ],
    "deepnote_cell_type": "code"
   },
   "source": "plt.figure(figsize=(10,6))\nplt.plot(data_dict['train_data_normalized'].index, data_dict['train_data_normalized']['Prices Belgium'])\nplt.plot(data_dict['train_data_normalized'].index, model_fit.predict())\n\nplt.show()",
   "execution_count": 272,
   "outputs": [
    {
     "data": {
      "text/plain": "<Figure size 432x288 with 1 Axes>",
      "image/png": "[encoded data removed]"
     },
     "metadata": {
      "needs_background": "light",
      "image/png": {
       "width": 386,
       "height": 248
      }
     },
     "output_type": "display_data"
    }
   ]
  },
  {
   "cell_type": "code",
   "source": "values = []\nfor index, row in data_dict['test_data_normalized'][feature_cols].iterrows():\n    values = model_fit.forecast(exog = row.values)\n\nplt.plot(data_dict['test_data_normalized'].index, data_dict['test_data_normalized']['Prices Belgium'])\nplt.plot(data_dict['test_data_normalized'].index, values)\n\nplt.show()",
   "metadata": {
    "cell_id": "cae6206f-afee-4eef-b023-04807c88e53a",
    "tags": [],
    "deepnote_to_be_reexecuted": false,
    "source_hash": "48a49b40",
    "execution_start": 1643333173484,
    "execution_millis": 215,
    "deepnote_output_heights": [
     1,
     1
    ],
    "deepnote_cell_type": "code"
   },
   "outputs": [],
   "execution_count": 278
  },
  {
   "cell_type": "code",
   "source": "data_dict['train_data_normalized']",
   "metadata": {
    "cell_id": "73130e32-ea43-4144-8791-e910b158aab5",
    "tags": [],
    "deepnote_to_be_reexecuted": false,
    "source_hash": "6db65561",
    "execution_start": 1643331808481,
    "execution_millis": 122,
    "deepnote_cell_type": "code"
   },
   "outputs": [
    {
     "output_type": "execute_result",
     "execution_count": 227,
     "data": {
      "application/vnd.deepnote.dataframe.v3+json": {
       "column_count": 25,
       "row_count": 43897,
       "columns": [
        {
         "name": "index",
         "dtype": "int64",
         "stats": {
          "unique_count": 43897,
          "nan_count": 0,
          "min": "0",
          "max": "43896",
          "histogram": [
           {
            "bin_start": 0,
            "bin_end": 4389.6,
            "count": 4390
           },
           {
            "bin_start": 4389.6,
            "bin_end": 8779.2,
            "count": 4390
           },
           {
            "bin_start": 8779.2,
            "bin_end": 13168.800000000001,
            "count": 4389
           },
           {
            "bin_start": 13168.800000000001,
            "bin_end": 17558.4,
            "count": 4390
           },
           {
            "bin_start": 17558.4,
            "bin_end": 21948,
            "count": 4389
           },
           {
            "bin_start": 21948,
            "bin_end": 26337.600000000002,
            "count": 4390
           },
           {
            "bin_start": 26337.600000000002,
            "bin_end": 30727.200000000004,
            "count": 4390
           },
           {
            "bin_start": 30727.200000000004,
            "bin_end": 35116.8,
            "count": 4389
           },
           {
            "bin_start": 35116.8,
            "bin_end": 39506.4,
            "count": 4390
           },
           {
            "bin_start": 39506.4,
            "bin_end": 43896,
            "count": 4390
           }
          ]
         }
        },
        {
         "name": "Prices France",
         "dtype": "float64",
         "stats": {
          "unique_count": 7880,
          "nan_count": 0,
          "min": "-0.036406906099472544",
          "max": "1.0",
          "histogram": [
           {
            "bin_start": -0.036406906099472544,
            "bin_end": 0.06723378451047471,
            "count": 37426
           },
           {
            "bin_start": 0.06723378451047471,
            "bin_end": 0.17087447512042198,
            "count": 6423
           },
           {
            "bin_start": 0.17087447512042198,
            "bin_end": 0.2745151657303692,
            "count": 40
           },
           {
            "bin_start": 0.2745151657303692,
            "bin_end": 0.37815585634031645,
            "count": 4
           },
           {
            "bin_start": 0.37815585634031645,
            "bin_end": 0.4817965469502637,
            "count": 0
           },
           {
            "bin_start": 0.4817965469502637,
            "bin_end": 0.585437237560211,
            "count": 1
           },
           {
            "bin_start": 0.585437237560211,
            "bin_end": 0.6890779281701582,
            "count": 0
           },
           {
            "bin_start": 0.6890779281701582,
            "bin_end": 0.7927186187801055,
            "count": 0
           },
           {
            "bin_start": 0.7927186187801055,
            "bin_end": 0.8963593093900528,
            "count": 0
           },
           {
            "bin_start": 0.8963593093900528,
            "bin_end": 1,
            "count": 3
           }
          ]
         }
        },
        {
         "name": "Prices Belgium",
         "dtype": "float64"
        },
        {
         "name": "Biomass  - Actual Aggregated [MW]",
         "dtype": "float64"
        },
        {
         "name": "Fossil Gas  - Actual Aggregated [MW]",
         "dtype": "float64"
        },
        {
         "name": "Fossil Hard coal  - Actual Aggregated [MW]",
         "dtype": "float64"
        },
        {
         "name": "Fossil Oil  - Actual Aggregated [MW]",
         "dtype": "float64"
        },
        {
         "name": "Hydro Pumped Storage  - Actual Aggregated [MW]",
         "dtype": "float64"
        },
        {
         "name": "Hydro Pumped Storage  - Actual Consumption [MW]",
         "dtype": "float64"
        },
        {
         "name": "Hydro Run-of-river and poundage  - Actual Aggregated [MW]",
         "dtype": "float64"
        },
        {
         "name": "Nuclear  - Actual Aggregated [MW]",
         "dtype": "float64"
        },
        {
         "name": "Other  - Actual Aggregated [MW]",
         "dtype": "float64"
        },
        {
         "name": "Solar  - Actual Aggregated [MW]",
         "dtype": "float64"
        },
        {
         "name": "Waste  - Actual Aggregated [MW]",
         "dtype": "float64"
        },
        {
         "name": "Wind Offshore  - Actual Aggregated [MW]",
         "dtype": "float64"
        },
        {
         "name": "Wind Onshore  - Actual Aggregated [MW]",
         "dtype": "float64"
        },
        {
         "name": "Day-ahead Total Load Forecast [MW] - CTA|BE",
         "dtype": "float64"
        },
        {
         "name": "Actual Total Load [MW] - CTA|BE",
         "dtype": "float64"
        },
        {
         "name": "year",
         "dtype": "int64"
        },
        {
         "name": "hr_sin",
         "dtype": "float64"
        },
        {
         "name": "hr_cos",
         "dtype": "float64"
        },
        {
         "name": "day_sin",
         "dtype": "float64"
        },
        {
         "name": "day_cos",
         "dtype": "float64"
        },
        {
         "name": "mnth_sin",
         "dtype": "float64"
        },
        {
         "name": "mnth_cos",
         "dtype": "float64"
        },
        {
         "name": "_deepnote_index_column",
         "dtype": "int64"
        }
       ],
       "rows": [
        {
         "index": 0,
         "Prices France": 0.04183018500932484,
         "Prices Belgium": 0.05252722622913135,
         "Biomass  - Actual Aggregated [MW]": 0.1687344913151365,
         "Fossil Gas  - Actual Aggregated [MW]": 0.46980363097443495,
         "Fossil Hard coal  - Actual Aggregated [MW]": 0.925531914893617,
         "Fossil Oil  - Actual Aggregated [MW]": 0,
         "Hydro Pumped Storage  - Actual Aggregated [MW]": 0.28929188255613125,
         "Hydro Pumped Storage  - Actual Consumption [MW]": 0,
         "Hydro Run-of-river and poundage  - Actual Aggregated [MW]": 0.75,
         "Nuclear  - Actual Aggregated [MW]": 0.47996661101836396,
         "Other  - Actual Aggregated [MW]": 0.6451259583789705,
         "Solar  - Actual Aggregated [MW]": 0,
         "Waste  - Actual Aggregated [MW]": 0.8811881188118812,
         "Wind Offshore  - Actual Aggregated [MW]": 0.341644204851752,
         "Wind Onshore  - Actual Aggregated [MW]": 0.10405643738977072,
         "Day-ahead Total Load Forecast [MW] - CTA|BE": 0.7025736318870204,
         "Actual Total Load [MW] - CTA|BE": 0.7309303048590918,
         "year": 2015,
         "hr_sin": 0,
         "hr_cos": 1,
         "day_sin": 0,
         "day_cos": 1,
         "mnth_sin": 0,
         "mnth_cos": 1,
         "_deepnote_index_column": 0
        },
        {
         "index": 1,
         "Prices France": 0.04183018500932484,
         "Prices Belgium": 0.05252722622913135,
         "Biomass  - Actual Aggregated [MW]": 0.17121588089330025,
         "Fossil Gas  - Actual Aggregated [MW]": 0.4648017784364579,
         "Fossil Hard coal  - Actual Aggregated [MW]": 0.9234042553191489,
         "Fossil Oil  - Actual Aggregated [MW]": 0,
         "Hydro Pumped Storage  - Actual Aggregated [MW]": 0.13212435233160622,
         "Hydro Pumped Storage  - Actual Consumption [MW]": 0,
         "Hydro Run-of-river and poundage  - Actual Aggregated [MW]": 0.75,
         "Nuclear  - Actual Aggregated [MW]": 0.47996661101836396,
         "Other  - Actual Aggregated [MW]": 0.7294633077765608,
         "Solar  - Actual Aggregated [MW]": 0,
         "Waste  - Actual Aggregated [MW]": 0.8877887788778878,
         "Wind Offshore  - Actual Aggregated [MW]": 0.3308625336927224,
         "Wind Onshore  - Actual Aggregated [MW]": 0.12051734273956496,
         "Day-ahead Total Load Forecast [MW] - CTA|BE": 0.7399609774226517,
         "Actual Total Load [MW] - CTA|BE": 0.6987436220990838,
         "year": 2015,
         "hr_sin": 0.25881904510252074,
         "hr_cos": 0.9659258262890683,
         "day_sin": 0,
         "day_cos": 1,
         "mnth_sin": 0,
         "mnth_cos": 1,
         "_deepnote_index_column": 1
        },
        {
         "index": 2,
         "Prices France": 0.04183018500932484,
         "Prices Belgium": 0.05252722622913135,
         "Biomass  - Actual Aggregated [MW]": 0.17121588089330025,
         "Fossil Gas  - Actual Aggregated [MW]": 0.4562801037421267,
         "Fossil Hard coal  - Actual Aggregated [MW]": 0.925531914893617,
         "Fossil Oil  - Actual Aggregated [MW]": 0,
         "Hydro Pumped Storage  - Actual Aggregated [MW]": 0.22884283246977546,
         "Hydro Pumped Storage  - Actual Consumption [MW]": 0.005818786367414797,
         "Hydro Run-of-river and poundage  - Actual Aggregated [MW]": 0.75,
         "Nuclear  - Actual Aggregated [MW]": 0.47979966611018365,
         "Other  - Actual Aggregated [MW]": 0.7250821467688937,
         "Solar  - Actual Aggregated [MW]": 0,
         "Waste  - Actual Aggregated [MW]": 0.8943894389438944,
         "Wind Offshore  - Actual Aggregated [MW]": 0.3497304582210243,
         "Wind Onshore  - Actual Aggregated [MW]": 0.12698412698412698,
         "Day-ahead Total Load Forecast [MW] - CTA|BE": 0.7076837313016817,
         "Actual Total Load [MW] - CTA|BE": 0.6694647135202355,
         "year": 2015,
         "hr_sin": 0.49999999999999994,
         "hr_cos": 0.8660254037844387,
         "day_sin": 0,
         "day_cos": 1,
         "mnth_sin": 0,
         "mnth_cos": 1,
         "_deepnote_index_column": 2
        },
        {
         "index": 3,
         "Prices France": 0.04183018500932484,
         "Prices Belgium": 0.05252722622913135,
         "Biomass  - Actual Aggregated [MW]": 0.1687344913151365,
         "Fossil Gas  - Actual Aggregated [MW]": 0.41552426824749905,
         "Fossil Hard coal  - Actual Aggregated [MW]": 0.9276595744680851,
         "Fossil Oil  - Actual Aggregated [MW]": 0,
         "Hydro Pumped Storage  - Actual Aggregated [MW]": 0.22884283246977546,
         "Hydro Pumped Storage  - Actual Consumption [MW]": 0.007481296758104738,
         "Hydro Run-of-river and poundage  - Actual Aggregated [MW]": 0.75,
         "Nuclear  - Actual Aggregated [MW]": 0.47963272120200334,
         "Other  - Actual Aggregated [MW]": 0.6955093099671413,
         "Solar  - Actual Aggregated [MW]": 0,
         "Waste  - Actual Aggregated [MW]": 0.8778877887788779,
         "Wind Offshore  - Actual Aggregated [MW]": 0.3564690026954178,
         "Wind Onshore  - Actual Aggregated [MW]": 0.13932980599647266,
         "Day-ahead Total Load Forecast [MW] - CTA|BE": 0.6789742636811298,
         "Actual Total Load [MW] - CTA|BE": 0.64362392787257,
         "year": 2015,
         "hr_sin": 0.7071067811865475,
         "hr_cos": 0.7071067811865476,
         "day_sin": 0,
         "day_cos": 1,
         "mnth_sin": 0,
         "mnth_cos": 1,
         "_deepnote_index_column": 3
        },
        {
         "index": 4,
         "Prices France": 0.04183018500932484,
         "Prices Belgium": 0.05252722622913135,
         "Biomass  - Actual Aggregated [MW]": 0.1662531017369727,
         "Fossil Gas  - Actual Aggregated [MW]": 0.3953316042978881,
         "Fossil Hard coal  - Actual Aggregated [MW]": 0.9276595744680851,
         "Fossil Oil  - Actual Aggregated [MW]": 0,
         "Hydro Pumped Storage  - Actual Aggregated [MW]": 0.22884283246977546,
         "Hydro Pumped Storage  - Actual Consumption [MW]": 0.343308395677473,
         "Hydro Run-of-river and poundage  - Actual Aggregated [MW]": 0.7708333333333334,
         "Nuclear  - Actual Aggregated [MW]": 0.47979966611018365,
         "Other  - Actual Aggregated [MW]": 0.6538882803943045,
         "Solar  - Actual Aggregated [MW]": 0,
         "Waste  - Actual Aggregated [MW]": 0.8844884488448845,
         "Wind Offshore  - Actual Aggregated [MW]": 0.2742587601078167,
         "Wind Onshore  - Actual Aggregated [MW]": 0.19165196942974722,
         "Day-ahead Total Load Forecast [MW] - CTA|BE": 0.662194555421351,
         "Actual Total Load [MW] - CTA|BE": 0.6266893436477021,
         "year": 2015,
         "hr_sin": 0.8660254037844386,
         "hr_cos": 0.5000000000000001,
         "day_sin": 0,
         "day_cos": 1,
         "mnth_sin": 0,
         "mnth_cos": 1,
         "_deepnote_index_column": 4
        },
        {
         "index": 5,
         "Prices France": 0.04183018500932484,
         "Prices Belgium": 0.05252722622913135,
         "Biomass  - Actual Aggregated [MW]": 0.1687344913151365,
         "Fossil Gas  - Actual Aggregated [MW]": 0.4012597258243794,
         "Fossil Hard coal  - Actual Aggregated [MW]": 0.9276595744680851,
         "Fossil Oil  - Actual Aggregated [MW]": 0,
         "Hydro Pumped Storage  - Actual Aggregated [MW]": 0.22884283246977546,
         "Hydro Pumped Storage  - Actual Consumption [MW]": 0.4463840399002494,
         "Hydro Run-of-river and poundage  - Actual Aggregated [MW]": 0.7708333333333334,
         "Nuclear  - Actual Aggregated [MW]": 0.47963272120200334,
         "Other  - Actual Aggregated [MW]": 0.6538882803943045,
         "Solar  - Actual Aggregated [MW]": 0,
         "Waste  - Actual Aggregated [MW]": 0.8877887788778878,
         "Wind Offshore  - Actual Aggregated [MW]": 0.2783018867924528,
         "Wind Onshore  - Actual Aggregated [MW]": 0.18694885361552027,
         "Day-ahead Total Load Forecast [MW] - CTA|BE": 0.6545015330298244,
         "Actual Total Load [MW] - CTA|BE": 0.6208737952853824,
         "year": 2015,
         "hr_sin": 0.9659258262890682,
         "hr_cos": 0.25881904510252096,
         "day_sin": 0,
         "day_cos": 1,
         "mnth_sin": 0,
         "mnth_cos": 1,
         "_deepnote_index_column": 5
        },
        {
         "index": 6,
         "Prices France": 0.04183018500932484,
         "Prices Belgium": 0.05252722622913135,
         "Biomass  - Actual Aggregated [MW]": 0.17369727047146402,
         "Fossil Gas  - Actual Aggregated [MW]": 0.3768062245276028,
         "Fossil Hard coal  - Actual Aggregated [MW]": 0.9234042553191489,
         "Fossil Oil  - Actual Aggregated [MW]": 0,
         "Hydro Pumped Storage  - Actual Aggregated [MW]": 0.22884283246977546,
         "Hydro Pumped Storage  - Actual Consumption [MW]": 0.44305901911886947,
         "Hydro Run-of-river and poundage  - Actual Aggregated [MW]": 0.7708333333333334,
         "Nuclear  - Actual Aggregated [MW]": 0.47979966611018365,
         "Other  - Actual Aggregated [MW]": 0.6681270536692223,
         "Solar  - Actual Aggregated [MW]": 0,
         "Waste  - Actual Aggregated [MW]": 0.8712871287128713,
         "Wind Offshore  - Actual Aggregated [MW]": 0.3706199460916442,
         "Wind Onshore  - Actual Aggregated [MW]": 0.1593180482069371,
         "Day-ahead Total Load Forecast [MW] - CTA|BE": 0.6544829508501347,
         "Actual Total Load [MW] - CTA|BE": 0.6165578537334723,
         "year": 2015,
         "hr_sin": 1,
         "hr_cos": 6.123233995736766e-17,
         "day_sin": 0,
         "day_cos": 1,
         "mnth_sin": 0,
         "mnth_cos": 1,
         "_deepnote_index_column": 6
        },
        {
         "index": 7,
         "Prices France": 0.04183018500932484,
         "Prices Belgium": 0.05252722622913135,
         "Biomass  - Actual Aggregated [MW]": 0.17121588089330025,
         "Fossil Gas  - Actual Aggregated [MW]": 0.36865505742867727,
         "Fossil Hard coal  - Actual Aggregated [MW]": 0.9276595744680851,
         "Fossil Oil  - Actual Aggregated [MW]": 0,
         "Hydro Pumped Storage  - Actual Aggregated [MW]": 0.22884283246977546,
         "Hydro Pumped Storage  - Actual Consumption [MW]": 0.42975893599334997,
         "Hydro Run-of-river and poundage  - Actual Aggregated [MW]": 0.75,
         "Nuclear  - Actual Aggregated [MW]": 0.47979966611018365,
         "Other  - Actual Aggregated [MW]": 0.6703176341730559,
         "Solar  - Actual Aggregated [MW]": 0,
         "Waste  - Actual Aggregated [MW]": 0.8679867986798679,
         "Wind Offshore  - Actual Aggregated [MW]": 0.41509433962264153,
         "Wind Onshore  - Actual Aggregated [MW]": 0.19047619047619047,
         "Day-ahead Total Load Forecast [MW] - CTA|BE": 0.6430549103409829,
         "Actual Total Load [MW] - CTA|BE": 0.5941734789049212,
         "year": 2015,
         "hr_sin": 0.9659258262890683,
         "hr_cos": -0.25881904510252063,
         "day_sin": 0,
         "day_cos": 1,
         "mnth_sin": 0,
         "mnth_cos": 1,
         "_deepnote_index_column": 7
        },
        {
         "index": 8,
         "Prices France": 0.04183018500932484,
         "Prices Belgium": 0.05252722622913135,
         "Biomass  - Actual Aggregated [MW]": 0.1687344913151365,
         "Fossil Gas  - Actual Aggregated [MW]": 0.3610596517228603,
         "Fossil Hard coal  - Actual Aggregated [MW]": 0.8829787234042553,
         "Fossil Oil  - Actual Aggregated [MW]": 0,
         "Hydro Pumped Storage  - Actual Aggregated [MW]": 0.22884283246977546,
         "Hydro Pumped Storage  - Actual Consumption [MW]": 0.007481296758104738,
         "Hydro Run-of-river and poundage  - Actual Aggregated [MW]": 0.75,
         "Nuclear  - Actual Aggregated [MW]": 0.47979966611018365,
         "Other  - Actual Aggregated [MW]": 0.6637458926615553,
         "Solar  - Actual Aggregated [MW]": 0,
         "Waste  - Actual Aggregated [MW]": 0.8811881188118812,
         "Wind Offshore  - Actual Aggregated [MW]": 0.42318059299191374,
         "Wind Onshore  - Actual Aggregated [MW]": 0.27042915931804823,
         "Day-ahead Total Load Forecast [MW] - CTA|BE": 0.6447644708724334,
         "Actual Total Load [MW] - CTA|BE": 0.5983248294654451,
         "year": 2015,
         "hr_sin": 0.8660254037844387,
         "hr_cos": -0.4999999999999998,
         "day_sin": 0,
         "day_cos": 1,
         "mnth_sin": 0,
         "mnth_cos": 1,
         "_deepnote_index_column": 8
        },
        {
         "index": 9,
         "Prices France": 0.04183018500932484,
         "Prices Belgium": 0.05252722622913135,
         "Biomass  - Actual Aggregated [MW]": 0.19106699751861042,
         "Fossil Gas  - Actual Aggregated [MW]": 0.34179325676176364,
         "Fossil Hard coal  - Actual Aggregated [MW]": 0.7042553191489361,
         "Fossil Oil  - Actual Aggregated [MW]": 0,
         "Hydro Pumped Storage  - Actual Aggregated [MW]": 0.22884283246977546,
         "Hydro Pumped Storage  - Actual Consumption [MW]": 0.007481296758104738,
         "Hydro Run-of-river and poundage  - Actual Aggregated [MW]": 0.7708333333333334,
         "Nuclear  - Actual Aggregated [MW]": 0.47963272120200334,
         "Other  - Actual Aggregated [MW]": 0.6473165388828039,
         "Solar  - Actual Aggregated [MW]": 0.03434268833087149,
         "Waste  - Actual Aggregated [MW]": 0.8679867986798679,
         "Wind Offshore  - Actual Aggregated [MW]": 0.43463611859838275,
         "Wind Onshore  - Actual Aggregated [MW]": 0.2951205173427396,
         "Day-ahead Total Load Forecast [MW] - CTA|BE": 0.6717457957818452,
         "Actual Total Load [MW] - CTA|BE": 0.6100473656297434,
         "year": 2015,
         "hr_sin": 0.7071067811865476,
         "hr_cos": -0.7071067811865475,
         "day_sin": 0,
         "day_cos": 1,
         "mnth_sin": 0,
         "mnth_cos": 1,
         "_deepnote_index_column": 9
        }
       ]
      },
      "text/plain": "       index  Prices France  Prices Belgium  \\\n0          0       0.041830        0.052527   \n1          1       0.041830        0.052527   \n2          2       0.041830        0.052527   \n3          3       0.041830        0.052527   \n4          4       0.041830        0.052527   \n...      ...            ...             ...   \n43892  43892       0.052700        0.066176   \n43893  43893       0.054610        0.068576   \n43894  43894       0.052631        0.066090   \n43895  43895       0.048283        0.060630   \n43896  43896       0.045469        0.057096   \n\n       Biomass  - Actual Aggregated [MW]  \\\n0                               0.168734   \n1                               0.171216   \n2                               0.171216   \n3                               0.168734   \n4                               0.166253   \n...                                  ...   \n43892                           0.898263   \n43893                           0.903226   \n43894                           0.905707   \n43895                           0.900744   \n43896                           0.895782   \n\n       Fossil Gas  - Actual Aggregated [MW]  \\\n0                                  0.469804   \n1                                  0.464802   \n2                                  0.456280   \n3                                  0.415524   \n4                                  0.395332   \n...                                     ...   \n43892                              0.405335   \n43893                              0.408114   \n43894                              0.391627   \n43895                              0.372175   \n43896                              0.381993   \n\n       Fossil Hard coal  - Actual Aggregated [MW]  \\\n0                                        0.925532   \n1                                        0.923404   \n2                                        0.925532   \n3                                        0.927660   \n4                                        0.927660   \n...                                           ...   \n43892                                    0.000000   \n43893                                    0.000000   \n43894                                    0.000000   \n43895                                    0.000000   \n43896                                    0.000000   \n\n       Fossil Oil  - Actual Aggregated [MW]  \\\n0                                       0.0   \n1                                       0.0   \n2                                       0.0   \n3                                       0.0   \n4                                       0.0   \n...                                     ...   \n43892                                   0.0   \n43893                                   0.0   \n43894                                   0.0   \n43895                                   0.0   \n43896                                   0.0   \n\n       Hydro Pumped Storage  - Actual Aggregated [MW]  \\\n0                                            0.289292   \n1                                            0.132124   \n2                                            0.228843   \n3                                            0.228843   \n4                                            0.228843   \n...                                               ...   \n43892                                        0.244387   \n43893                                        0.308290   \n43894                                        0.280656   \n43895                                        0.025043   \n43896                                        0.039724   \n\n       Hydro Pumped Storage  - Actual Consumption [MW]  \\\n0                                             0.000000   \n1                                             0.000000   \n2                                             0.005819   \n3                                             0.007481   \n4                                             0.343308   \n...                                                ...   \n43892                                         0.000831   \n43893                                         0.000831   \n43894                                         0.000831   \n43895                                         0.000831   \n43896                                         0.005819   \n\n       Hydro Run-of-river and poundage  - Actual Aggregated [MW]  ...  \\\n0                                               0.750000          ...   \n1                                               0.750000          ...   \n2                                               0.750000          ...   \n3                                               0.750000          ...   \n4                                               0.770833          ...   \n...                                                  ...          ...   \n43892                                           0.645833          ...   \n43893                                           0.645833          ...   \n43894                                           0.645833          ...   \n43895                                           0.645833          ...   \n43896                                           0.645833          ...   \n\n       Wind Onshore  - Actual Aggregated [MW]  \\\n0                                    0.104056   \n1                                    0.120517   \n2                                    0.126984   \n3                                    0.139330   \n4                                    0.191652   \n...                                       ...   \n43892                                0.090535   \n43893                                0.139918   \n43894                                0.217519   \n43895                                0.256320   \n43896                                0.272193   \n\n       Day-ahead Total Load Forecast [MW] - CTA|BE  \\\n0                                         0.702574   \n1                                         0.739961   \n2                                         0.707684   \n3                                         0.678974   \n4                                         0.662195   \n...                                            ...   \n43892                                     0.807990   \n43893                                     0.805872   \n43894                                     0.777794   \n43895                                     0.738456   \n43896                                     0.706253   \n\n       Actual Total Load [MW] - CTA|BE  year    hr_sin        hr_cos  \\\n0                             0.730930  2015  0.000000  1.000000e+00   \n1                             0.698744  2015  0.258819  9.659258e-01   \n2                             0.669465  2015  0.500000  8.660254e-01   \n3                             0.643624  2015  0.707107  7.071068e-01   \n4                             0.626689  2015  0.866025  5.000000e-01   \n...                                ...   ...       ...           ...   \n43892                         0.759386  2019 -0.965926 -2.588190e-01   \n43893                         0.735447  2019 -1.000000 -1.836970e-16   \n43894                         0.705144  2019 -0.965926  2.588190e-01   \n43895                         0.685320  2019 -0.866025  5.000000e-01   \n43896                         0.666008  2019 -0.707107  7.071068e-01   \n\n        day_sin   day_cos  mnth_sin  mnth_cos  \n0      0.000000  1.000000       0.0  1.000000  \n1      0.000000  1.000000       0.0  1.000000  \n2      0.000000  1.000000       0.0  1.000000  \n3      0.000000  1.000000       0.0  1.000000  \n4      0.000000  1.000000       0.0  1.000000  \n...         ...       ...       ...       ...  \n43892  0.974928 -0.222521      -0.5  0.866025  \n43893  0.974928 -0.222521      -0.5  0.866025  \n43894  0.974928 -0.222521      -0.5  0.866025  \n43895  0.974928 -0.222521      -0.5  0.866025  \n43896  0.974928 -0.222521      -0.5  0.866025  \n\n[43897 rows x 25 columns]",
      "text/html": "<div>\n<style scoped>\n    .dataframe tbody tr th:only-of-type {\n        vertical-align: middle;\n    }\n\n    .dataframe tbody tr th {\n        vertical-align: top;\n    }\n\n    .dataframe thead th {\n        text-align: right;\n    }\n</style>\n<table border=\"1\" class=\"dataframe\">\n  <thead>\n    <tr style=\"text-align: right;\">\n      <th></th>\n      <th>index</th>\n      <th>Prices France</th>\n      <th>Prices Belgium</th>\n      <th>Biomass  - Actual Aggregated [MW]</th>\n      <th>Fossil Gas  - Actual Aggregated [MW]</th>\n      <th>Fossil Hard coal  - Actual Aggregated [MW]</th>\n      <th>Fossil Oil  - Actual Aggregated [MW]</th>\n      <th>Hydro Pumped Storage  - Actual Aggregated [MW]</th>\n      <th>Hydro Pumped Storage  - Actual Consumption [MW]</th>\n      <th>Hydro Run-of-river and poundage  - Actual Aggregated [MW]</th>\n      <th>...</th>\n      <th>Wind Onshore  - Actual Aggregated [MW]</th>\n      <th>Day-ahead Total Load Forecast [MW] - CTA|BE</th>\n      <th>Actual Total Load [MW] - CTA|BE</th>\n      <th>year</th>\n      <th>hr_sin</th>\n      <th>hr_cos</th>\n      <th>day_sin</th>\n      <th>day_cos</th>\n      <th>mnth_sin</th>\n      <th>mnth_cos</th>\n    </tr>\n  </thead>\n  <tbody>\n    <tr>\n      <th>0</th>\n      <td>0</td>\n      <td>0.041830</td>\n      <td>0.052527</td>\n      <td>0.168734</td>\n      <td>0.469804</td>\n      <td>0.925532</td>\n      <td>0.0</td>\n      <td>0.289292</td>\n      <td>0.000000</td>\n      <td>0.750000</td>\n      <td>...</td>\n      <td>0.104056</td>\n      <td>0.702574</td>\n      <td>0.730930</td>\n      <td>2015</td>\n      <td>0.000000</td>\n      <td>1.000000e+00</td>\n      <td>0.000000</td>\n      <td>1.000000</td>\n      <td>0.0</td>\n      <td>1.000000</td>\n    </tr>\n    <tr>\n      <th>1</th>\n      <td>1</td>\n      <td>0.041830</td>\n      <td>0.052527</td>\n      <td>0.171216</td>\n      <td>0.464802</td>\n      <td>0.923404</td>\n      <td>0.0</td>\n      <td>0.132124</td>\n      <td>0.000000</td>\n      <td>0.750000</td>\n      <td>...</td>\n      <td>0.120517</td>\n      <td>0.739961</td>\n      <td>0.698744</td>\n      <td>2015</td>\n      <td>0.258819</td>\n      <td>9.659258e-01</td>\n      <td>0.000000</td>\n      <td>1.000000</td>\n      <td>0.0</td>\n      <td>1.000000</td>\n    </tr>\n    <tr>\n      <th>2</th>\n      <td>2</td>\n      <td>0.041830</td>\n      <td>0.052527</td>\n      <td>0.171216</td>\n      <td>0.456280</td>\n      <td>0.925532</td>\n      <td>0.0</td>\n      <td>0.228843</td>\n      <td>0.005819</td>\n      <td>0.750000</td>\n      <td>...</td>\n      <td>0.126984</td>\n      <td>0.707684</td>\n      <td>0.669465</td>\n      <td>2015</td>\n      <td>0.500000</td>\n      <td>8.660254e-01</td>\n      <td>0.000000</td>\n      <td>1.000000</td>\n      <td>0.0</td>\n      <td>1.000000</td>\n    </tr>\n    <tr>\n      <th>3</th>\n      <td>3</td>\n      <td>0.041830</td>\n      <td>0.052527</td>\n      <td>0.168734</td>\n      <td>0.415524</td>\n      <td>0.927660</td>\n      <td>0.0</td>\n      <td>0.228843</td>\n      <td>0.007481</td>\n      <td>0.750000</td>\n      <td>...</td>\n      <td>0.139330</td>\n      <td>0.678974</td>\n      <td>0.643624</td>\n      <td>2015</td>\n      <td>0.707107</td>\n      <td>7.071068e-01</td>\n      <td>0.000000</td>\n      <td>1.000000</td>\n      <td>0.0</td>\n      <td>1.000000</td>\n    </tr>\n    <tr>\n      <th>4</th>\n      <td>4</td>\n      <td>0.041830</td>\n      <td>0.052527</td>\n      <td>0.166253</td>\n      <td>0.395332</td>\n      <td>0.927660</td>\n      <td>0.0</td>\n      <td>0.228843</td>\n      <td>0.343308</td>\n      <td>0.770833</td>\n      <td>...</td>\n      <td>0.191652</td>\n      <td>0.662195</td>\n      <td>0.626689</td>\n      <td>2015</td>\n      <td>0.866025</td>\n      <td>5.000000e-01</td>\n      <td>0.000000</td>\n      <td>1.000000</td>\n      <td>0.0</td>\n      <td>1.000000</td>\n    </tr>\n    <tr>\n      <th>...</th>\n      <td>...</td>\n      <td>...</td>\n      <td>...</td>\n      <td>...</td>\n      <td>...</td>\n      <td>...</td>\n      <td>...</td>\n      <td>...</td>\n      <td>...</td>\n      <td>...</td>\n      <td>...</td>\n      <td>...</td>\n      <td>...</td>\n      <td>...</td>\n      <td>...</td>\n      <td>...</td>\n      <td>...</td>\n      <td>...</td>\n      <td>...</td>\n      <td>...</td>\n      <td>...</td>\n    </tr>\n    <tr>\n      <th>43892</th>\n      <td>43892</td>\n      <td>0.052700</td>\n      <td>0.066176</td>\n      <td>0.898263</td>\n      <td>0.405335</td>\n      <td>0.000000</td>\n      <td>0.0</td>\n      <td>0.244387</td>\n      <td>0.000831</td>\n      <td>0.645833</td>\n      <td>...</td>\n      <td>0.090535</td>\n      <td>0.807990</td>\n      <td>0.759386</td>\n      <td>2019</td>\n      <td>-0.965926</td>\n      <td>-2.588190e-01</td>\n      <td>0.974928</td>\n      <td>-0.222521</td>\n      <td>-0.5</td>\n      <td>0.866025</td>\n    </tr>\n    <tr>\n      <th>43893</th>\n      <td>43893</td>\n      <td>0.054610</td>\n      <td>0.068576</td>\n      <td>0.903226</td>\n      <td>0.408114</td>\n      <td>0.000000</td>\n      <td>0.0</td>\n      <td>0.308290</td>\n      <td>0.000831</td>\n      <td>0.645833</td>\n      <td>...</td>\n      <td>0.139918</td>\n      <td>0.805872</td>\n      <td>0.735447</td>\n      <td>2019</td>\n      <td>-1.000000</td>\n      <td>-1.836970e-16</td>\n      <td>0.974928</td>\n      <td>-0.222521</td>\n      <td>-0.5</td>\n      <td>0.866025</td>\n    </tr>\n    <tr>\n      <th>43894</th>\n      <td>43894</td>\n      <td>0.052631</td>\n      <td>0.066090</td>\n      <td>0.905707</td>\n      <td>0.391627</td>\n      <td>0.000000</td>\n      <td>0.0</td>\n      <td>0.280656</td>\n      <td>0.000831</td>\n      <td>0.645833</td>\n      <td>...</td>\n      <td>0.217519</td>\n      <td>0.777794</td>\n      <td>0.705144</td>\n      <td>2019</td>\n      <td>-0.965926</td>\n      <td>2.588190e-01</td>\n      <td>0.974928</td>\n      <td>-0.222521</td>\n      <td>-0.5</td>\n      <td>0.866025</td>\n    </tr>\n    <tr>\n      <th>43895</th>\n      <td>43895</td>\n      <td>0.048283</td>\n      <td>0.060630</td>\n      <td>0.900744</td>\n      <td>0.372175</td>\n      <td>0.000000</td>\n      <td>0.0</td>\n      <td>0.025043</td>\n      <td>0.000831</td>\n      <td>0.645833</td>\n      <td>...</td>\n      <td>0.256320</td>\n      <td>0.738456</td>\n      <td>0.685320</td>\n      <td>2019</td>\n      <td>-0.866025</td>\n      <td>5.000000e-01</td>\n      <td>0.974928</td>\n      <td>-0.222521</td>\n      <td>-0.5</td>\n      <td>0.866025</td>\n    </tr>\n    <tr>\n      <th>43896</th>\n      <td>43896</td>\n      <td>0.045469</td>\n      <td>0.057096</td>\n      <td>0.895782</td>\n      <td>0.381993</td>\n      <td>0.000000</td>\n      <td>0.0</td>\n      <td>0.039724</td>\n      <td>0.005819</td>\n      <td>0.645833</td>\n      <td>...</td>\n      <td>0.272193</td>\n      <td>0.706253</td>\n      <td>0.666008</td>\n      <td>2019</td>\n      <td>-0.707107</td>\n      <td>7.071068e-01</td>\n      <td>0.974928</td>\n      <td>-0.222521</td>\n      <td>-0.5</td>\n      <td>0.866025</td>\n    </tr>\n  </tbody>\n</table>\n<p>43897 rows × 25 columns</p>\n</div>"
     },
     "metadata": {}
    }
   ],
   "execution_count": 227
  },
  {
   "cell_type": "markdown",
   "source": "<a style='text-decoration:none;line-height:16px;display:flex;color:#5B5B62;padding:10px;justify-content:end;' href='https://deepnote.com?utm_source=created-in-deepnote-cell&projectId=ca6f955c-b181-41cc-a47f-43205351cbaf' target=\"_blank\">\n<img alt='Created in deepnote.com' style='display:inline;max-height:16px;margin:0px;margin-right:7.5px;' src='data:image/svg+xml;base64,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' > </img>\nCreated in <span style='font-weight:600;margin-left:4px;'>Deepnote</span></a>",
   "metadata": {
    "tags": [],
    "created_in_deepnote_cell": true,
    "deepnote_cell_type": "markdown"
   }
  }
 ],
 "nbformat": 4,
 "nbformat_minor": 0,
 "metadata": {
  "colab": {
   "name": "test.ipynb",
   "provenance": [],
   "collapsed_sections": []
  },
  "kernelspec": {
   "name": "python3",
   "display_name": "Python 3"
  },
  "language_info": {
   "name": "python"
  },
  "deepnote_notebook_id": "45506785-a296-4c56-88e7-184623a0d938",
  "deepnote": {},
  "deepnote_execution_queue": [
   {
    "cellId": "cae6206f-afee-4eef-b023-04807c88e53a",
    "sessionId": "d108a9c3-16c2-49f1-84c4-e889b021f9b4",
    "msgId": "66845c46-5928-4c1c-a3cd-dae055f03965"
   }
  ]
 }
}